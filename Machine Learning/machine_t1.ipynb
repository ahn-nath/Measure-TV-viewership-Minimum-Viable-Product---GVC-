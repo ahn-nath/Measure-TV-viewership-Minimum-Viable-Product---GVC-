{
 "cells": [
  {
   "cell_type": "code",
   "execution_count": 78,
   "metadata": {},
   "outputs": [],
   "source": [
    "import pandas as pd\n",
    "from pandas import DataFrame\n",
    "import numpy as np \n",
    "import matplotlib as mpl\n",
    "import matplotlib.pyplot as plt\n",
    "from matplotlib import style\n",
    "\n",
    "\n",
    "# import data with user sessions info \n",
    "df = pd.read_csv('fact_user_session.csv')\n",
    "\n",
    "# import data with channel info to associate information\n",
    "df_channels = pd.read_csv('channel.csv')\n",
    "\n",
    "#import data with users info to associate \n",
    "df_users = pd.read_csv('users_sample.csv')\n"
   ]
  },
  {
   "cell_type": "code",
   "execution_count": 91,
   "metadata": {},
   "outputs": [],
   "source": [
    "# matplob style for graphs\n",
    "style.use('dark_background')"
   ]
  },
  {
   "cell_type": "code",
   "execution_count": 40,
   "metadata": {},
   "outputs": [
    {
     "data": {
      "text/plain": [
       "Index(['SESSION_ID', 'DEVICEUSER_ID', 'CHANNEL_ID', 'SESSION_START',\n",
       "       'SESSION_END', 'DURATION'],\n",
       "      dtype='object')"
      ]
     },
     "metadata": {},
     "output_type": "display_data"
    },
    {
     "data": {
      "text/plain": [
       "(410536, 6)"
      ]
     },
     "metadata": {},
     "output_type": "display_data"
    }
   ],
   "source": [
    "# description  \n",
    "display(df.columns)\n",
    "display(df.shape)"
   ]
  },
  {
   "cell_type": "code",
   "execution_count": 41,
   "metadata": {},
   "outputs": [
    {
     "data": {
      "text/plain": [
       "Index(['Channel_id', 'Channel_name', 'Active'], dtype='object')"
      ]
     },
     "metadata": {},
     "output_type": "display_data"
    },
    {
     "data": {
      "text/plain": [
       "(25, 3)"
      ]
     },
     "metadata": {},
     "output_type": "display_data"
    }
   ],
   "source": [
    "display(df_channels.columns)\n",
    "display(df_channels.shape)"
   ]
  },
  {
   "cell_type": "code",
   "execution_count": 9,
   "metadata": {},
   "outputs": [
    {
     "data": {
      "text/plain": [
       "'\\nSPECIFIC TO CHANNEL\\n'"
      ]
     },
     "execution_count": 9,
     "metadata": {},
     "output_type": "execute_result"
    }
   ],
   "source": [
    "\"\"\"\n",
    "SPECIFIC TO CHANNEL\n",
    "\"\"\""
   ]
  },
  {
   "cell_type": "code",
   "execution_count": 81,
   "metadata": {},
   "outputs": [],
   "source": [
    "# merge tables to get associated 'channel names' and 'channel ids'\n",
    "df = pd.merge(df, df_channels, left_on=['CHANNEL_ID'],\n",
    "     right_on=['Channel_id'],\n",
    "     how='left')\n",
    "\n",
    "# drop unnecesary columns from other channels dataframe\n",
    "df.drop(columns = ['Active'], inplace = True) "
   ]
  },
  {
   "cell_type": "code",
   "execution_count": 82,
   "metadata": {},
   "outputs": [
    {
     "data": {
      "text/html": [
       "<div>\n",
       "<style scoped>\n",
       "    .dataframe tbody tr th:only-of-type {\n",
       "        vertical-align: middle;\n",
       "    }\n",
       "\n",
       "    .dataframe tbody tr th {\n",
       "        vertical-align: top;\n",
       "    }\n",
       "\n",
       "    .dataframe thead th {\n",
       "        text-align: right;\n",
       "    }\n",
       "</style>\n",
       "<table border=\"1\" class=\"dataframe\">\n",
       "  <thead>\n",
       "    <tr style=\"text-align: right;\">\n",
       "      <th></th>\n",
       "      <th>SESSION_ID</th>\n",
       "      <th>DEVICEUSER_ID</th>\n",
       "      <th>CHANNEL_ID</th>\n",
       "      <th>SESSION_START</th>\n",
       "      <th>SESSION_END</th>\n",
       "      <th>DURATION</th>\n",
       "      <th>Channel_id</th>\n",
       "      <th>Channel_name</th>\n",
       "    </tr>\n",
       "  </thead>\n",
       "  <tbody>\n",
       "    <tr>\n",
       "      <th>0</th>\n",
       "      <td>387687</td>\n",
       "      <td>5e3d2735ffc977001ea26e45</td>\n",
       "      <td>57ea31912bb6581000092e89</td>\n",
       "      <td>2021-01-10 07:17:39.071</td>\n",
       "      <td>2021-01-10 07:50:54.071</td>\n",
       "      <td>1995</td>\n",
       "      <td>57ea31912bb6581000092e89</td>\n",
       "      <td>Óčko Star</td>\n",
       "    </tr>\n",
       "    <tr>\n",
       "      <th>1</th>\n",
       "      <td>460589</td>\n",
       "      <td>5e3d2735ffc977001ea26e45</td>\n",
       "      <td>57ea31912bb6581000092e89</td>\n",
       "      <td>2021-01-10 07:51:19.181</td>\n",
       "      <td>2021-01-10 07:51:34.181</td>\n",
       "      <td>15</td>\n",
       "      <td>57ea31912bb6581000092e89</td>\n",
       "      <td>Óčko Star</td>\n",
       "    </tr>\n",
       "    <tr>\n",
       "      <th>2</th>\n",
       "      <td>461871</td>\n",
       "      <td>5e3d2735ffc977001ea26e45</td>\n",
       "      <td>57ea31912bb6581000092e89</td>\n",
       "      <td>2021-01-10 07:51:50.266</td>\n",
       "      <td>2021-01-10 07:52:05.266</td>\n",
       "      <td>15</td>\n",
       "      <td>57ea31912bb6581000092e89</td>\n",
       "      <td>Óčko Star</td>\n",
       "    </tr>\n",
       "    <tr>\n",
       "      <th>3</th>\n",
       "      <td>463162</td>\n",
       "      <td>5e3d2735ffc977001ea26e45</td>\n",
       "      <td>57ea31912bb6581000092e89</td>\n",
       "      <td>2021-01-10 07:52:21.379</td>\n",
       "      <td>2021-01-10 07:52:36.379</td>\n",
       "      <td>15</td>\n",
       "      <td>57ea31912bb6581000092e89</td>\n",
       "      <td>Óčko Star</td>\n",
       "    </tr>\n",
       "    <tr>\n",
       "      <th>4</th>\n",
       "      <td>464429</td>\n",
       "      <td>5e3d2735ffc977001ea26e45</td>\n",
       "      <td>57ea31912bb6581000092e89</td>\n",
       "      <td>2021-01-10 07:52:52.544</td>\n",
       "      <td>2021-01-10 07:52:52.544</td>\n",
       "      <td>0</td>\n",
       "      <td>57ea31912bb6581000092e89</td>\n",
       "      <td>Óčko Star</td>\n",
       "    </tr>\n",
       "    <tr>\n",
       "      <th>...</th>\n",
       "      <td>...</td>\n",
       "      <td>...</td>\n",
       "      <td>...</td>\n",
       "      <td>...</td>\n",
       "      <td>...</td>\n",
       "      <td>...</td>\n",
       "      <td>...</td>\n",
       "      <td>...</td>\n",
       "    </tr>\n",
       "    <tr>\n",
       "      <th>410531</th>\n",
       "      <td>529593</td>\n",
       "      <td>5ffe18ace8df6a0017525041</td>\n",
       "      <td>57ea31912bb6581000092e89</td>\n",
       "      <td>2021-01-12 21:46:20.195</td>\n",
       "      <td>2021-01-12 21:46:20.195</td>\n",
       "      <td>0</td>\n",
       "      <td>57ea31912bb6581000092e89</td>\n",
       "      <td>Óčko Star</td>\n",
       "    </tr>\n",
       "    <tr>\n",
       "      <th>410532</th>\n",
       "      <td>529766</td>\n",
       "      <td>5ffe18b0e8df6a001752508a</td>\n",
       "      <td>57ea31912bb6581000092e89</td>\n",
       "      <td>2021-01-12 21:46:24.401</td>\n",
       "      <td>2021-01-12 21:46:39.401</td>\n",
       "      <td>15</td>\n",
       "      <td>57ea31912bb6581000092e89</td>\n",
       "      <td>Óčko Star</td>\n",
       "    </tr>\n",
       "    <tr>\n",
       "      <th>410533</th>\n",
       "      <td>529866</td>\n",
       "      <td>5ffe18b2e8df6a00175250b5</td>\n",
       "      <td>57ea31912bb6581000092e89</td>\n",
       "      <td>2021-01-12 21:46:26.726</td>\n",
       "      <td>2021-01-12 21:46:41.726</td>\n",
       "      <td>15</td>\n",
       "      <td>57ea31912bb6581000092e89</td>\n",
       "      <td>Óčko Star</td>\n",
       "    </tr>\n",
       "    <tr>\n",
       "      <th>410534</th>\n",
       "      <td>530155</td>\n",
       "      <td>5ffe18b98df5f60017d4e3e6</td>\n",
       "      <td>57ea31912bb6581000092e89</td>\n",
       "      <td>2021-01-12 21:46:33.673</td>\n",
       "      <td>2021-01-12 21:46:33.673</td>\n",
       "      <td>0</td>\n",
       "      <td>57ea31912bb6581000092e89</td>\n",
       "      <td>Óčko Star</td>\n",
       "    </tr>\n",
       "    <tr>\n",
       "      <th>410535</th>\n",
       "      <td>530431</td>\n",
       "      <td>5ffe18c08df5f60017d4e41f</td>\n",
       "      <td>57ea31912bb6581000092e89</td>\n",
       "      <td>2021-01-12 21:46:40.072</td>\n",
       "      <td>2021-01-12 21:46:40.072</td>\n",
       "      <td>0</td>\n",
       "      <td>57ea31912bb6581000092e89</td>\n",
       "      <td>Óčko Star</td>\n",
       "    </tr>\n",
       "  </tbody>\n",
       "</table>\n",
       "<p>410526 rows × 8 columns</p>\n",
       "</div>"
      ],
      "text/plain": [
       "        SESSION_ID             DEVICEUSER_ID                CHANNEL_ID  \\\n",
       "0           387687  5e3d2735ffc977001ea26e45  57ea31912bb6581000092e89   \n",
       "1           460589  5e3d2735ffc977001ea26e45  57ea31912bb6581000092e89   \n",
       "2           461871  5e3d2735ffc977001ea26e45  57ea31912bb6581000092e89   \n",
       "3           463162  5e3d2735ffc977001ea26e45  57ea31912bb6581000092e89   \n",
       "4           464429  5e3d2735ffc977001ea26e45  57ea31912bb6581000092e89   \n",
       "...            ...                       ...                       ...   \n",
       "410531      529593  5ffe18ace8df6a0017525041  57ea31912bb6581000092e89   \n",
       "410532      529766  5ffe18b0e8df6a001752508a  57ea31912bb6581000092e89   \n",
       "410533      529866  5ffe18b2e8df6a00175250b5  57ea31912bb6581000092e89   \n",
       "410534      530155  5ffe18b98df5f60017d4e3e6  57ea31912bb6581000092e89   \n",
       "410535      530431  5ffe18c08df5f60017d4e41f  57ea31912bb6581000092e89   \n",
       "\n",
       "                  SESSION_START              SESSION_END  DURATION  \\\n",
       "0       2021-01-10 07:17:39.071  2021-01-10 07:50:54.071      1995   \n",
       "1       2021-01-10 07:51:19.181  2021-01-10 07:51:34.181        15   \n",
       "2       2021-01-10 07:51:50.266  2021-01-10 07:52:05.266        15   \n",
       "3       2021-01-10 07:52:21.379  2021-01-10 07:52:36.379        15   \n",
       "4       2021-01-10 07:52:52.544  2021-01-10 07:52:52.544         0   \n",
       "...                         ...                      ...       ...   \n",
       "410531  2021-01-12 21:46:20.195  2021-01-12 21:46:20.195         0   \n",
       "410532  2021-01-12 21:46:24.401  2021-01-12 21:46:39.401        15   \n",
       "410533  2021-01-12 21:46:26.726  2021-01-12 21:46:41.726        15   \n",
       "410534  2021-01-12 21:46:33.673  2021-01-12 21:46:33.673         0   \n",
       "410535  2021-01-12 21:46:40.072  2021-01-12 21:46:40.072         0   \n",
       "\n",
       "                      Channel_id Channel_name  \n",
       "0       57ea31912bb6581000092e89    Óčko Star  \n",
       "1       57ea31912bb6581000092e89    Óčko Star  \n",
       "2       57ea31912bb6581000092e89    Óčko Star  \n",
       "3       57ea31912bb6581000092e89    Óčko Star  \n",
       "4       57ea31912bb6581000092e89    Óčko Star  \n",
       "...                          ...          ...  \n",
       "410531  57ea31912bb6581000092e89    Óčko Star  \n",
       "410532  57ea31912bb6581000092e89    Óčko Star  \n",
       "410533  57ea31912bb6581000092e89    Óčko Star  \n",
       "410534  57ea31912bb6581000092e89    Óčko Star  \n",
       "410535  57ea31912bb6581000092e89    Óčko Star  \n",
       "\n",
       "[410526 rows x 8 columns]"
      ]
     },
     "execution_count": 82,
     "metadata": {},
     "output_type": "execute_result"
    }
   ],
   "source": [
    "# remove NaN values for accuracy \n",
    "df= df[df['Channel_name'].notna()]\n",
    "df"
   ]
  },
  {
   "cell_type": "code",
   "execution_count": 83,
   "metadata": {},
   "outputs": [
    {
     "data": {
      "text/plain": [
       "{'Dajto', 'Óčko Star'}"
      ]
     },
     "execution_count": 83,
     "metadata": {},
     "output_type": "execute_result"
    }
   ],
   "source": [
    "# get unique channel identifiers\n",
    "channels = set(df['Channel_name'])\n",
    "channels"
   ]
  },
  {
   "cell_type": "code",
   "execution_count": 67,
   "metadata": {},
   "outputs": [
    {
     "name": "stderr",
     "output_type": "stream",
     "text": [
      "C:\\Users\\Ahn\\anaconda3\\lib\\site-packages\\pandas\\core\\generic.py:5168: SettingWithCopyWarning: \n",
      "A value is trying to be set on a copy of a slice from a DataFrame.\n",
      "Try using .loc[row_indexer,col_indexer] = value instead\n",
      "\n",
      "See the caveats in the documentation: https://pandas.pydata.org/pandas-docs/stable/user_guide/indexing.html#returning-a-view-versus-a-copy\n",
      "  self[name] = value\n"
     ]
    },
    {
     "name": "stdout",
     "output_type": "stream",
     "text": [
      "User count per hour for Óčko Star channel\n",
      "\n"
     ]
    },
    {
     "data": {
      "text/plain": [
       "SESSION_START\n",
       "08:00    19223\n",
       "09:00    12987\n",
       "10:00     4056\n",
       "11:00     4408\n",
       "12:00     9886\n",
       "13:00     9982\n",
       "14:00     7245\n",
       "Name: DEVICEUSER_ID, dtype: int64"
      ]
     },
     "metadata": {},
     "output_type": "display_data"
    },
    {
     "data": {
      "image/png": "[encoded data removed]",
      "text/plain": [
       "<Figure size 432x288 with 1 Axes>"
      ]
     },
     "metadata": {},
     "output_type": "display_data"
    },
    {
     "name": "stderr",
     "output_type": "stream",
     "text": [
      "C:\\Users\\Ahn\\anaconda3\\lib\\site-packages\\pandas\\core\\generic.py:5168: SettingWithCopyWarning: \n",
      "A value is trying to be set on a copy of a slice from a DataFrame.\n",
      "Try using .loc[row_indexer,col_indexer] = value instead\n",
      "\n",
      "See the caveats in the documentation: https://pandas.pydata.org/pandas-docs/stable/user_guide/indexing.html#returning-a-view-versus-a-copy\n",
      "  self[name] = value\n"
     ]
    },
    {
     "name": "stdout",
     "output_type": "stream",
     "text": [
      "User count per hour for Dajto channel\n",
      "\n"
     ]
    },
    {
     "data": {
      "text/plain": [
       "SESSION_START\n",
       "08:00     850\n",
       "09:00     912\n",
       "10:00     948\n",
       "11:00    1073\n",
       "12:00    1130\n",
       "13:00    1157\n",
       "14:00    1155\n",
       "Name: DEVICEUSER_ID, dtype: int64"
      ]
     },
     "metadata": {},
     "output_type": "display_data"
    },
    {
     "data": {
      "image/png": "[encoded data removed]",
      "text/plain": [
       "<Figure size 432x288 with 1 Axes>"
      ]
     },
     "metadata": {},
     "output_type": "display_data"
    }
   ],
   "source": [
    "# Time when people tend to watch tv per channel and time range\n",
    "\n",
    "for channel in channels:\n",
    "    # filter by channel\n",
    "    df_c = df.loc[df[\"Channel_name\"] == channel]\n",
    "    df_c.SESSION_START = pd.to_datetime(df_c.SESSION_START) # convert time values to datetime type\n",
    "    \n",
    "    \n",
    "    # convert 'Session_start' to hours and group by user to get count of users per hour\n",
    "    frequency_hour = df_c.groupby([pd.Grouper(key = 'SESSION_START', freq = 'H'), df_c.DEVICEUSER_ID]).size().reset_index( name = 'user devices count')\n",
    "    frequency_hour['SESSION_START'] = frequency_hour['SESSION_START'].dt.strftime('%H:%M')\n",
    "\n",
    "    #filter by specific hours - define targeted range: 08:00 - 14:00\n",
    "    frequency_hour = frequency_hour[(frequency_hour['SESSION_START'] >=  '08:00') & (frequency_hour['SESSION_START'] <= '14:00')]\n",
    "\n",
    "    # total unique user per hour and channel\n",
    "    hours_users = frequency_hour.groupby('SESSION_START')['DEVICEUSER_ID'].nunique()\n",
    "    \n",
    "    # user device count per hour\n",
    "    print(\"User count per hour for {channel_name} channel\".format(channel_name = channel) + '\\n')\n",
    "    display(hours_users)\n",
    "    \n",
    "\n",
    "    # graph - display total count of users watching TV per hour\n",
    "    hours_users.plot()\n",
    "    plt.xlabel('Hour of the day')\n",
    "    plt.ylabel('User device count')\n",
    "    plt.title('Total count of users watching TV per hour for {channel_name} channel'.format(channel_name = channel) + '\\n')\n",
    "    plt.savefig('t1_deliverable01.png')\n",
    "    plt.show()\n"
   ]
  },
  {
   "cell_type": "code",
   "execution_count": 92,
   "metadata": {},
   "outputs": [
    {
     "name": "stdout",
     "output_type": "stream",
     "text": [
      "\n",
      "Average time spent per channel\n",
      "\n"
     ]
    },
    {
     "data": {
      "text/html": [
       "<div>\n",
       "<style scoped>\n",
       "    .dataframe tbody tr th:only-of-type {\n",
       "        vertical-align: middle;\n",
       "    }\n",
       "\n",
       "    .dataframe tbody tr th {\n",
       "        vertical-align: top;\n",
       "    }\n",
       "\n",
       "    .dataframe thead th {\n",
       "        text-align: right;\n",
       "    }\n",
       "</style>\n",
       "<table border=\"1\" class=\"dataframe\">\n",
       "  <thead>\n",
       "    <tr style=\"text-align: right;\">\n",
       "      <th></th>\n",
       "      <th>mean</th>\n",
       "    </tr>\n",
       "    <tr>\n",
       "      <th>Channel_name</th>\n",
       "      <th></th>\n",
       "    </tr>\n",
       "  </thead>\n",
       "  <tbody>\n",
       "    <tr>\n",
       "      <th>Dajto</th>\n",
       "      <td>0 days 00:05:36.460105</td>\n",
       "    </tr>\n",
       "    <tr>\n",
       "      <th>Óčko Star</th>\n",
       "      <td>0 days 00:04:17.505053</td>\n",
       "    </tr>\n",
       "  </tbody>\n",
       "</table>\n",
       "</div>"
      ],
      "text/plain": [
       "                               mean\n",
       "Channel_name                       \n",
       "Dajto        0 days 00:05:36.460105\n",
       "Óčko Star    0 days 00:04:17.505053"
      ]
     },
     "metadata": {},
     "output_type": "display_data"
    },
    {
     "data": {
      "image/png": "[encoded data removed]",
      "text/plain": [
       "<Figure size 432x288 with 1 Axes>"
      ]
     },
     "metadata": {},
     "output_type": "display_data"
    }
   ],
   "source": [
    "#3 Average time spent per channel \n",
    "import datetime\n",
    "\n",
    "# group by channel\n",
    "result = df.groupby(\"Channel_name\")[\"DURATION\"].agg([np.mean])\n",
    "result[\"mean\"] = result[\"mean\"].apply(lambda x: datetime.timedelta(seconds=x))\n",
    "result\n",
    "\n",
    "print(\"\\nAverage time spent per channel\\n\")\n",
    "display(result)\n",
    "\n",
    "# in percentages and counts\n",
    "df3 = df[(df[\"Channel_name\"] == \"Dajto\") | (df[\"Channel_name\"] == \"Óčko Star\")]\n",
    "\n",
    "x =  df3.Channel_name.unique() \n",
    "y = result['mean'].to_numpy()\n",
    "\n",
    "# graphs\n",
    "# percentage per channel\n",
    "plt.pie(y,labels=x,autopct='%1.1f%%')\n",
    "plt.title('Average time spent per channel')\n",
    "plt.savefig('t1_deliverable02.png')\n",
    "\n",
    "# counts per channel\n",
    "plt.plot(x, y)\n",
    "plt.xlabel('Channel name')\n",
    "plt.ylabel('Minutes')\n",
    "plt.title('Average time spent per channel')\n",
    "plt.savefig('t1_deliverable03.png')\n",
    "plt.show()\n"
   ]
  },
  {
   "cell_type": "code",
   "execution_count": 83,
   "metadata": {},
   "outputs": [
    {
     "data": {
      "text/plain": [
       "0         Óčko Star\n",
       "1         Óčko Star\n",
       "2         Óčko Star\n",
       "3         Óčko Star\n",
       "4         Óčko Star\n",
       "            ...    \n",
       "410531    Óčko Star\n",
       "410532    Óčko Star\n",
       "410533    Óčko Star\n",
       "410534    Óčko Star\n",
       "410535    Óčko Star\n",
       "Name: Channel_name, Length: 410536, dtype: object"
      ]
     },
     "execution_count": 83,
     "metadata": {},
     "output_type": "execute_result"
    }
   ],
   "source": [
    "\"\"\"\n",
    "GENERAL DATA PER CHANNELS\n",
    "\"\"\""
   ]
  },
  {
   "cell_type": "code",
   "execution_count": 59,
   "metadata": {},
   "outputs": [
    {
     "name": "stdout",
     "output_type": "stream",
     "text": [
      "\n",
      "Sessions per channel\n",
      "\n"
     ]
    },
    {
     "data": {
      "text/plain": [
       "Óčko Star    361798\n",
       "Dajto         48728\n",
       "Name: Channel_name, dtype: int64"
      ]
     },
     "metadata": {},
     "output_type": "display_data"
    },
    {
     "data": {
      "image/png": "[encoded data removed]",
      "text/plain": [
       "<Figure size 432x288 with 1 Axes>"
      ]
     },
     "metadata": {},
     "output_type": "display_data"
    }
   ],
   "source": [
    "#1 Most watched channels\n",
    "\n",
    "# Create series with frequency count per channel (to get channel with more sessions/most watched channel)\n",
    "frequency_channel = df['Channel_name'].value_counts()\n",
    "x = df['Channel_name'].unique()\n",
    "\n",
    "plt.bar(x, frequency_channel)\n",
    "#frequency_channel\n",
    "print(\"\\nSessions per channel\\n\")\n",
    "display(df['Channel_name'].value_counts())\n",
    "plt.xlabel('Channel name')\n",
    "plt.ylabel('Sessions counts')\n",
    "plt.title('Get frequency [sessions count] per channel') # TV viewership, unique sessions per channel\n",
    "plt.savefig('t1_deliverable04.png')\n",
    "plt.show()\n"
   ]
  },
  {
   "cell_type": "code",
   "execution_count": 53,
   "metadata": {},
   "outputs": [
    {
     "data": {
      "text/plain": [
       "Óčko Star    361798\n",
       "Dajto         48728\n",
       "Name: Channel_name, dtype: int64"
      ]
     },
     "execution_count": 53,
     "metadata": {},
     "output_type": "execute_result"
    }
   ],
   "source": [
    "frequency_channel"
   ]
  },
  {
   "cell_type": "code",
   "execution_count": 65,
   "metadata": {},
   "outputs": [
    {
     "name": "stdout",
     "output_type": "stream",
     "text": [
      "\n",
      "Users per channel\n",
      "\n"
     ]
    },
    {
     "data": {
      "text/plain": [
       "Channel_name\n",
       "Dajto          4958\n",
       "Óčko Star    108800\n",
       "Name: DEVICEUSER_ID, dtype: int64"
      ]
     },
     "metadata": {},
     "output_type": "display_data"
    },
    {
     "data": {
      "image/png": "[encoded data removed]",
      "text/plain": [
       "<Figure size 432x288 with 1 Axes>"
      ]
     },
     "metadata": {},
     "output_type": "display_data"
    }
   ],
   "source": [
    "#2 Total unique users per channel\n",
    "\n",
    "x = df['Channel_name'].unique()\n",
    "users_channel = df.groupby('Channel_name')['DEVICEUSER_ID'].nunique()\n",
    "\n",
    "plt.barh(x, users_channel)\n",
    "\n",
    "print(\"\\nUsers per channel\\n\")\n",
    "display(users_channel)\n",
    "\n",
    "plt.xlabel('Channel name')\n",
    "plt.ylabel('User count')\n",
    "plt.title('Total count of users per channel')\n",
    "plt.savefig('t1_deliverable05.png')\n",
    "plt.show()"
   ]
  },
  {
   "cell_type": "code",
   "execution_count": 60,
   "metadata": {},
   "outputs": [
    {
     "data": {
      "text/plain": [
       "Channel_name\n",
       "Dajto          4958\n",
       "Óčko Star    108800\n",
       "Name: DEVICEUSER_ID, dtype: int64"
      ]
     },
     "execution_count": 60,
     "metadata": {},
     "output_type": "execute_result"
    }
   ],
   "source": [
    "users_channel"
   ]
  },
  {
   "cell_type": "code",
   "execution_count": 38,
   "metadata": {},
   "outputs": [
    {
     "data": {
      "text/html": [
       "<div>\n",
       "<style scoped>\n",
       "    .dataframe tbody tr th:only-of-type {\n",
       "        vertical-align: middle;\n",
       "    }\n",
       "\n",
       "    .dataframe tbody tr th {\n",
       "        vertical-align: top;\n",
       "    }\n",
       "\n",
       "    .dataframe thead th {\n",
       "        text-align: right;\n",
       "    }\n",
       "</style>\n",
       "<table border=\"1\" class=\"dataframe\">\n",
       "  <thead>\n",
       "    <tr style=\"text-align: right;\">\n",
       "      <th></th>\n",
       "      <th>IP_ADDRESS</th>\n",
       "      <th>DEVICEUSER_ID</th>\n",
       "      <th>city</th>\n",
       "    </tr>\n",
       "  </thead>\n",
       "  <tbody>\n",
       "    <tr>\n",
       "      <th>0</th>\n",
       "      <td>88.101.215.7</td>\n",
       "      <td>5e3d7a47478608001e2e261e</td>\n",
       "      <td>Prague</td>\n",
       "    </tr>\n",
       "    <tr>\n",
       "      <th>1</th>\n",
       "      <td>188.123.115.239</td>\n",
       "      <td>5edbb099c05b71001e77a4b2</td>\n",
       "      <td>Skalica</td>\n",
       "    </tr>\n",
       "    <tr>\n",
       "      <th>2</th>\n",
       "      <td>195.168.207.127</td>\n",
       "      <td>5f95756d38df540017dfb646</td>\n",
       "      <td>Liptovsky Hradok</td>\n",
       "    </tr>\n",
       "    <tr>\n",
       "      <th>3</th>\n",
       "      <td>178.143.34.66</td>\n",
       "      <td>5ef4b3b4a4d085001e8bf77d</td>\n",
       "      <td>NaN</td>\n",
       "    </tr>\n",
       "    <tr>\n",
       "      <th>4</th>\n",
       "      <td>188.175.239.85</td>\n",
       "      <td>5e4096224fa2a2001eeb98fe</td>\n",
       "      <td>Olomouc</td>\n",
       "    </tr>\n",
       "  </tbody>\n",
       "</table>\n",
       "</div>"
      ],
      "text/plain": [
       "        IP_ADDRESS             DEVICEUSER_ID              city\n",
       "0     88.101.215.7  5e3d7a47478608001e2e261e            Prague\n",
       "1  188.123.115.239  5edbb099c05b71001e77a4b2           Skalica\n",
       "2  195.168.207.127  5f95756d38df540017dfb646  Liptovsky Hradok\n",
       "3    178.143.34.66  5ef4b3b4a4d085001e8bf77d               NaN\n",
       "4   188.175.239.85  5e4096224fa2a2001eeb98fe           Olomouc"
      ]
     },
     "execution_count": 38,
     "metadata": {},
     "output_type": "execute_result"
    }
   ],
   "source": [
    "# IP's for testing: http://upd.emule-security.org/ipfilter.zip\n",
    "x = df_users\n",
    "x"
   ]
  },
  {
   "cell_type": "code",
   "execution_count": 20,
   "metadata": {},
   "outputs": [
    {
     "name": "stderr",
     "output_type": "stream",
     "text": [
      "<ipython-input-20-1c211579230b>:20: FutureWarning: The pandas.np module is deprecated and will be removed from pandas in a future version. Import numpy directly instead\n",
      "  return pd.np.nan\n"
     ]
    }
   ],
   "source": [
    "# Algorithm created to get user's location with IP address and calculate users count per channel and region\n",
    "import pandas as pd\n",
    "from geolite2 import geolite2\n",
    "\n",
    "# function\n",
    "def get_country(ip):\n",
    "    try:\n",
    "        x = geo.get(ip)\n",
    "\n",
    "    \n",
    "    except ValueError:\n",
    "        return pd.np.nan\n",
    "    \n",
    "    try:\n",
    "        #specify the value you want, get its name, choose language\n",
    "        return x['city']['names']['en'] if x else pd.np.nan\n",
    "    \n",
    "    except KeyError:\n",
    "        \n",
    "        return pd.np.nan\n",
    "\n",
    "# resolve countries and create new tables \n",
    "geo = geolite2.reader()\n",
    "\n",
    "# get unique IPs\n",
    "unique_ips = x['IP_ADDRESS'].unique()\n",
    "\n",
    "# make series out of it\n",
    "unique_ips = pd.Series(unique_ips, index = unique_ips)\n",
    "\n",
    "# create new column with city/region where the user is located - map IP --> country\n",
    "df_users['city'] = x['IP_ADDRESS'].map(unique_ips.apply(get_country))\n",
    "\n",
    "geolite2.close()"
   ]
  },
  {
   "cell_type": "code",
   "execution_count": 19,
   "metadata": {},
   "outputs": [
    {
     "data": {
      "text/html": [
       "<div>\n",
       "<style scoped>\n",
       "    .dataframe tbody tr th:only-of-type {\n",
       "        vertical-align: middle;\n",
       "    }\n",
       "\n",
       "    .dataframe tbody tr th {\n",
       "        vertical-align: top;\n",
       "    }\n",
       "\n",
       "    .dataframe thead th {\n",
       "        text-align: right;\n",
       "    }\n",
       "</style>\n",
       "<table border=\"1\" class=\"dataframe\">\n",
       "  <thead>\n",
       "    <tr style=\"text-align: right;\">\n",
       "      <th></th>\n",
       "      <th>IP_ADDRESS</th>\n",
       "      <th>DEVICEUSER_ID</th>\n",
       "      <th>city</th>\n",
       "    </tr>\n",
       "  </thead>\n",
       "  <tbody>\n",
       "    <tr>\n",
       "      <th>0</th>\n",
       "      <td>88.101.215.7</td>\n",
       "      <td>5e3d7a47478608001e2e261e</td>\n",
       "      <td>Prague</td>\n",
       "    </tr>\n",
       "    <tr>\n",
       "      <th>1</th>\n",
       "      <td>188.123.115.239</td>\n",
       "      <td>5edbb099c05b71001e77a4b2</td>\n",
       "      <td>Skalica</td>\n",
       "    </tr>\n",
       "    <tr>\n",
       "      <th>2</th>\n",
       "      <td>195.168.207.127</td>\n",
       "      <td>5f95756d38df540017dfb646</td>\n",
       "      <td>Liptovsky Hradok</td>\n",
       "    </tr>\n",
       "    <tr>\n",
       "      <th>3</th>\n",
       "      <td>178.143.34.66</td>\n",
       "      <td>5ef4b3b4a4d085001e8bf77d</td>\n",
       "      <td>NaN</td>\n",
       "    </tr>\n",
       "    <tr>\n",
       "      <th>4</th>\n",
       "      <td>188.175.239.85</td>\n",
       "      <td>5e4096224fa2a2001eeb98fe</td>\n",
       "      <td>Olomouc</td>\n",
       "    </tr>\n",
       "  </tbody>\n",
       "</table>\n",
       "</div>"
      ],
      "text/plain": [
       "        IP_ADDRESS             DEVICEUSER_ID              city\n",
       "0     88.101.215.7  5e3d7a47478608001e2e261e            Prague\n",
       "1  188.123.115.239  5edbb099c05b71001e77a4b2           Skalica\n",
       "2  195.168.207.127  5f95756d38df540017dfb646  Liptovsky Hradok\n",
       "3    178.143.34.66  5ef4b3b4a4d085001e8bf77d               NaN\n",
       "4   188.175.239.85  5e4096224fa2a2001eeb98fe           Olomouc"
      ]
     },
     "execution_count": 19,
     "metadata": {},
     "output_type": "execute_result"
    }
   ],
   "source": [
    "x"
   ]
  },
  {
   "cell_type": "code",
   "execution_count": null,
   "metadata": {},
   "outputs": [],
   "source": [
    "# merge datasets to have the user device id linked to the ip address and country (future task)\n"
   ]
  }
 ],
 "metadata": {
  "kernelspec": {
   "display_name": "Python 3",
   "language": "python",
   "name": "python3"
  },
  "language_info": {
   "codemirror_mode": {
    "name": "ipython",
    "version": 3
   },
   "file_extension": ".py",
   "mimetype": "text/x-python",
   "name": "python",
   "nbconvert_exporter": "python",
   "pygments_lexer": "ipython3",
   "version": "3.8.5"
  }
 },
 "nbformat": 4,
 "nbformat_minor": 4
}
