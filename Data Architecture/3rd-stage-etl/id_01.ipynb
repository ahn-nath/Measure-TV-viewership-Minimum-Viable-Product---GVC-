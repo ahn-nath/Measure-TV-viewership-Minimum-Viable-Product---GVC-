{
 "cells": [
  {
   "cell_type": "code",
   "execution_count": null,
   "metadata": {
    "colab": {
     "base_uri": "https://localhost:8080/"
    },
    "id": "ZY1pWXO3xjaf",
    "outputId": "ccf5c219-92a3-4a03-d283-fedf0b37e763"
   },
   "outputs": [
    {
     "name": "stdout",
     "output_type": "stream",
     "text": [
      "Requirement already satisfied: dnspython in /usr/local/lib/python3.6/dist-packages (2.1.0)\n",
      "List of collections \n",
      "--------------------\n",
      "deviceusers\n",
      "devices\n"
     ]
    }
   ],
   "source": [
    "!pip install dnspython\n",
    "from pandas import DataFrame\n",
    "from pymongo import MongoClient\n",
    "import os\n",
    "\n",
    "#Broadcaster data\n",
    "client = MongoClient(os.environ.get('MONGO_HYBRIDIDDATA_URI'))\n",
    "db = client[\"hybrid-id\"]\n",
    "\n",
    "    \n",
    "print(\"List of collections \\n--------------------\")\n",
    "\n",
    "#list collection names\n",
    "for x in db.list_collection_names():\n",
    "    print(x)"
   ]
  },
  {
   "cell_type": "code",
   "execution_count": null,
   "metadata": {
    "colab": {
     "base_uri": "https://localhost:8080/",
     "height": 617
    },
    "id": "husLsueZxja2",
    "outputId": "e0c10a6d-aff9-4fd1-fada-75af0e7f5d65"
   },
   "outputs": [
    {
     "data": {
      "text/html": [
       "<div>\n",
       "<style scoped>\n",
       "    .dataframe tbody tr th:only-of-type {\n",
       "        vertical-align: middle;\n",
       "    }\n",
       "\n",
       "    .dataframe tbody tr th {\n",
       "        vertical-align: top;\n",
       "    }\n",
       "\n",
       "    .dataframe thead th {\n",
       "        text-align: right;\n",
       "    }\n",
       "</style>\n",
       "<table border=\"1\" class=\"dataframe\">\n",
       "  <thead>\n",
       "    <tr style=\"text-align: right;\">\n",
       "      <th></th>\n",
       "      <th>_id</th>\n",
       "      <th>uuid</th>\n",
       "      <th>__v</th>\n",
       "      <th>ip</th>\n",
       "      <th>last</th>\n",
       "      <th>ua</th>\n",
       "      <th>_deviceUser</th>\n",
       "    </tr>\n",
       "  </thead>\n",
       "  <tbody>\n",
       "    <tr>\n",
       "      <th>0</th>\n",
       "      <td>5f92d96abf40790017f43bbd</td>\n",
       "      <td>8e129c87-5a9d-4a3d-afe9-c98af335568f</td>\n",
       "      <td>0</td>\n",
       "      <td>88.101.215.7</td>\n",
       "      <td>2020-11-07 13:08:46.636</td>\n",
       "      <td>Mozilla/5.0 (Web0S; Linux/SmartTV) AppleWebKit...</td>\n",
       "      <td>5e3d7a47478608001e2e261e</td>\n",
       "    </tr>\n",
       "    <tr>\n",
       "      <th>1</th>\n",
       "      <td>5f92d96abf40790017f43bf1</td>\n",
       "      <td>dc3a0456-f902-4a43-a860-8e6ce2f20e0e</td>\n",
       "      <td>0</td>\n",
       "      <td>188.123.115.239</td>\n",
       "      <td>2020-11-07 11:27:56.235</td>\n",
       "      <td>Mozilla/5.0 (Web0S; Linux/SmartTV) AppleWebKit...</td>\n",
       "      <td>5edbb099c05b71001e77a4b2</td>\n",
       "    </tr>\n",
       "    <tr>\n",
       "      <th>2</th>\n",
       "      <td>5f92d96abf40790017f43bf8</td>\n",
       "      <td>f8d71c4e-c4c3-497a-ae60-3e6974ba3cbe</td>\n",
       "      <td>0</td>\n",
       "      <td>195.168.207.127</td>\n",
       "      <td>2021-01-07 09:34:21.975</td>\n",
       "      <td>Mozilla/5.0 (Web0S; Linux/SmartTV) AppleWebKit...</td>\n",
       "      <td>5f95756d38df540017dfb646</td>\n",
       "    </tr>\n",
       "    <tr>\n",
       "      <th>3</th>\n",
       "      <td>5f92d96bbf40790017f43c00</td>\n",
       "      <td>62ba60cd-848b-4c4f-bf5e-9f99b6d5e9f9</td>\n",
       "      <td>0</td>\n",
       "      <td>178.143.34.66</td>\n",
       "      <td>2020-11-07 14:59:23.403</td>\n",
       "      <td>HbbTV/1.2.1 (;Panasonic;VIERA 2015;3.021;9b01-...</td>\n",
       "      <td>5ef4b3b4a4d085001e8bf77d</td>\n",
       "    </tr>\n",
       "    <tr>\n",
       "      <th>4</th>\n",
       "      <td>5f92d96bbf40790017f43c30</td>\n",
       "      <td>620e4679-3f20-444c-ad6b-a4f402f75f1e</td>\n",
       "      <td>0</td>\n",
       "      <td>188.175.239.85</td>\n",
       "      <td>2021-01-11 15:53:03.191</td>\n",
       "      <td>Mozilla/5.0 (Unknown; Linux armv7l) AppleWebKi...</td>\n",
       "      <td>5e4096224fa2a2001eeb98fe</td>\n",
       "    </tr>\n",
       "    <tr>\n",
       "      <th>...</th>\n",
       "      <td>...</td>\n",
       "      <td>...</td>\n",
       "      <td>...</td>\n",
       "      <td>...</td>\n",
       "      <td>...</td>\n",
       "      <td>...</td>\n",
       "      <td>...</td>\n",
       "    </tr>\n",
       "    <tr>\n",
       "      <th>2264657</th>\n",
       "      <td>5ffeede98df5f60017d8dddd</td>\n",
       "      <td>3c39c353-549a-4e27-bf3d-0cc6d8f49893</td>\n",
       "      <td>0</td>\n",
       "      <td>80.250.9.130</td>\n",
       "      <td>2021-01-13 12:56:09.545</td>\n",
       "      <td>Mozilla/5.0 (Web0S; Linux/SmartTV) AppleWebKit...</td>\n",
       "      <td>5ffeede98df5f60017d8ddde</td>\n",
       "    </tr>\n",
       "    <tr>\n",
       "      <th>2264658</th>\n",
       "      <td>5ffeedf9e8df6a00175a4664</td>\n",
       "      <td>ce3d6c4d-2dc7-4c20-81c3-a139bb96f9ad</td>\n",
       "      <td>0</td>\n",
       "      <td>194.228.79.247</td>\n",
       "      <td>2021-01-13 12:56:55.258</td>\n",
       "      <td>Mozilla/5.0 (Web0S; Linux/SmartTV) AppleWebKit...</td>\n",
       "      <td>5ffeedf9e8df6a00175a4666</td>\n",
       "    </tr>\n",
       "    <tr>\n",
       "      <th>2264659</th>\n",
       "      <td>5ffeedfbe8df6a00175a468f</td>\n",
       "      <td>f7ea4887-1a15-444d-940e-c1e3611c32a7</td>\n",
       "      <td>0</td>\n",
       "      <td>217.66.160.14</td>\n",
       "      <td>2021-01-13 12:56:27.590</td>\n",
       "      <td>HbbTV/1.4.1 (+DRM;Samsung;SmartTV2020:UT530E;T...</td>\n",
       "      <td>5ffeedfbe8df6a00175a4691</td>\n",
       "    </tr>\n",
       "    <tr>\n",
       "      <th>2264660</th>\n",
       "      <td>5ffeee03e8df6a00175a4717</td>\n",
       "      <td>133c3ab9-f9ef-4320-8413-08e0107a2497</td>\n",
       "      <td>0</td>\n",
       "      <td>176.102.129.102</td>\n",
       "      <td>2021-01-13 12:56:35.052</td>\n",
       "      <td>Mozilla/5.0 (Linux armv7l) AppleWebKit/537.36 ...</td>\n",
       "      <td>5ffeee03e8df6a00175a4719</td>\n",
       "    </tr>\n",
       "    <tr>\n",
       "      <th>2264661</th>\n",
       "      <td>5ffeee178df5f60017d8df8c</td>\n",
       "      <td>b5bd219d-8636-40cd-8b74-00ee91c0ec51</td>\n",
       "      <td>0</td>\n",
       "      <td>31.30.168.38</td>\n",
       "      <td>2021-01-13 12:56:55.304</td>\n",
       "      <td>Mozilla/5.0 (Web0S; Linux/SmartTV) AppleWebKit...</td>\n",
       "      <td>5ffeee178df5f60017d8df8d</td>\n",
       "    </tr>\n",
       "  </tbody>\n",
       "</table>\n",
       "<p>2264662 rows × 7 columns</p>\n",
       "</div>"
      ],
      "text/plain": [
       "                              _id  ...               _deviceUser\n",
       "0        5f92d96abf40790017f43bbd  ...  5e3d7a47478608001e2e261e\n",
       "1        5f92d96abf40790017f43bf1  ...  5edbb099c05b71001e77a4b2\n",
       "2        5f92d96abf40790017f43bf8  ...  5f95756d38df540017dfb646\n",
       "3        5f92d96bbf40790017f43c00  ...  5ef4b3b4a4d085001e8bf77d\n",
       "4        5f92d96bbf40790017f43c30  ...  5e4096224fa2a2001eeb98fe\n",
       "...                           ...  ...                       ...\n",
       "2264657  5ffeede98df5f60017d8dddd  ...  5ffeede98df5f60017d8ddde\n",
       "2264658  5ffeedf9e8df6a00175a4664  ...  5ffeedf9e8df6a00175a4666\n",
       "2264659  5ffeedfbe8df6a00175a468f  ...  5ffeedfbe8df6a00175a4691\n",
       "2264660  5ffeee03e8df6a00175a4717  ...  5ffeee03e8df6a00175a4719\n",
       "2264661  5ffeee178df5f60017d8df8c  ...  5ffeee178df5f60017d8df8d\n",
       "\n",
       "[2264662 rows x 7 columns]"
      ]
     },
     "execution_count": 38,
     "metadata": {
      "tags": []
     },
     "output_type": "execute_result"
    }
   ],
   "source": [
    "devices = db.devices.find( {} ) #get all documents from devices collection\n",
    "list_cur = list(devices) #cursor to list\n",
    "df_devices = DataFrame(list_cur) #cursor to dataframe\n",
    "df_devices"
   ]
  },
  {
   "cell_type": "code",
   "execution_count": null,
   "metadata": {
    "colab": {
     "base_uri": "https://localhost:8080/"
    },
    "id": "eBEeezM-ler1",
    "outputId": "666e2fe5-7adf-4f0f-d970-5bf157887fa1"
   },
   "outputs": [
    {
     "name": "stdout",
     "output_type": "stream",
     "text": [
      "<class 'pandas.core.frame.DataFrame'>\n",
      "RangeIndex: 2264662 entries, 0 to 2264661\n",
      "Data columns (total 7 columns):\n",
      " #   Column       Dtype         \n",
      "---  ------       -----         \n",
      " 0   _id          object        \n",
      " 1   uuid         object        \n",
      " 2   __v          int64         \n",
      " 3   ip           object        \n",
      " 4   last         datetime64[ns]\n",
      " 5   ua           object        \n",
      " 6   _deviceUser  object        \n",
      "dtypes: datetime64[ns](1), int64(1), object(5)\n",
      "memory usage: 120.9+ MB\n"
     ]
    }
   ],
   "source": [
    "df_devices.info()"
   ]
  },
  {
   "cell_type": "code",
   "execution_count": null,
   "metadata": {
    "id": "-h4FXncexja6"
   },
   "outputs": [],
   "source": [
    "df_devices.drop(columns=['__v', 'last'], inplace=True) "
   ]
  },
  {
   "cell_type": "code",
   "execution_count": null,
   "metadata": {
    "colab": {
     "base_uri": "https://localhost:8080/",
     "height": 469
    },
    "id": "Aod_jfoExja9",
    "outputId": "e49ee498-9c2e-48b2-df9a-43f04ef8ab6c"
   },
   "outputs": [
    {
     "data": {
      "text/html": [
       "<div>\n",
       "<style scoped>\n",
       "    .dataframe tbody tr th:only-of-type {\n",
       "        vertical-align: middle;\n",
       "    }\n",
       "\n",
       "    .dataframe tbody tr th {\n",
       "        vertical-align: top;\n",
       "    }\n",
       "\n",
       "    .dataframe thead th {\n",
       "        text-align: right;\n",
       "    }\n",
       "</style>\n",
       "<table border=\"1\" class=\"dataframe\">\n",
       "  <thead>\n",
       "    <tr style=\"text-align: right;\">\n",
       "      <th></th>\n",
       "      <th>_id</th>\n",
       "      <th>uuid</th>\n",
       "      <th>ip</th>\n",
       "      <th>ua</th>\n",
       "      <th>_deviceUser</th>\n",
       "    </tr>\n",
       "  </thead>\n",
       "  <tbody>\n",
       "    <tr>\n",
       "      <th>0</th>\n",
       "      <td>5f92d96abf40790017f43bbd</td>\n",
       "      <td>8e129c87-5a9d-4a3d-afe9-c98af335568f</td>\n",
       "      <td>88.101.215.7</td>\n",
       "      <td>Mozilla/5.0 (Web0S; Linux/SmartTV) AppleWebKit...</td>\n",
       "      <td>5e3d7a47478608001e2e261e</td>\n",
       "    </tr>\n",
       "    <tr>\n",
       "      <th>1</th>\n",
       "      <td>5f92d96abf40790017f43bf1</td>\n",
       "      <td>dc3a0456-f902-4a43-a860-8e6ce2f20e0e</td>\n",
       "      <td>188.123.115.239</td>\n",
       "      <td>Mozilla/5.0 (Web0S; Linux/SmartTV) AppleWebKit...</td>\n",
       "      <td>5edbb099c05b71001e77a4b2</td>\n",
       "    </tr>\n",
       "    <tr>\n",
       "      <th>2</th>\n",
       "      <td>5f92d96abf40790017f43bf8</td>\n",
       "      <td>f8d71c4e-c4c3-497a-ae60-3e6974ba3cbe</td>\n",
       "      <td>195.168.207.127</td>\n",
       "      <td>Mozilla/5.0 (Web0S; Linux/SmartTV) AppleWebKit...</td>\n",
       "      <td>5f95756d38df540017dfb646</td>\n",
       "    </tr>\n",
       "    <tr>\n",
       "      <th>3</th>\n",
       "      <td>5f92d96bbf40790017f43c00</td>\n",
       "      <td>62ba60cd-848b-4c4f-bf5e-9f99b6d5e9f9</td>\n",
       "      <td>178.143.34.66</td>\n",
       "      <td>HbbTV/1.2.1 (;Panasonic;VIERA 2015;3.021;9b01-...</td>\n",
       "      <td>5ef4b3b4a4d085001e8bf77d</td>\n",
       "    </tr>\n",
       "    <tr>\n",
       "      <th>4</th>\n",
       "      <td>5f92d96bbf40790017f43c30</td>\n",
       "      <td>620e4679-3f20-444c-ad6b-a4f402f75f1e</td>\n",
       "      <td>188.175.239.85</td>\n",
       "      <td>Mozilla/5.0 (Unknown; Linux armv7l) AppleWebKi...</td>\n",
       "      <td>5e4096224fa2a2001eeb98fe</td>\n",
       "    </tr>\n",
       "  </tbody>\n",
       "</table>\n",
       "</div>"
      ],
      "text/plain": [
       "                        _id  ...               _deviceUser\n",
       "0  5f92d96abf40790017f43bbd  ...  5e3d7a47478608001e2e261e\n",
       "1  5f92d96abf40790017f43bf1  ...  5edbb099c05b71001e77a4b2\n",
       "2  5f92d96abf40790017f43bf8  ...  5f95756d38df540017dfb646\n",
       "3  5f92d96bbf40790017f43c00  ...  5ef4b3b4a4d085001e8bf77d\n",
       "4  5f92d96bbf40790017f43c30  ...  5e4096224fa2a2001eeb98fe\n",
       "\n",
       "[5 rows x 5 columns]"
      ]
     },
     "execution_count": 41,
     "metadata": {
      "tags": []
     },
     "output_type": "execute_result"
    }
   ],
   "source": [
    "df_devices.head()"
   ]
  },
  {
   "cell_type": "code",
   "execution_count": null,
   "metadata": {
    "colab": {
     "base_uri": "https://localhost:8080/",
     "height": 469
    },
    "id": "bxsFD1YKxjbB",
    "outputId": "72381cc0-1506-4e4c-d992-9614cef505fd"
   },
   "outputs": [
    {
     "data": {
      "text/html": [
       "<div>\n",
       "<style scoped>\n",
       "    .dataframe tbody tr th:only-of-type {\n",
       "        vertical-align: middle;\n",
       "    }\n",
       "\n",
       "    .dataframe tbody tr th {\n",
       "        vertical-align: top;\n",
       "    }\n",
       "\n",
       "    .dataframe thead th {\n",
       "        text-align: right;\n",
       "    }\n",
       "</style>\n",
       "<table border=\"1\" class=\"dataframe\">\n",
       "  <thead>\n",
       "    <tr style=\"text-align: right;\">\n",
       "      <th></th>\n",
       "      <th>DEVICE_ID</th>\n",
       "      <th>DEVICE_UUID</th>\n",
       "      <th>IP_ADDRESS</th>\n",
       "      <th>USER_AGENT</th>\n",
       "      <th>DEVICEUSER_ID</th>\n",
       "    </tr>\n",
       "  </thead>\n",
       "  <tbody>\n",
       "    <tr>\n",
       "      <th>0</th>\n",
       "      <td>5f92d96abf40790017f43bbd</td>\n",
       "      <td>8e129c87-5a9d-4a3d-afe9-c98af335568f</td>\n",
       "      <td>88.101.215.7</td>\n",
       "      <td>Mozilla/5.0 (Web0S; Linux/SmartTV) AppleWebKit...</td>\n",
       "      <td>5e3d7a47478608001e2e261e</td>\n",
       "    </tr>\n",
       "    <tr>\n",
       "      <th>1</th>\n",
       "      <td>5f92d96abf40790017f43bf1</td>\n",
       "      <td>dc3a0456-f902-4a43-a860-8e6ce2f20e0e</td>\n",
       "      <td>188.123.115.239</td>\n",
       "      <td>Mozilla/5.0 (Web0S; Linux/SmartTV) AppleWebKit...</td>\n",
       "      <td>5edbb099c05b71001e77a4b2</td>\n",
       "    </tr>\n",
       "    <tr>\n",
       "      <th>2</th>\n",
       "      <td>5f92d96abf40790017f43bf8</td>\n",
       "      <td>f8d71c4e-c4c3-497a-ae60-3e6974ba3cbe</td>\n",
       "      <td>195.168.207.127</td>\n",
       "      <td>Mozilla/5.0 (Web0S; Linux/SmartTV) AppleWebKit...</td>\n",
       "      <td>5f95756d38df540017dfb646</td>\n",
       "    </tr>\n",
       "    <tr>\n",
       "      <th>3</th>\n",
       "      <td>5f92d96bbf40790017f43c00</td>\n",
       "      <td>62ba60cd-848b-4c4f-bf5e-9f99b6d5e9f9</td>\n",
       "      <td>178.143.34.66</td>\n",
       "      <td>HbbTV/1.2.1 (;Panasonic;VIERA 2015;3.021;9b01-...</td>\n",
       "      <td>5ef4b3b4a4d085001e8bf77d</td>\n",
       "    </tr>\n",
       "    <tr>\n",
       "      <th>4</th>\n",
       "      <td>5f92d96bbf40790017f43c30</td>\n",
       "      <td>620e4679-3f20-444c-ad6b-a4f402f75f1e</td>\n",
       "      <td>188.175.239.85</td>\n",
       "      <td>Mozilla/5.0 (Unknown; Linux armv7l) AppleWebKi...</td>\n",
       "      <td>5e4096224fa2a2001eeb98fe</td>\n",
       "    </tr>\n",
       "  </tbody>\n",
       "</table>\n",
       "</div>"
      ],
      "text/plain": [
       "                  DEVICE_ID  ...             DEVICEUSER_ID\n",
       "0  5f92d96abf40790017f43bbd  ...  5e3d7a47478608001e2e261e\n",
       "1  5f92d96abf40790017f43bf1  ...  5edbb099c05b71001e77a4b2\n",
       "2  5f92d96abf40790017f43bf8  ...  5f95756d38df540017dfb646\n",
       "3  5f92d96bbf40790017f43c00  ...  5ef4b3b4a4d085001e8bf77d\n",
       "4  5f92d96bbf40790017f43c30  ...  5e4096224fa2a2001eeb98fe\n",
       "\n",
       "[5 rows x 5 columns]"
      ]
     },
     "execution_count": 42,
     "metadata": {
      "tags": []
     },
     "output_type": "execute_result"
    }
   ],
   "source": [
    "df_devices.columns = ['DEVICE_ID', 'DEVICE_UUID', 'IP_ADDRESS', 'USER_AGENT', 'DEVICEUSER_ID']\n",
    "df_devices.head()"
   ]
  },
  {
   "cell_type": "code",
   "execution_count": null,
   "metadata": {
    "colab": {
     "base_uri": "https://localhost:8080/",
     "height": 617
    },
    "id": "5uyXAttRm6iI",
    "outputId": "1155cb67-cbbb-4464-f41e-87c56b49b3e2"
   },
   "outputs": [
    {
     "data": {
      "text/html": [
       "<div>\n",
       "<style scoped>\n",
       "    .dataframe tbody tr th:only-of-type {\n",
       "        vertical-align: middle;\n",
       "    }\n",
       "\n",
       "    .dataframe tbody tr th {\n",
       "        vertical-align: top;\n",
       "    }\n",
       "\n",
       "    .dataframe thead th {\n",
       "        text-align: right;\n",
       "    }\n",
       "</style>\n",
       "<table border=\"1\" class=\"dataframe\">\n",
       "  <thead>\n",
       "    <tr style=\"text-align: right;\">\n",
       "      <th></th>\n",
       "      <th>DEVICE_ID</th>\n",
       "      <th>DEVICEUSER_ID</th>\n",
       "      <th>DEVICE_UUID</th>\n",
       "      <th>IP_ADDRESS</th>\n",
       "      <th>USER_AGENT</th>\n",
       "    </tr>\n",
       "  </thead>\n",
       "  <tbody>\n",
       "    <tr>\n",
       "      <th>0</th>\n",
       "      <td>5f92d96abf40790017f43bbd</td>\n",
       "      <td>5e3d7a47478608001e2e261e</td>\n",
       "      <td>8e129c87-5a9d-4a3d-afe9-c98af335568f</td>\n",
       "      <td>88.101.215.7</td>\n",
       "      <td>Mozilla/5.0 (Web0S; Linux/SmartTV) AppleWebKit...</td>\n",
       "    </tr>\n",
       "    <tr>\n",
       "      <th>1</th>\n",
       "      <td>5f92d96abf40790017f43bf1</td>\n",
       "      <td>5edbb099c05b71001e77a4b2</td>\n",
       "      <td>dc3a0456-f902-4a43-a860-8e6ce2f20e0e</td>\n",
       "      <td>188.123.115.239</td>\n",
       "      <td>Mozilla/5.0 (Web0S; Linux/SmartTV) AppleWebKit...</td>\n",
       "    </tr>\n",
       "    <tr>\n",
       "      <th>2</th>\n",
       "      <td>5f92d96abf40790017f43bf8</td>\n",
       "      <td>5f95756d38df540017dfb646</td>\n",
       "      <td>f8d71c4e-c4c3-497a-ae60-3e6974ba3cbe</td>\n",
       "      <td>195.168.207.127</td>\n",
       "      <td>Mozilla/5.0 (Web0S; Linux/SmartTV) AppleWebKit...</td>\n",
       "    </tr>\n",
       "    <tr>\n",
       "      <th>3</th>\n",
       "      <td>5f92d96bbf40790017f43c00</td>\n",
       "      <td>5ef4b3b4a4d085001e8bf77d</td>\n",
       "      <td>62ba60cd-848b-4c4f-bf5e-9f99b6d5e9f9</td>\n",
       "      <td>178.143.34.66</td>\n",
       "      <td>HbbTV/1.2.1 (;Panasonic;VIERA 2015;3.021;9b01-...</td>\n",
       "    </tr>\n",
       "    <tr>\n",
       "      <th>4</th>\n",
       "      <td>5f92d96bbf40790017f43c30</td>\n",
       "      <td>5e4096224fa2a2001eeb98fe</td>\n",
       "      <td>620e4679-3f20-444c-ad6b-a4f402f75f1e</td>\n",
       "      <td>188.175.239.85</td>\n",
       "      <td>Mozilla/5.0 (Unknown; Linux armv7l) AppleWebKi...</td>\n",
       "    </tr>\n",
       "    <tr>\n",
       "      <th>...</th>\n",
       "      <td>...</td>\n",
       "      <td>...</td>\n",
       "      <td>...</td>\n",
       "      <td>...</td>\n",
       "      <td>...</td>\n",
       "    </tr>\n",
       "    <tr>\n",
       "      <th>2264657</th>\n",
       "      <td>5ffeede98df5f60017d8dddd</td>\n",
       "      <td>5ffeede98df5f60017d8ddde</td>\n",
       "      <td>3c39c353-549a-4e27-bf3d-0cc6d8f49893</td>\n",
       "      <td>80.250.9.130</td>\n",
       "      <td>Mozilla/5.0 (Web0S; Linux/SmartTV) AppleWebKit...</td>\n",
       "    </tr>\n",
       "    <tr>\n",
       "      <th>2264658</th>\n",
       "      <td>5ffeedf9e8df6a00175a4664</td>\n",
       "      <td>5ffeedf9e8df6a00175a4666</td>\n",
       "      <td>ce3d6c4d-2dc7-4c20-81c3-a139bb96f9ad</td>\n",
       "      <td>194.228.79.247</td>\n",
       "      <td>Mozilla/5.0 (Web0S; Linux/SmartTV) AppleWebKit...</td>\n",
       "    </tr>\n",
       "    <tr>\n",
       "      <th>2264659</th>\n",
       "      <td>5ffeedfbe8df6a00175a468f</td>\n",
       "      <td>5ffeedfbe8df6a00175a4691</td>\n",
       "      <td>f7ea4887-1a15-444d-940e-c1e3611c32a7</td>\n",
       "      <td>217.66.160.14</td>\n",
       "      <td>HbbTV/1.4.1 (+DRM;Samsung;SmartTV2020:UT530E;T...</td>\n",
       "    </tr>\n",
       "    <tr>\n",
       "      <th>2264660</th>\n",
       "      <td>5ffeee03e8df6a00175a4717</td>\n",
       "      <td>5ffeee03e8df6a00175a4719</td>\n",
       "      <td>133c3ab9-f9ef-4320-8413-08e0107a2497</td>\n",
       "      <td>176.102.129.102</td>\n",
       "      <td>Mozilla/5.0 (Linux armv7l) AppleWebKit/537.36 ...</td>\n",
       "    </tr>\n",
       "    <tr>\n",
       "      <th>2264661</th>\n",
       "      <td>5ffeee178df5f60017d8df8c</td>\n",
       "      <td>5ffeee178df5f60017d8df8d</td>\n",
       "      <td>b5bd219d-8636-40cd-8b74-00ee91c0ec51</td>\n",
       "      <td>31.30.168.38</td>\n",
       "      <td>Mozilla/5.0 (Web0S; Linux/SmartTV) AppleWebKit...</td>\n",
       "    </tr>\n",
       "  </tbody>\n",
       "</table>\n",
       "<p>2264662 rows × 5 columns</p>\n",
       "</div>"
      ],
      "text/plain": [
       "                        DEVICE_ID  ...                                         USER_AGENT\n",
       "0        5f92d96abf40790017f43bbd  ...  Mozilla/5.0 (Web0S; Linux/SmartTV) AppleWebKit...\n",
       "1        5f92d96abf40790017f43bf1  ...  Mozilla/5.0 (Web0S; Linux/SmartTV) AppleWebKit...\n",
       "2        5f92d96abf40790017f43bf8  ...  Mozilla/5.0 (Web0S; Linux/SmartTV) AppleWebKit...\n",
       "3        5f92d96bbf40790017f43c00  ...  HbbTV/1.2.1 (;Panasonic;VIERA 2015;3.021;9b01-...\n",
       "4        5f92d96bbf40790017f43c30  ...  Mozilla/5.0 (Unknown; Linux armv7l) AppleWebKi...\n",
       "...                           ...  ...                                                ...\n",
       "2264657  5ffeede98df5f60017d8dddd  ...  Mozilla/5.0 (Web0S; Linux/SmartTV) AppleWebKit...\n",
       "2264658  5ffeedf9e8df6a00175a4664  ...  Mozilla/5.0 (Web0S; Linux/SmartTV) AppleWebKit...\n",
       "2264659  5ffeedfbe8df6a00175a468f  ...  HbbTV/1.4.1 (+DRM;Samsung;SmartTV2020:UT530E;T...\n",
       "2264660  5ffeee03e8df6a00175a4717  ...  Mozilla/5.0 (Linux armv7l) AppleWebKit/537.36 ...\n",
       "2264661  5ffeee178df5f60017d8df8c  ...  Mozilla/5.0 (Web0S; Linux/SmartTV) AppleWebKit...\n",
       "\n",
       "[2264662 rows x 5 columns]"
      ]
     },
     "execution_count": 43,
     "metadata": {
      "tags": []
     },
     "output_type": "execute_result"
    }
   ],
   "source": [
    "df2 = df_devices.reindex(columns= ['DEVICE_ID', 'DEVICEUSER_ID', 'DEVICE_UUID', 'IP_ADDRESS', 'USER_AGENT'])\n",
    "df2"
   ]
  },
  {
   "cell_type": "code",
   "execution_count": null,
   "metadata": {
    "colab": {
     "base_uri": "https://localhost:8080/",
     "height": 501
    },
    "id": "46sofrfMVtdq",
    "outputId": "b67ef6d9-bc9e-4d63-b929-d24172e26eb8"
   },
   "outputs": [
    {
     "data": {
      "text/html": [
       "<div>\n",
       "<style scoped>\n",
       "    .dataframe tbody tr th:only-of-type {\n",
       "        vertical-align: middle;\n",
       "    }\n",
       "\n",
       "    .dataframe tbody tr th {\n",
       "        vertical-align: top;\n",
       "    }\n",
       "\n",
       "    .dataframe thead th {\n",
       "        text-align: right;\n",
       "    }\n",
       "</style>\n",
       "<table border=\"1\" class=\"dataframe\">\n",
       "  <thead>\n",
       "    <tr style=\"text-align: right;\">\n",
       "      <th></th>\n",
       "      <th>DEVICEUSER_ID</th>\n",
       "      <th>DEVICE_UUID</th>\n",
       "      <th>IP_ADDRESS</th>\n",
       "      <th>USER_AGENT</th>\n",
       "    </tr>\n",
       "    <tr>\n",
       "      <th>DEVICE_ID</th>\n",
       "      <th></th>\n",
       "      <th></th>\n",
       "      <th></th>\n",
       "      <th></th>\n",
       "    </tr>\n",
       "  </thead>\n",
       "  <tbody>\n",
       "    <tr>\n",
       "      <th>5f92d96abf40790017f43bbd</th>\n",
       "      <td>5e3d7a47478608001e2e261e</td>\n",
       "      <td>8e129c87-5a9d-4a3d-afe9-c98af335568f</td>\n",
       "      <td>88.101.215.7</td>\n",
       "      <td>Mozilla/5.0 (Web0S; Linux/SmartTV) AppleWebKit...</td>\n",
       "    </tr>\n",
       "    <tr>\n",
       "      <th>5f92d96abf40790017f43bf1</th>\n",
       "      <td>5edbb099c05b71001e77a4b2</td>\n",
       "      <td>dc3a0456-f902-4a43-a860-8e6ce2f20e0e</td>\n",
       "      <td>188.123.115.239</td>\n",
       "      <td>Mozilla/5.0 (Web0S; Linux/SmartTV) AppleWebKit...</td>\n",
       "    </tr>\n",
       "    <tr>\n",
       "      <th>5f92d96abf40790017f43bf8</th>\n",
       "      <td>5f95756d38df540017dfb646</td>\n",
       "      <td>f8d71c4e-c4c3-497a-ae60-3e6974ba3cbe</td>\n",
       "      <td>195.168.207.127</td>\n",
       "      <td>Mozilla/5.0 (Web0S; Linux/SmartTV) AppleWebKit...</td>\n",
       "    </tr>\n",
       "    <tr>\n",
       "      <th>5f92d96bbf40790017f43c00</th>\n",
       "      <td>5ef4b3b4a4d085001e8bf77d</td>\n",
       "      <td>62ba60cd-848b-4c4f-bf5e-9f99b6d5e9f9</td>\n",
       "      <td>178.143.34.66</td>\n",
       "      <td>HbbTV/1.2.1 (;Panasonic;VIERA 2015;3.021;9b01-...</td>\n",
       "    </tr>\n",
       "    <tr>\n",
       "      <th>5f92d96bbf40790017f43c30</th>\n",
       "      <td>5e4096224fa2a2001eeb98fe</td>\n",
       "      <td>620e4679-3f20-444c-ad6b-a4f402f75f1e</td>\n",
       "      <td>188.175.239.85</td>\n",
       "      <td>Mozilla/5.0 (Unknown; Linux armv7l) AppleWebKi...</td>\n",
       "    </tr>\n",
       "  </tbody>\n",
       "</table>\n",
       "</div>"
      ],
      "text/plain": [
       "                                     DEVICEUSER_ID  ...                                         USER_AGENT\n",
       "DEVICE_ID                                           ...                                                   \n",
       "5f92d96abf40790017f43bbd  5e3d7a47478608001e2e261e  ...  Mozilla/5.0 (Web0S; Linux/SmartTV) AppleWebKit...\n",
       "5f92d96abf40790017f43bf1  5edbb099c05b71001e77a4b2  ...  Mozilla/5.0 (Web0S; Linux/SmartTV) AppleWebKit...\n",
       "5f92d96abf40790017f43bf8  5f95756d38df540017dfb646  ...  Mozilla/5.0 (Web0S; Linux/SmartTV) AppleWebKit...\n",
       "5f92d96bbf40790017f43c00  5ef4b3b4a4d085001e8bf77d  ...  HbbTV/1.2.1 (;Panasonic;VIERA 2015;3.021;9b01-...\n",
       "5f92d96bbf40790017f43c30  5e4096224fa2a2001eeb98fe  ...  Mozilla/5.0 (Unknown; Linux armv7l) AppleWebKi...\n",
       "\n",
       "[5 rows x 4 columns]"
      ]
     },
     "execution_count": 44,
     "metadata": {
      "tags": []
     },
     "output_type": "execute_result"
    }
   ],
   "source": [
    "df = df2.set_index('DEVICE_ID')\n",
    "df.head()"
   ]
  },
  {
   "cell_type": "code",
   "execution_count": null,
   "metadata": {
    "colab": {
     "base_uri": "https://localhost:8080/"
    },
    "id": "N-dw1WEQo0jL",
    "outputId": "95470508-0ca1-4af9-df4b-9e962c52ebb7"
   },
   "outputs": [
    {
     "name": "stdout",
     "output_type": "stream",
     "text": [
      "<class 'pandas.core.frame.DataFrame'>\n",
      "Index: 2264662 entries, 5f92d96abf40790017f43bbd to 5ffeee178df5f60017d8df8c\n",
      "Data columns (total 4 columns):\n",
      " #   Column         Dtype \n",
      "---  ------         ----- \n",
      " 0   DEVICEUSER_ID  object\n",
      " 1   DEVICE_UUID    object\n",
      " 2   IP_ADDRESS     object\n",
      " 3   USER_AGENT     object\n",
      "dtypes: object(4)\n",
      "memory usage: 86.4+ MB\n"
     ]
    }
   ],
   "source": [
    "df.info()"
   ]
  },
  {
   "cell_type": "code",
   "execution_count": null,
   "metadata": {
    "id": "BEMwM0_JP9J7"
   },
   "outputs": [],
   "source": [
    "df.to_csv('device7.csv', sep='^')"
   ]
  },
  {
   "cell_type": "code",
   "execution_count": null,
   "metadata": {
    "colab": {
     "base_uri": "https://localhost:8080/"
    },
    "id": "_8vFnGXqxjbE",
    "outputId": "9b8c0663-4d11-4170-827c-e309bfd4c4f3"
   },
   "outputs": [
    {
     "name": "stdout",
     "output_type": "stream",
     "text": [
      "Requirement already satisfied: snowflake-connector-python in /usr/local/lib/python3.6/dist-packages (2.3.8)\n",
      "Requirement already satisfied: pyOpenSSL<20.0.0,>=16.2.0 in /usr/local/lib/python3.6/dist-packages (from snowflake-connector-python) (19.1.0)\n",
      "Requirement already satisfied: asn1crypto<2.0.0,>0.24.0 in /usr/local/lib/python3.6/dist-packages (from snowflake-connector-python) (1.4.0)\n",
      "Requirement already satisfied: azure-common<2.0.0 in /usr/local/lib/python3.6/dist-packages (from snowflake-connector-python) (1.1.26)\n",
      "Requirement already satisfied: pycryptodomex!=3.5.0,<4.0.0,>=3.2 in /usr/local/lib/python3.6/dist-packages (from snowflake-connector-python) (3.9.9)\n",
      "Requirement already satisfied: cryptography<4.0.0,>=2.5.0 in /usr/local/lib/python3.6/dist-packages (from snowflake-connector-python) (3.3.1)\n",
      "Requirement already satisfied: oscrypto<2.0.0 in /usr/local/lib/python3.6/dist-packages (from snowflake-connector-python) (1.2.1)\n",
      "Requirement already satisfied: idna<3,>=2.5 in /usr/local/lib/python3.6/dist-packages (from snowflake-connector-python) (2.10)\n",
      "Requirement already satisfied: chardet<4,>=3.0.2 in /usr/local/lib/python3.6/dist-packages (from snowflake-connector-python) (3.0.4)\n",
      "Requirement already satisfied: boto3<2.0.0,>=1.4.4 in /usr/local/lib/python3.6/dist-packages (from snowflake-connector-python) (1.16.53)\n",
      "Requirement already satisfied: certifi>=2017.4.17 in /usr/local/lib/python3.6/dist-packages (from snowflake-connector-python) (2020.12.5)\n",
      "Requirement already satisfied: pytz<2021.0 in /usr/local/lib/python3.6/dist-packages (from snowflake-connector-python) (2018.9)\n",
      "Requirement already satisfied: setuptools>34.0.0 in /usr/local/lib/python3.6/dist-packages (from snowflake-connector-python) (51.1.1)\n",
      "Requirement already satisfied: azure-storage-blob<13.0.0,>=12.0.0 in /usr/local/lib/python3.6/dist-packages (from snowflake-connector-python) (12.6.0)\n",
      "Requirement already satisfied: pyjwt<2.0.0 in /usr/local/lib/python3.6/dist-packages (from snowflake-connector-python) (1.7.1)\n",
      "Requirement already satisfied: requests<3.0.0 in /usr/local/lib/python3.6/dist-packages (from snowflake-connector-python) (2.23.0)\n",
      "Requirement already satisfied: cffi<2.0.0,>=1.9 in /usr/local/lib/python3.6/dist-packages (from snowflake-connector-python) (1.14.4)\n",
      "Requirement already satisfied: six>=1.5.2 in /usr/local/lib/python3.6/dist-packages (from pyOpenSSL<20.0.0,>=16.2.0->snowflake-connector-python) (1.15.0)\n",
      "Requirement already satisfied: s3transfer<0.4.0,>=0.3.0 in /usr/local/lib/python3.6/dist-packages (from boto3<2.0.0,>=1.4.4->snowflake-connector-python) (0.3.4)\n",
      "Requirement already satisfied: jmespath<1.0.0,>=0.7.1 in /usr/local/lib/python3.6/dist-packages (from boto3<2.0.0,>=1.4.4->snowflake-connector-python) (0.10.0)\n",
      "Requirement already satisfied: botocore<1.20.0,>=1.19.53 in /usr/local/lib/python3.6/dist-packages (from boto3<2.0.0,>=1.4.4->snowflake-connector-python) (1.19.53)\n",
      "Requirement already satisfied: msrest>=0.6.10 in /usr/local/lib/python3.6/dist-packages (from azure-storage-blob<13.0.0,>=12.0.0->snowflake-connector-python) (0.6.19)\n",
      "Requirement already satisfied: azure-core<2.0.0,>=1.9.0 in /usr/local/lib/python3.6/dist-packages (from azure-storage-blob<13.0.0,>=12.0.0->snowflake-connector-python) (1.10.0)\n",
      "Requirement already satisfied: urllib3!=1.25.0,!=1.25.1,<1.26,>=1.21.1 in /usr/local/lib/python3.6/dist-packages (from requests<3.0.0->snowflake-connector-python) (1.24.3)\n",
      "Requirement already satisfied: pycparser in /usr/local/lib/python3.6/dist-packages (from cffi<2.0.0,>=1.9->snowflake-connector-python) (2.20)\n",
      "Requirement already satisfied: python-dateutil<3.0.0,>=2.1 in /usr/local/lib/python3.6/dist-packages (from botocore<1.20.0,>=1.19.53->boto3<2.0.0,>=1.4.4->snowflake-connector-python) (2.8.1)\n",
      "Requirement already satisfied: isodate>=0.6.0 in /usr/local/lib/python3.6/dist-packages (from msrest>=0.6.10->azure-storage-blob<13.0.0,>=12.0.0->snowflake-connector-python) (0.6.0)\n",
      "Requirement already satisfied: requests-oauthlib>=0.5.0 in /usr/local/lib/python3.6/dist-packages (from msrest>=0.6.10->azure-storage-blob<13.0.0,>=12.0.0->snowflake-connector-python) (1.3.0)\n",
      "Requirement already satisfied: oauthlib>=3.0.0 in /usr/local/lib/python3.6/dist-packages (from requests-oauthlib>=0.5.0->msrest>=0.6.10->azure-storage-blob<13.0.0,>=12.0.0->snowflake-connector-python) (3.1.0)\n"
     ]
    }
   ],
   "source": [
    "!pip install snowflake-connector-python\n",
    "import pandas as pd\n",
    "import snowflake.connector"
   ]
  },
  {
   "cell_type": "code",
   "execution_count": null,
   "metadata": {
    "id": "3WjKK_kGxjbH"
   },
   "outputs": [],
   "source": [
    "conn = snowflake.connector.connect(\n",
    "                user=\"os.environ.get('SNOWFLAKE_USER')\",\n",
    "                password=\"os.environ.get('SNOWFLAKE_PASS')\",\n",
    "                account=\"os.environ.get('SNOWFLAKE_ACC')\",\n",
    "                database=\"os.environ.get('SNOWFLAKE_DB')\",\n",
    "                schema=\"os.environ.get('SNOWFLAKE_SCHEMA')\")"
   ]
  },
  {
   "cell_type": "code",
   "execution_count": null,
   "metadata": {
    "id": "K2Bmf0BjxjbJ"
   },
   "outputs": [],
   "source": [
    "cur = conn.cursor()"
   ]
  },
  {
   "cell_type": "code",
   "execution_count": null,
   "metadata": {
    "colab": {
     "base_uri": "https://localhost:8080/"
    },
    "id": "FGhaIDjZQkSh",
    "outputId": "a192539a-9fa6-4038-e508-a2d7a2a94285"
   },
   "outputs": [
    {
     "data": {
      "text/plain": [
       "<snowflake.connector.cursor.SnowflakeCursor at 0x7f5e6b877160>"
      ]
     },
     "execution_count": 51,
     "metadata": {
      "tags": []
     },
     "output_type": "execute_result"
    }
   ],
   "source": [
    "cur.execute('USE WAREHOUSE AFTERSPOT_WH')"
   ]
  },
  {
   "cell_type": "code",
   "execution_count": null,
   "metadata": {
    "colab": {
     "base_uri": "https://localhost:8080/"
    },
    "id": "PxxCPPwmQH3Z",
    "outputId": "38722d8b-774b-4aaa-902a-369e75a806d6"
   },
   "outputs": [
    {
     "data": {
      "text/plain": [
       "<snowflake.connector.cursor.SnowflakeCursor at 0x7f5e6b877160>"
      ]
     },
     "execution_count": 56,
     "metadata": {
      "tags": []
     },
     "output_type": "execute_result"
    }
   ],
   "source": [
    "cur.execute(\"put file://{} @{} auto_compress=true\".format('device7.csv', 'TEST'))"
   ]
  },
  {
   "cell_type": "code",
   "execution_count": null,
   "metadata": {
    "colab": {
     "base_uri": "https://localhost:8080/"
    },
    "id": "R_Cq3gFAUGgz",
    "outputId": "6d35b7d1-6dbf-4022-f327-6dc182fcc2a3"
   },
   "outputs": [
    {
     "data": {
      "text/plain": [
       "<snowflake.connector.cursor.SnowflakeCursor at 0x7f5e6b877160>"
      ]
     },
     "execution_count": 62,
     "metadata": {
      "tags": []
     },
     "output_type": "execute_result"
    }
   ],
   "source": [
    "cur.execute(\"COPY INTO DIM_DEVICE FROM @test/device7.csv.gz FILE_FORMAT=(TYPE=csv field_delimiter='^' skip_header=1)\")"
   ]
  },
  {
   "cell_type": "code",
   "execution_count": null,
   "metadata": {
    "id": "hZteRgtLxjba"
   },
   "outputs": [],
   "source": []
  }
 ],
 "metadata": {
  "colab": {
   "collapsed_sections": [],
   "name": "id_01.ipynb",
   "provenance": []
  },
  "kernelspec": {
   "display_name": "Python 3",
   "language": "python",
   "name": "python3"
  },
  "language_info": {
   "codemirror_mode": {
    "name": "ipython",
    "version": 3
   },
   "file_extension": ".py",
   "mimetype": "text/x-python",
   "name": "python",
   "nbconvert_exporter": "python",
   "pygments_lexer": "ipython3",
   "version": "3.7.4"
  }
 },
 "nbformat": 4,
 "nbformat_minor": 1
}
