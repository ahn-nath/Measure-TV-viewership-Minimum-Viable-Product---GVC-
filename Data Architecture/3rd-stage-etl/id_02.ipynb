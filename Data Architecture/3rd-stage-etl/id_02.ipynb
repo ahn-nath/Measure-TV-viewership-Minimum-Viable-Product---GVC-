{
 "cells": [
  {
   "cell_type": "code",
   "execution_count": 1,
   "metadata": {
    "colab": {
     "base_uri": "https://localhost:8080/"
    },
    "id": "ZY1pWXO3xjaf",
    "outputId": "11b3e765-2543-4131-aaee-6745e72e1661"
   },
   "outputs": [
    {
     "name": "stdout",
     "output_type": "stream",
     "text": [
      "Requirement already satisfied: dnspython in /usr/local/lib/python3.6/dist-packages (2.1.0)\n",
      "List of collections \n",
      "--------------------\n",
      "deviceusers\n",
      "devices\n"
     ]
    }
   ],
   "source": [
    "!pip install dnspython\n",
    "from pandas import DataFrame\n",
    "from pymongo import MongoClient\n",
    "import os\n",
    "\n",
    "#Broadcaster data\n",
    "client = MongoClient(os.environ.get('MONGO_BROADCASTERDATA_URI'))\n",
    "db = client[\"hybrid-id\"]\n",
    "\n",
    "    \n",
    "print(\"List of collections \\n--------------------\")\n",
    "\n",
    "#list collection names\n",
    "for x in db.list_collection_names():\n",
    "    print(x)"
   ]
  },
  {
   "cell_type": "code",
   "execution_count": 2,
   "metadata": {
    "id": "husLsueZxja2"
   },
   "outputs": [],
   "source": [
    "deviceusers = db.deviceusers.find( {} ) #get all documents from deviceusers collection\n",
    "list_cur = list(deviceusers) #cursor to list\n",
    "df_deviceusers = DataFrame(list_cur) #cursor to dataframe"
   ]
  },
  {
   "cell_type": "code",
   "execution_count": 3,
   "metadata": {
    "id": "-h4FXncexja6"
   },
   "outputs": [],
   "source": [
    "df_deviceusers.drop(columns=['__v', 'chlist', 'mid'], inplace=True) "
   ]
  },
  {
   "cell_type": "code",
   "execution_count": 4,
   "metadata": {
    "colab": {
     "base_uri": "https://localhost:8080/",
     "height": 206
    },
    "id": "Aod_jfoExja9",
    "outputId": "cdd594da-87ff-4910-ba05-3e917b229d0a"
   },
   "outputs": [
    {
     "data": {
      "text/html": [
       "<div>\n",
       "<style scoped>\n",
       "    .dataframe tbody tr th:only-of-type {\n",
       "        vertical-align: middle;\n",
       "    }\n",
       "\n",
       "    .dataframe tbody tr th {\n",
       "        vertical-align: top;\n",
       "    }\n",
       "\n",
       "    .dataframe thead th {\n",
       "        text-align: right;\n",
       "    }\n",
       "</style>\n",
       "<table border=\"1\" class=\"dataframe\">\n",
       "  <thead>\n",
       "    <tr style=\"text-align: right;\">\n",
       "      <th></th>\n",
       "      <th>_id</th>\n",
       "      <th>uaIpHash</th>\n",
       "    </tr>\n",
       "  </thead>\n",
       "  <tbody>\n",
       "    <tr>\n",
       "      <th>0</th>\n",
       "      <td>5e3d270effc977001ea26de7</td>\n",
       "      <td>cddcc768d93f853302995e33d2a929564ba269c1</td>\n",
       "    </tr>\n",
       "    <tr>\n",
       "      <th>1</th>\n",
       "      <td>5e3d2712ffc977001ea26df5</td>\n",
       "      <td>e7c4a5c04071291ab09c626b7f512e51d7668e9e</td>\n",
       "    </tr>\n",
       "    <tr>\n",
       "      <th>2</th>\n",
       "      <td>5e3d2712ffc977001ea26df3</td>\n",
       "      <td>ad7c5255c478cc541e29834429668b9836063d87</td>\n",
       "    </tr>\n",
       "    <tr>\n",
       "      <th>3</th>\n",
       "      <td>5e3d271affc977001ea26e0b</td>\n",
       "      <td>4bb42b4e3dcdaff864ce431db1b2579af3c29ba5</td>\n",
       "    </tr>\n",
       "    <tr>\n",
       "      <th>4</th>\n",
       "      <td>5e3d271dffc977001ea26e19</td>\n",
       "      <td>b488d091653eb57b62a91ad0f74207ea9cadd2fa</td>\n",
       "    </tr>\n",
       "  </tbody>\n",
       "</table>\n",
       "</div>"
      ],
      "text/plain": [
       "                        _id                                  uaIpHash\n",
       "0  5e3d270effc977001ea26de7  cddcc768d93f853302995e33d2a929564ba269c1\n",
       "1  5e3d2712ffc977001ea26df5  e7c4a5c04071291ab09c626b7f512e51d7668e9e\n",
       "2  5e3d2712ffc977001ea26df3  ad7c5255c478cc541e29834429668b9836063d87\n",
       "3  5e3d271affc977001ea26e0b  4bb42b4e3dcdaff864ce431db1b2579af3c29ba5\n",
       "4  5e3d271dffc977001ea26e19  b488d091653eb57b62a91ad0f74207ea9cadd2fa"
      ]
     },
     "execution_count": 4,
     "metadata": {
      "tags": []
     },
     "output_type": "execute_result"
    }
   ],
   "source": [
    "df_deviceusers.head()"
   ]
  },
  {
   "cell_type": "code",
   "execution_count": 5,
   "metadata": {
    "colab": {
     "base_uri": "https://localhost:8080/",
     "height": 206
    },
    "id": "bxsFD1YKxjbB",
    "outputId": "3cd301a7-b033-4ce9-eb04-ec9b15c2d1b1"
   },
   "outputs": [
    {
     "data": {
      "text/html": [
       "<div>\n",
       "<style scoped>\n",
       "    .dataframe tbody tr th:only-of-type {\n",
       "        vertical-align: middle;\n",
       "    }\n",
       "\n",
       "    .dataframe tbody tr th {\n",
       "        vertical-align: top;\n",
       "    }\n",
       "\n",
       "    .dataframe thead th {\n",
       "        text-align: right;\n",
       "    }\n",
       "</style>\n",
       "<table border=\"1\" class=\"dataframe\">\n",
       "  <thead>\n",
       "    <tr style=\"text-align: right;\">\n",
       "      <th></th>\n",
       "      <th>DeviceUser_id</th>\n",
       "      <th>UaIpHash</th>\n",
       "    </tr>\n",
       "  </thead>\n",
       "  <tbody>\n",
       "    <tr>\n",
       "      <th>0</th>\n",
       "      <td>5e3d270effc977001ea26de7</td>\n",
       "      <td>cddcc768d93f853302995e33d2a929564ba269c1</td>\n",
       "    </tr>\n",
       "    <tr>\n",
       "      <th>1</th>\n",
       "      <td>5e3d2712ffc977001ea26df5</td>\n",
       "      <td>e7c4a5c04071291ab09c626b7f512e51d7668e9e</td>\n",
       "    </tr>\n",
       "    <tr>\n",
       "      <th>2</th>\n",
       "      <td>5e3d2712ffc977001ea26df3</td>\n",
       "      <td>ad7c5255c478cc541e29834429668b9836063d87</td>\n",
       "    </tr>\n",
       "    <tr>\n",
       "      <th>3</th>\n",
       "      <td>5e3d271affc977001ea26e0b</td>\n",
       "      <td>4bb42b4e3dcdaff864ce431db1b2579af3c29ba5</td>\n",
       "    </tr>\n",
       "    <tr>\n",
       "      <th>4</th>\n",
       "      <td>5e3d271dffc977001ea26e19</td>\n",
       "      <td>b488d091653eb57b62a91ad0f74207ea9cadd2fa</td>\n",
       "    </tr>\n",
       "  </tbody>\n",
       "</table>\n",
       "</div>"
      ],
      "text/plain": [
       "              DeviceUser_id                                  UaIpHash\n",
       "0  5e3d270effc977001ea26de7  cddcc768d93f853302995e33d2a929564ba269c1\n",
       "1  5e3d2712ffc977001ea26df5  e7c4a5c04071291ab09c626b7f512e51d7668e9e\n",
       "2  5e3d2712ffc977001ea26df3  ad7c5255c478cc541e29834429668b9836063d87\n",
       "3  5e3d271affc977001ea26e0b  4bb42b4e3dcdaff864ce431db1b2579af3c29ba5\n",
       "4  5e3d271dffc977001ea26e19  b488d091653eb57b62a91ad0f74207ea9cadd2fa"
      ]
     },
     "execution_count": 5,
     "metadata": {
      "tags": []
     },
     "output_type": "execute_result"
    }
   ],
   "source": [
    "df_deviceusers.columns = ['DeviceUser_id', 'UaIpHash']\n",
    "df_deviceusers.head()"
   ]
  },
  {
   "cell_type": "code",
   "execution_count": 15,
   "metadata": {
    "colab": {
     "base_uri": "https://localhost:8080/",
     "height": 237
    },
    "id": "46sofrfMVtdq",
    "outputId": "f2e4a781-1204-40fd-e446-f6b8a471e9ab"
   },
   "outputs": [
    {
     "data": {
      "text/html": [
       "<div>\n",
       "<style scoped>\n",
       "    .dataframe tbody tr th:only-of-type {\n",
       "        vertical-align: middle;\n",
       "    }\n",
       "\n",
       "    .dataframe tbody tr th {\n",
       "        vertical-align: top;\n",
       "    }\n",
       "\n",
       "    .dataframe thead th {\n",
       "        text-align: right;\n",
       "    }\n",
       "</style>\n",
       "<table border=\"1\" class=\"dataframe\">\n",
       "  <thead>\n",
       "    <tr style=\"text-align: right;\">\n",
       "      <th></th>\n",
       "      <th>UaIpHash</th>\n",
       "    </tr>\n",
       "    <tr>\n",
       "      <th>DeviceUser_id</th>\n",
       "      <th></th>\n",
       "    </tr>\n",
       "  </thead>\n",
       "  <tbody>\n",
       "    <tr>\n",
       "      <th>5e3d270effc977001ea26de7</th>\n",
       "      <td>cddcc768d93f853302995e33d2a929564ba269c1</td>\n",
       "    </tr>\n",
       "    <tr>\n",
       "      <th>5e3d2712ffc977001ea26df5</th>\n",
       "      <td>e7c4a5c04071291ab09c626b7f512e51d7668e9e</td>\n",
       "    </tr>\n",
       "    <tr>\n",
       "      <th>5e3d2712ffc977001ea26df3</th>\n",
       "      <td>ad7c5255c478cc541e29834429668b9836063d87</td>\n",
       "    </tr>\n",
       "    <tr>\n",
       "      <th>5e3d271affc977001ea26e0b</th>\n",
       "      <td>4bb42b4e3dcdaff864ce431db1b2579af3c29ba5</td>\n",
       "    </tr>\n",
       "    <tr>\n",
       "      <th>5e3d271dffc977001ea26e19</th>\n",
       "      <td>b488d091653eb57b62a91ad0f74207ea9cadd2fa</td>\n",
       "    </tr>\n",
       "  </tbody>\n",
       "</table>\n",
       "</div>"
      ],
      "text/plain": [
       "                                                          UaIpHash\n",
       "DeviceUser_id                                                     \n",
       "5e3d270effc977001ea26de7  cddcc768d93f853302995e33d2a929564ba269c1\n",
       "5e3d2712ffc977001ea26df5  e7c4a5c04071291ab09c626b7f512e51d7668e9e\n",
       "5e3d2712ffc977001ea26df3  ad7c5255c478cc541e29834429668b9836063d87\n",
       "5e3d271affc977001ea26e0b  4bb42b4e3dcdaff864ce431db1b2579af3c29ba5\n",
       "5e3d271dffc977001ea26e19  b488d091653eb57b62a91ad0f74207ea9cadd2fa"
      ]
     },
     "execution_count": 15,
     "metadata": {
      "tags": []
     },
     "output_type": "execute_result"
    }
   ],
   "source": [
    "df = df_deviceusers.set_index('DeviceUser_id')\n",
    "df.head()"
   ]
  },
  {
   "cell_type": "code",
   "execution_count": 17,
   "metadata": {
    "id": "BEMwM0_JP9J7"
   },
   "outputs": [],
   "source": [
    "df.to_csv('deviceuser2.csv')"
   ]
  },
  {
   "cell_type": "code",
   "execution_count": 6,
   "metadata": {
    "colab": {
     "base_uri": "https://localhost:8080/"
    },
    "id": "_8vFnGXqxjbE",
    "outputId": "6303f1aa-292a-498a-a0e4-6e6509b6ea41"
   },
   "outputs": [
    {
     "name": "stdout",
     "output_type": "stream",
     "text": [
      "Collecting snowflake-connector-python\n",
      "\u001b[?25l  Downloading https://files.pythonhosted.org/packages/bc/d1/e1708b8beea9604a7c6b5b96f48a6d863e0126d5439c638b6ee7e33641fd/snowflake_connector_python-2.3.8-cp36-cp36m-manylinux2010_x86_64.whl (12.2MB)\n",
      "\u001b[K     |████████████████████████████████| 12.2MB 6.6MB/s \n",
      "\u001b[?25hCollecting asn1crypto<2.0.0,>0.24.0\n",
      "\u001b[?25l  Downloading https://files.pythonhosted.org/packages/b5/a8/56be92dcd4a5bf1998705a9b4028249fe7c9a035b955fe93b6a3e5b829f8/asn1crypto-1.4.0-py2.py3-none-any.whl (104kB)\n",
      "\u001b[K     |████████████████████████████████| 112kB 38.6MB/s \n",
      "\u001b[?25hCollecting oscrypto<2.0.0\n",
      "\u001b[?25l  Downloading https://files.pythonhosted.org/packages/83/81/f3a737003ae1687f2bb615210a3fc5bdd4bcd34b0f723f2d97b5aa62ca86/oscrypto-1.2.1-py2.py3-none-any.whl (192kB)\n",
      "\u001b[K     |████████████████████████████████| 194kB 44.4MB/s \n",
      "\u001b[?25hCollecting pyOpenSSL<20.0.0,>=16.2.0\n",
      "\u001b[?25l  Downloading https://files.pythonhosted.org/packages/9e/de/f8342b68fa9e981d348039954657bdf681b2ab93de27443be51865ffa310/pyOpenSSL-19.1.0-py2.py3-none-any.whl (53kB)\n",
      "\u001b[K     |████████████████████████████████| 61kB 6.4MB/s \n",
      "\u001b[?25hCollecting azure-common<2.0.0\n",
      "  Downloading https://files.pythonhosted.org/packages/19/2b/46ada1753c4a640bc3ad04a1e20b1a5ea52a8f18079e1b8238e536aa0c98/azure_common-1.1.26-py2.py3-none-any.whl\n",
      "Requirement already satisfied: requests<3.0.0 in /usr/local/lib/python3.6/dist-packages (from snowflake-connector-python) (2.23.0)\n",
      "Requirement already satisfied: idna<3,>=2.5 in /usr/local/lib/python3.6/dist-packages (from snowflake-connector-python) (2.10)\n",
      "Collecting pyjwt<2.0.0\n",
      "  Downloading https://files.pythonhosted.org/packages/87/8b/6a9f14b5f781697e51259d81657e6048fd31a113229cf346880bb7545565/PyJWT-1.7.1-py2.py3-none-any.whl\n",
      "Collecting pycryptodomex!=3.5.0,<4.0.0,>=3.2\n",
      "\u001b[?25l  Downloading https://files.pythonhosted.org/packages/ff/29/1541b26a2b679bafb124138c5f009ed7821d9d329536b79a313a9a1aa684/pycryptodomex-3.9.9-cp36-cp36m-manylinux1_x86_64.whl (13.7MB)\n",
      "\u001b[K     |████████████████████████████████| 13.7MB 278kB/s \n",
      "\u001b[?25hRequirement already satisfied: chardet<4,>=3.0.2 in /usr/local/lib/python3.6/dist-packages (from snowflake-connector-python) (3.0.4)\n",
      "Collecting azure-storage-blob<13.0.0,>=12.0.0\n",
      "\u001b[?25l  Downloading https://files.pythonhosted.org/packages/e7/5d/0bb4ed37da2523c393789b1d8ecbf56b1d35fa344af30fe423da2c06cbe9/azure_storage_blob-12.6.0-py2.py3-none-any.whl (328kB)\n",
      "\u001b[K     |████████████████████████████████| 337kB 50.5MB/s \n",
      "\u001b[?25hRequirement already satisfied: cffi<2.0.0,>=1.9 in /usr/local/lib/python3.6/dist-packages (from snowflake-connector-python) (1.14.4)\n",
      "Requirement already satisfied: setuptools>34.0.0 in /usr/local/lib/python3.6/dist-packages (from snowflake-connector-python) (51.1.1)\n",
      "Collecting boto3<2.0.0,>=1.4.4\n",
      "\u001b[?25l  Downloading https://files.pythonhosted.org/packages/b3/7f/c7bafbc7db335f6c5194d9b948b0c6fcfe013d14026992150ee749fc5877/boto3-1.16.53-py2.py3-none-any.whl (130kB)\n",
      "\u001b[K     |████████████████████████████████| 133kB 53.6MB/s \n",
      "\u001b[?25hRequirement already satisfied: pytz<2021.0 in /usr/local/lib/python3.6/dist-packages (from snowflake-connector-python) (2018.9)\n",
      "Requirement already satisfied: certifi<2021.0.0 in /usr/local/lib/python3.6/dist-packages (from snowflake-connector-python) (2020.12.5)\n",
      "Collecting cryptography<4.0.0,>=2.5.0\n",
      "\u001b[?25l  Downloading https://files.pythonhosted.org/packages/c9/de/7054df0620b5411ba45480f0261e1fb66a53f3db31b28e3aa52c026e72d9/cryptography-3.3.1-cp36-abi3-manylinux2010_x86_64.whl (2.6MB)\n",
      "\u001b[K     |████████████████████████████████| 2.6MB 38.1MB/s \n",
      "\u001b[?25hRequirement already satisfied: six>=1.5.2 in /usr/local/lib/python3.6/dist-packages (from pyOpenSSL<20.0.0,>=16.2.0->snowflake-connector-python) (1.15.0)\n",
      "Requirement already satisfied: urllib3!=1.25.0,!=1.25.1,<1.26,>=1.21.1 in /usr/local/lib/python3.6/dist-packages (from requests<3.0.0->snowflake-connector-python) (1.24.3)\n",
      "Collecting msrest>=0.6.10\n",
      "\u001b[?25l  Downloading https://files.pythonhosted.org/packages/fa/f5/9e315fe8cb985b0ce052b34bcb767883dc739f46fadb62f05a7e6d6eedbe/msrest-0.6.19-py2.py3-none-any.whl (84kB)\n",
      "\u001b[K     |████████████████████████████████| 92kB 7.8MB/s \n",
      "\u001b[?25hCollecting azure-core<2.0.0,>=1.9.0\n",
      "\u001b[?25l  Downloading https://files.pythonhosted.org/packages/12/9e/6bb67fe85f6a89d71f50c86a0da778a5064f749a485ed9ba498067034227/azure_core-1.10.0-py2.py3-none-any.whl (125kB)\n",
      "\u001b[K     |████████████████████████████████| 133kB 54.6MB/s \n",
      "\u001b[?25hRequirement already satisfied: pycparser in /usr/local/lib/python3.6/dist-packages (from cffi<2.0.0,>=1.9->snowflake-connector-python) (2.20)\n",
      "Collecting jmespath<1.0.0,>=0.7.1\n",
      "  Downloading https://files.pythonhosted.org/packages/07/cb/5f001272b6faeb23c1c9e0acc04d48eaaf5c862c17709d20e3469c6e0139/jmespath-0.10.0-py2.py3-none-any.whl\n",
      "Collecting botocore<1.20.0,>=1.19.53\n",
      "\u001b[?25l  Downloading https://files.pythonhosted.org/packages/a2/89/f2511851beb7d687ac45638a0e62b5cdeb0abca572ac7d3d250d6f4c888f/botocore-1.19.53-py2.py3-none-any.whl (7.2MB)\n",
      "\u001b[K     |████████████████████████████████| 7.2MB 38.3MB/s \n",
      "\u001b[?25hCollecting s3transfer<0.4.0,>=0.3.0\n",
      "\u001b[?25l  Downloading https://files.pythonhosted.org/packages/ea/43/4b4a1b26eb03a429a4c37ca7fdf369d938bd60018fc194e94b8379b0c77c/s3transfer-0.3.4-py2.py3-none-any.whl (69kB)\n",
      "\u001b[K     |████████████████████████████████| 71kB 6.6MB/s \n",
      "\u001b[?25hRequirement already satisfied: requests-oauthlib>=0.5.0 in /usr/local/lib/python3.6/dist-packages (from msrest>=0.6.10->azure-storage-blob<13.0.0,>=12.0.0->snowflake-connector-python) (1.3.0)\n",
      "Collecting isodate>=0.6.0\n",
      "\u001b[?25l  Downloading https://files.pythonhosted.org/packages/9b/9f/b36f7774ff5ea8e428fdcfc4bb332c39ee5b9362ddd3d40d9516a55221b2/isodate-0.6.0-py2.py3-none-any.whl (45kB)\n",
      "\u001b[K     |████████████████████████████████| 51kB 5.5MB/s \n",
      "\u001b[?25hRequirement already satisfied: python-dateutil<3.0.0,>=2.1 in /usr/local/lib/python3.6/dist-packages (from botocore<1.20.0,>=1.19.53->boto3<2.0.0,>=1.4.4->snowflake-connector-python) (2.8.1)\n",
      "Requirement already satisfied: oauthlib>=3.0.0 in /usr/local/lib/python3.6/dist-packages (from requests-oauthlib>=0.5.0->msrest>=0.6.10->azure-storage-blob<13.0.0,>=12.0.0->snowflake-connector-python) (3.1.0)\n",
      "\u001b[31mERROR: botocore 1.19.53 has requirement urllib3<1.27,>=1.25.4; python_version != \"3.4\", but you'll have urllib3 1.24.3 which is incompatible.\u001b[0m\n",
      "Installing collected packages: asn1crypto, oscrypto, cryptography, pyOpenSSL, azure-common, pyjwt, pycryptodomex, isodate, msrest, azure-core, azure-storage-blob, jmespath, botocore, s3transfer, boto3, snowflake-connector-python\n",
      "Successfully installed asn1crypto-1.4.0 azure-common-1.1.26 azure-core-1.10.0 azure-storage-blob-12.6.0 boto3-1.16.53 botocore-1.19.53 cryptography-3.3.1 isodate-0.6.0 jmespath-0.10.0 msrest-0.6.19 oscrypto-1.2.1 pyOpenSSL-19.1.0 pycryptodomex-3.9.9 pyjwt-1.7.1 s3transfer-0.3.4 snowflake-connector-python-2.3.8\n"
     ]
    }
   ],
   "source": [
    "!pip install snowflake-connector-python\n",
    "import pandas as pd\n",
    "import snowflake.connector"
   ]
  },
  {
   "cell_type": "code",
   "execution_count": 8,
   "metadata": {
    "id": "3WjKK_kGxjbH"
   },
   "outputs": [],
   "source": [
    "conn = snowflake.connector.connect(\n",
    "                user=\"os.environ.get('SNOWFLAKE_USER')\",\n",
    "                password=\"os.environ.get('SNOWFLAKE_PASS')\",\n",
    "                account=\"os.environ.get('SNOWFLAKE_ACC')\",\n",
    "                database=\"os.environ.get('SNOWFLAKE_DB')\",\n",
    "                schema=\"os.environ.get('SNOWFLAKE_SCHEMA')\")"
   ]
  },
  {
   "cell_type": "code",
   "execution_count": 9,
   "metadata": {
    "id": "K2Bmf0BjxjbJ"
   },
   "outputs": [],
   "source": [
    "cur = conn.cursor()"
   ]
  },
  {
   "cell_type": "code",
   "execution_count": 10,
   "metadata": {
    "colab": {
     "base_uri": "https://localhost:8080/"
    },
    "id": "FGhaIDjZQkSh",
    "outputId": "ad4ade8f-00df-4314-e35f-af92b01932ad"
   },
   "outputs": [
    {
     "data": {
      "text/plain": [
       "<snowflake.connector.cursor.SnowflakeCursor at 0x7f04533eaa90>"
      ]
     },
     "execution_count": 10,
     "metadata": {
      "tags": []
     },
     "output_type": "execute_result"
    }
   ],
   "source": [
    "cur.execute('USE WAREHOUSE AFTERSPOT_WH')"
   ]
  },
  {
   "cell_type": "code",
   "execution_count": 18,
   "metadata": {
    "colab": {
     "base_uri": "https://localhost:8080/"
    },
    "id": "PxxCPPwmQH3Z",
    "outputId": "fbf88f09-69c1-4371-9e4d-2f8a0bbbf654"
   },
   "outputs": [
    {
     "data": {
      "text/plain": [
       "<snowflake.connector.cursor.SnowflakeCursor at 0x7f04533eaa90>"
      ]
     },
     "execution_count": 18,
     "metadata": {
      "tags": []
     },
     "output_type": "execute_result"
    }
   ],
   "source": [
    "cur.execute(\"put file://{} @{} auto_compress=true\".format('deviceuser2.csv', 'TEST'))"
   ]
  },
  {
   "cell_type": "code",
   "execution_count": 21,
   "metadata": {
    "colab": {
     "base_uri": "https://localhost:8080/"
    },
    "id": "R_Cq3gFAUGgz",
    "outputId": "f9e88ae4-0d92-4608-8455-12ff94168d04"
   },
   "outputs": [
    {
     "data": {
      "text/plain": [
       "<snowflake.connector.cursor.SnowflakeCursor at 0x7f04533eaa90>"
      ]
     },
     "execution_count": 21,
     "metadata": {
      "tags": []
     },
     "output_type": "execute_result"
    }
   ],
   "source": [
    "cur.execute(\"COPY INTO DIM_DEVICEUSER FROM @test/deviceuser2.csv.gz FILE_FORMAT=(TYPE=csv field_delimiter=',' skip_header=1) ON_ERROR = 'CONTINUE'\")"
   ]
  },
  {
   "cell_type": "code",
   "execution_count": null,
   "metadata": {
    "id": "hZteRgtLxjba"
   },
   "outputs": [],
   "source": []
  }
 ],
 "metadata": {
  "colab": {
   "name": "id_02.ipynb",
   "provenance": []
  },
  "kernelspec": {
   "display_name": "Python 3",
   "language": "python",
   "name": "python3"
  },
  "language_info": {
   "codemirror_mode": {
    "name": "ipython",
    "version": 3
   },
   "file_extension": ".py",
   "mimetype": "text/x-python",
   "name": "python",
   "nbconvert_exporter": "python",
   "pygments_lexer": "ipython3",
   "version": "3.7.4"
  }
 },
 "nbformat": 4,
 "nbformat_minor": 1
}
