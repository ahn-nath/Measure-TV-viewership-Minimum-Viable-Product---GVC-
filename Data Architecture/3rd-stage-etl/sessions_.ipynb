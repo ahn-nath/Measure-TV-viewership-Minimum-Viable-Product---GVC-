{
 "cells": [
  {
   "cell_type": "code",
   "execution_count": null,
   "metadata": {
    "colab": {
     "base_uri": "https://localhost:8080/"
    },
    "id": "0rnkukmqKHYS",
    "outputId": "a565ebd9-f36d-43bd-c3b8-ab59a4831bfc"
   },
   "outputs": [
    {
     "name": "stdout",
     "output_type": "stream",
     "text": [
      "Requirement already satisfied: influxdb_client in /usr/local/lib/python3.6/dist-packages (1.13.0)\n",
      "Requirement already satisfied: rx>=3.0.1 in /usr/local/lib/python3.6/dist-packages (from influxdb_client) (3.1.1)\n",
      "Requirement already satisfied: python-dateutil>=2.5.3 in /usr/local/lib/python3.6/dist-packages (from influxdb_client) (2.8.1)\n",
      "Requirement already satisfied: certifi>=14.05.14 in /usr/local/lib/python3.6/dist-packages (from influxdb_client) (2020.12.5)\n",
      "Requirement already satisfied: urllib3>=1.15.1 in /usr/local/lib/python3.6/dist-packages (from influxdb_client) (1.24.3)\n",
      "Requirement already satisfied: setuptools>=21.0.0 in /usr/local/lib/python3.6/dist-packages (from influxdb_client) (51.1.1)\n",
      "Requirement already satisfied: pytz>=2019.1 in /usr/local/lib/python3.6/dist-packages (from influxdb_client) (2020.5)\n",
      "Requirement already satisfied: six>=1.10 in /usr/local/lib/python3.6/dist-packages (from influxdb_client) (1.15.0)\n"
     ]
    }
   ],
   "source": [
    "!pip install influxdb_client\n",
    "#3st Stage - Sessions connector\n",
    "# sessions\n",
    "# table name: Fact_User_session\n",
    "\n",
    "import pandas\n",
    "from pandas import DataFrame\n",
    "import os\n",
    "import influxdb_client\n",
    "from influxdb_client.client import query_api\n",
    "import datetime\n",
    "\n",
    "my_org = os.environ.get('InfluxDB_org')\n",
    "client = influxdb_client.InfluxDBClient(url = os.environ.get('InfluxDB_URL'), token = os.environ.get('InfluxDB_token'), org = my_org)\n",
    "\n",
    "query_api = client.query_api()\n"
   ]
  },
  {
   "cell_type": "code",
   "execution_count": null,
   "metadata": {
    "id": "C6iefquXnFGF"
   },
   "outputs": [],
   "source": [
    "# (0) Get values to dataframe\n",
    "query = 'from(bucket: \"hybrid-dast\")\\\n",
    "|> range(start: v.timeRangeStart, stop: v.timeRangeStop)\\\n",
    "|> filter(fn: (r) => r[\"_measurement\"] == \"pings\" and r.channel == \"57ea31912bb6581000092e89\")\\\n",
    "|> aggregateWindow(every: 1h, fn: count, createEmpty: true)'\n",
    "\n",
    "data = client.query_api().query_data_frame(org = my_org, query = query)"
   ]
  },
  {
   "cell_type": "code",
   "execution_count": null,
   "metadata": {
    "colab": {
     "base_uri": "https://localhost:8080/",
     "height": 424
    },
    "id": "-7GkXnvmRdU_",
    "outputId": "bc22241e-efa6-4364-809b-29542af9c6d4"
   },
   "outputs": [
    {
     "data": {
      "text/html": [
       "<div>\n",
       "<style scoped>\n",
       "    .dataframe tbody tr th:only-of-type {\n",
       "        vertical-align: middle;\n",
       "    }\n",
       "\n",
       "    .dataframe tbody tr th {\n",
       "        vertical-align: top;\n",
       "    }\n",
       "\n",
       "    .dataframe thead th {\n",
       "        text-align: right;\n",
       "    }\n",
       "</style>\n",
       "<table border=\"1\" class=\"dataframe\">\n",
       "  <thead>\n",
       "    <tr style=\"text-align: right;\">\n",
       "      <th></th>\n",
       "      <th>result</th>\n",
       "      <th>table</th>\n",
       "      <th>_start</th>\n",
       "      <th>_stop</th>\n",
       "      <th>_time</th>\n",
       "      <th>_value</th>\n",
       "      <th>_field</th>\n",
       "      <th>_measurement</th>\n",
       "      <th>channel</th>\n",
       "    </tr>\n",
       "  </thead>\n",
       "  <tbody>\n",
       "    <tr>\n",
       "      <th>0</th>\n",
       "      <td>_result</td>\n",
       "      <td>0</td>\n",
       "      <td>2021-01-08 17:00:00+00:00</td>\n",
       "      <td>2021-01-09 00:00:00+00:00</td>\n",
       "      <td>2021-01-08 17:00:00.060000+00:00</td>\n",
       "      <td>5e5c100aaa3b86001eb0ae80</td>\n",
       "      <td>uid</td>\n",
       "      <td>pings</td>\n",
       "      <td>59f9c0dfbc95750d006b98f5</td>\n",
       "    </tr>\n",
       "    <tr>\n",
       "      <th>1</th>\n",
       "      <td>_result</td>\n",
       "      <td>0</td>\n",
       "      <td>2021-01-08 17:00:00+00:00</td>\n",
       "      <td>2021-01-09 00:00:00+00:00</td>\n",
       "      <td>2021-01-08 17:00:00.228000+00:00</td>\n",
       "      <td>5f92f16d5d817400179697c1</td>\n",
       "      <td>uid</td>\n",
       "      <td>pings</td>\n",
       "      <td>59f9c0dfbc95750d006b98f5</td>\n",
       "    </tr>\n",
       "    <tr>\n",
       "      <th>2</th>\n",
       "      <td>_result</td>\n",
       "      <td>0</td>\n",
       "      <td>2021-01-08 17:00:00+00:00</td>\n",
       "      <td>2021-01-09 00:00:00+00:00</td>\n",
       "      <td>2021-01-08 17:00:00.453000+00:00</td>\n",
       "      <td>5e3d8abe41eb00001e38eb16</td>\n",
       "      <td>uid</td>\n",
       "      <td>pings</td>\n",
       "      <td>59f9c0dfbc95750d006b98f5</td>\n",
       "    </tr>\n",
       "    <tr>\n",
       "      <th>3</th>\n",
       "      <td>_result</td>\n",
       "      <td>0</td>\n",
       "      <td>2021-01-08 17:00:00+00:00</td>\n",
       "      <td>2021-01-09 00:00:00+00:00</td>\n",
       "      <td>2021-01-08 17:00:00.591000+00:00</td>\n",
       "      <td>5fb928b73c1290001707a94d</td>\n",
       "      <td>uid</td>\n",
       "      <td>pings</td>\n",
       "      <td>59f9c0dfbc95750d006b98f5</td>\n",
       "    </tr>\n",
       "    <tr>\n",
       "      <th>4</th>\n",
       "      <td>_result</td>\n",
       "      <td>0</td>\n",
       "      <td>2021-01-08 17:00:00+00:00</td>\n",
       "      <td>2021-01-09 00:00:00+00:00</td>\n",
       "      <td>2021-01-08 17:00:00.609000+00:00</td>\n",
       "      <td>5e41bd10980315001e167ee3</td>\n",
       "      <td>uid</td>\n",
       "      <td>pings</td>\n",
       "      <td>59f9c0dfbc95750d006b98f5</td>\n",
       "    </tr>\n",
       "    <tr>\n",
       "      <th>...</th>\n",
       "      <td>...</td>\n",
       "      <td>...</td>\n",
       "      <td>...</td>\n",
       "      <td>...</td>\n",
       "      <td>...</td>\n",
       "      <td>...</td>\n",
       "      <td>...</td>\n",
       "      <td>...</td>\n",
       "      <td>...</td>\n",
       "    </tr>\n",
       "    <tr>\n",
       "      <th>536672</th>\n",
       "      <td>_result</td>\n",
       "      <td>1</td>\n",
       "      <td>2021-01-08 17:00:00+00:00</td>\n",
       "      <td>2021-01-09 00:00:00+00:00</td>\n",
       "      <td>2021-01-08 18:22:57.461000+00:00</td>\n",
       "      <td>5f9305fa16de4a00172ca837</td>\n",
       "      <td>uid</td>\n",
       "      <td>pings</td>\n",
       "      <td>57ea31912bb6581000092e89</td>\n",
       "    </tr>\n",
       "    <tr>\n",
       "      <th>536673</th>\n",
       "      <td>_result</td>\n",
       "      <td>1</td>\n",
       "      <td>2021-01-08 17:00:00+00:00</td>\n",
       "      <td>2021-01-09 00:00:00+00:00</td>\n",
       "      <td>2021-01-08 18:22:57.496000+00:00</td>\n",
       "      <td>5ff782a2450cbb0017a24261</td>\n",
       "      <td>uid</td>\n",
       "      <td>pings</td>\n",
       "      <td>57ea31912bb6581000092e89</td>\n",
       "    </tr>\n",
       "    <tr>\n",
       "      <th>536674</th>\n",
       "      <td>_result</td>\n",
       "      <td>1</td>\n",
       "      <td>2021-01-08 17:00:00+00:00</td>\n",
       "      <td>2021-01-09 00:00:00+00:00</td>\n",
       "      <td>2021-01-08 18:22:57.507000+00:00</td>\n",
       "      <td>5e3ebc0d39a96c001e50e358</td>\n",
       "      <td>uid</td>\n",
       "      <td>pings</td>\n",
       "      <td>57ea31912bb6581000092e89</td>\n",
       "    </tr>\n",
       "    <tr>\n",
       "      <th>536675</th>\n",
       "      <td>_result</td>\n",
       "      <td>1</td>\n",
       "      <td>2021-01-08 17:00:00+00:00</td>\n",
       "      <td>2021-01-09 00:00:00+00:00</td>\n",
       "      <td>2021-01-08 18:22:57.520000+00:00</td>\n",
       "      <td>5e3d539288b36b001e882a15</td>\n",
       "      <td>uid</td>\n",
       "      <td>pings</td>\n",
       "      <td>57ea31912bb6581000092e89</td>\n",
       "    </tr>\n",
       "    <tr>\n",
       "      <th>536676</th>\n",
       "      <td>_result</td>\n",
       "      <td>1</td>\n",
       "      <td>2021-01-08 17:00:00+00:00</td>\n",
       "      <td>2021-01-09 00:00:00+00:00</td>\n",
       "      <td>2021-01-08 18:22:57.544000+00:00</td>\n",
       "      <td>5e3d97ad7e3de3001e01cb21</td>\n",
       "      <td>uid</td>\n",
       "      <td>pings</td>\n",
       "      <td>57ea</td>\n",
       "    </tr>\n",
       "  </tbody>\n",
       "</table>\n",
       "<p>536677 rows × 9 columns</p>\n",
       "</div>"
      ],
      "text/plain": [
       "         result table  ... _measurement                   channel\n",
       "0       _result     0  ...        pings  59f9c0dfbc95750d006b98f5\n",
       "1       _result     0  ...        pings  59f9c0dfbc95750d006b98f5\n",
       "2       _result     0  ...        pings  59f9c0dfbc95750d006b98f5\n",
       "3       _result     0  ...        pings  59f9c0dfbc95750d006b98f5\n",
       "4       _result     0  ...        pings  59f9c0dfbc95750d006b98f5\n",
       "...         ...   ...  ...          ...                       ...\n",
       "536672  _result     1  ...        pings  57ea31912bb6581000092e89\n",
       "536673  _result     1  ...        pings  57ea31912bb6581000092e89\n",
       "536674  _result     1  ...        pings  57ea31912bb6581000092e89\n",
       "536675  _result     1  ...        pings  57ea31912bb6581000092e89\n",
       "536676  _result     1  ...        pings                      57ea\n",
       "\n",
       "[536677 rows x 9 columns]"
      ]
     },
     "execution_count": 3,
     "metadata": {
      "tags": []
     },
     "output_type": "execute_result"
    }
   ],
   "source": [
    "data"
   ]
  },
  {
   "cell_type": "code",
   "execution_count": null,
   "metadata": {
    "id": "_8Q0fTklKHYo"
   },
   "outputs": [],
   "source": [
    "# drop unnecessary tables\n",
    "data.drop(columns=['result', 'table', '_measurement'], inplace=True)"
   ]
  },
  {
   "cell_type": "code",
   "execution_count": null,
   "metadata": {
    "id": "IjgJpg3KKHYr"
   },
   "outputs": [],
   "source": [
    "# (2) Calculate time difference between dates per row to get star and end session \n",
    "\n",
    "#get time difference (seconds) for each related datetime by user and channel\n",
    "df = data.sort_values(['_value', '_time'])\n",
    "df['Diff'] = df.groupby(['_value', 'channel'])['_time'].diff().dt.seconds\n",
    "\n",
    "\n",
    "# get consecutive groups of any values and multiply total number of consecutive values by the 'number' to get total seconds for group\n",
    "df['times_value'] = df.Diff.groupby((df.Diff != df.Diff.shift()).cumsum()).transform('size') * df.Diff"
   ]
  },
  {
   "cell_type": "code",
   "execution_count": null,
   "metadata": {
    "id": "nE1e_aklKHYx"
   },
   "outputs": [],
   "source": [
    "# assign total duration between start and end session to row sessions\n",
    "import numpy as np\n",
    "\n",
    "#get value of the next row in\"times_value\" if Diff value is greater than 16sec and next value in row is not consecutive\n",
    "df['Post_Time'] = df.loc[((df['Diff'].shift(+1) >= 16) | (np.isnan((df['Diff'].shift(+1))))  ) &  (df['Diff'].shift(0) <= 15), 'times_value']\n",
    "df['Post_Time'] = df['Post_Time'].shift(-1)"
   ]
  },
  {
   "cell_type": "code",
   "execution_count": null,
   "metadata": {
    "colab": {
     "base_uri": "https://localhost:8080/",
     "height": 424
    },
    "id": "C0bfkx1YKHYz",
    "outputId": "ef0941d5-d914-4ced-a8c9-e16354c2b69b"
   },
   "outputs": [
    {
     "data": {
      "text/html": [
       "<div>\n",
       "<style scoped>\n",
       "    .dataframe tbody tr th:only-of-type {\n",
       "        vertical-align: middle;\n",
       "    }\n",
       "\n",
       "    .dataframe tbody tr th {\n",
       "        vertical-align: top;\n",
       "    }\n",
       "\n",
       "    .dataframe thead th {\n",
       "        text-align: right;\n",
       "    }\n",
       "</style>\n",
       "<table border=\"1\" class=\"dataframe\">\n",
       "  <thead>\n",
       "    <tr style=\"text-align: right;\">\n",
       "      <th></th>\n",
       "      <th>_start</th>\n",
       "      <th>_stop</th>\n",
       "      <th>_time</th>\n",
       "      <th>_value</th>\n",
       "      <th>_field</th>\n",
       "      <th>channel</th>\n",
       "      <th>Diff</th>\n",
       "      <th>times_value</th>\n",
       "      <th>Post_Time</th>\n",
       "    </tr>\n",
       "  </thead>\n",
       "  <tbody>\n",
       "    <tr>\n",
       "      <th>458060</th>\n",
       "      <td>2021-01-08 17:00:00+00:00</td>\n",
       "      <td>2021-01-09 00:00:00+00:00</td>\n",
       "      <td>2021-01-08 17:57:56.485000+00:00</td>\n",
       "      <td>5e3d2735ffc977001ea26e45</td>\n",
       "      <td>uid</td>\n",
       "      <td>57ea31912bb6581000092e89</td>\n",
       "      <td>30.0</td>\n",
       "      <td>30.0</td>\n",
       "      <td>45.0</td>\n",
       "    </tr>\n",
       "    <tr>\n",
       "      <th>264971</th>\n",
       "      <td>2021-01-08 17:00:00+00:00</td>\n",
       "      <td>2021-01-09 00:00:00+00:00</td>\n",
       "      <td>2021-01-08 17:01:19.705000+00:00</td>\n",
       "      <td>5e3d2797ffc977001ea26efd</td>\n",
       "      <td>uid</td>\n",
       "      <td>57ea31912bb6581000092e89</td>\n",
       "      <td>33.0</td>\n",
       "      <td>33.0</td>\n",
       "      <td>240.0</td>\n",
       "    </tr>\n",
       "    <tr>\n",
       "      <th>279874</th>\n",
       "      <td>2021-01-08 17:00:00+00:00</td>\n",
       "      <td>2021-01-09 00:00:00+00:00</td>\n",
       "      <td>2021-01-08 17:05:50.859000+00:00</td>\n",
       "      <td>5e3d2797ffc977001ea26efd</td>\n",
       "      <td>uid</td>\n",
       "      <td>57ea31912bb6581000092e89</td>\n",
       "      <td>30.0</td>\n",
       "      <td>30.0</td>\n",
       "      <td>15.0</td>\n",
       "    </tr>\n",
       "    <tr>\n",
       "      <th>281861</th>\n",
       "      <td>2021-01-08 17:00:00+00:00</td>\n",
       "      <td>2021-01-09 00:00:00+00:00</td>\n",
       "      <td>2021-01-08 17:06:36.044000+00:00</td>\n",
       "      <td>5e3d2797ffc977001ea26efd</td>\n",
       "      <td>uid</td>\n",
       "      <td>57ea31912bb6581000092e89</td>\n",
       "      <td>30.0</td>\n",
       "      <td>30.0</td>\n",
       "      <td>15.0</td>\n",
       "    </tr>\n",
       "    <tr>\n",
       "      <th>284591</th>\n",
       "      <td>2021-01-08 17:00:00+00:00</td>\n",
       "      <td>2021-01-09 00:00:00+00:00</td>\n",
       "      <td>2021-01-08 17:07:36.300000+00:00</td>\n",
       "      <td>5e3d2797ffc977001ea26efd</td>\n",
       "      <td>uid</td>\n",
       "      <td>57ea31912bb6581000092e89</td>\n",
       "      <td>45.0</td>\n",
       "      <td>45.0</td>\n",
       "      <td>75.0</td>\n",
       "    </tr>\n",
       "    <tr>\n",
       "      <th>...</th>\n",
       "      <td>...</td>\n",
       "      <td>...</td>\n",
       "      <td>...</td>\n",
       "      <td>...</td>\n",
       "      <td>...</td>\n",
       "      <td>...</td>\n",
       "      <td>...</td>\n",
       "      <td>...</td>\n",
       "      <td>...</td>\n",
       "    </tr>\n",
       "    <tr>\n",
       "      <th>534991</th>\n",
       "      <td>2021-01-08 17:00:00+00:00</td>\n",
       "      <td>2021-01-09 00:00:00+00:00</td>\n",
       "      <td>2021-01-08 18:22:22.401000+00:00</td>\n",
       "      <td>5ff8a2de803fdd0017ec3cac</td>\n",
       "      <td>uid</td>\n",
       "      <td>57ea31912bb6581000092e89</td>\n",
       "      <td>NaN</td>\n",
       "      <td>NaN</td>\n",
       "      <td>NaN</td>\n",
       "    </tr>\n",
       "    <tr>\n",
       "      <th>536333</th>\n",
       "      <td>2021-01-08 17:00:00+00:00</td>\n",
       "      <td>2021-01-09 00:00:00+00:00</td>\n",
       "      <td>2021-01-08 18:22:50.291000+00:00</td>\n",
       "      <td>5ff8a2fa803fdd0017ec3f32</td>\n",
       "      <td>uid</td>\n",
       "      <td>57ea31912bb6581000092e89</td>\n",
       "      <td>NaN</td>\n",
       "      <td>NaN</td>\n",
       "      <td>NaN</td>\n",
       "    </tr>\n",
       "    <tr>\n",
       "      <th>536389</th>\n",
       "      <td>2021-01-08 17:00:00+00:00</td>\n",
       "      <td>2021-01-09 00:00:00+00:00</td>\n",
       "      <td>2021-01-08 18:22:51.432000+00:00</td>\n",
       "      <td>5ff8a2fb06a55500174e6358</td>\n",
       "      <td>uid</td>\n",
       "      <td>57ea31912bb6581000092e89</td>\n",
       "      <td>NaN</td>\n",
       "      <td>NaN</td>\n",
       "      <td>NaN</td>\n",
       "    </tr>\n",
       "    <tr>\n",
       "      <th>131626</th>\n",
       "      <td>2021-01-08 17:00:00+00:00</td>\n",
       "      <td>2021-01-09 00:00:00+00:00</td>\n",
       "      <td>2021-01-08 20:18:08.205000+00:00</td>\n",
       "      <td>5ff8be00803fdd0017ef21ae</td>\n",
       "      <td>uid</td>\n",
       "      <td>59f9c0dfbc95750d006b98f5</td>\n",
       "      <td>NaN</td>\n",
       "      <td>NaN</td>\n",
       "      <td>NaN</td>\n",
       "    </tr>\n",
       "    <tr>\n",
       "      <th>203824</th>\n",
       "      <td>2021-01-08 17:00:00+00:00</td>\n",
       "      <td>2021-01-09 00:00:00+00:00</td>\n",
       "      <td>2021-01-08 22:02:53.048000+00:00</td>\n",
       "      <td>5ff8d68d803fdd0017f1c916</td>\n",
       "      <td>uid</td>\n",
       "      <td>59f9c0dfbc95750d006b98f5</td>\n",
       "      <td>NaN</td>\n",
       "      <td>NaN</td>\n",
       "      <td>NaN</td>\n",
       "    </tr>\n",
       "  </tbody>\n",
       "</table>\n",
       "<p>42701 rows × 9 columns</p>\n",
       "</div>"
      ],
      "text/plain": [
       "                          _start  ... Post_Time\n",
       "458060 2021-01-08 17:00:00+00:00  ...      45.0\n",
       "264971 2021-01-08 17:00:00+00:00  ...     240.0\n",
       "279874 2021-01-08 17:00:00+00:00  ...      15.0\n",
       "281861 2021-01-08 17:00:00+00:00  ...      15.0\n",
       "284591 2021-01-08 17:00:00+00:00  ...      75.0\n",
       "...                          ...  ...       ...\n",
       "534991 2021-01-08 17:00:00+00:00  ...       NaN\n",
       "536333 2021-01-08 17:00:00+00:00  ...       NaN\n",
       "536389 2021-01-08 17:00:00+00:00  ...       NaN\n",
       "131626 2021-01-08 17:00:00+00:00  ...       NaN\n",
       "203824 2021-01-08 17:00:00+00:00  ...       NaN\n",
       "\n",
       "[42701 rows x 9 columns]"
      ]
     },
     "execution_count": 7,
     "metadata": {
      "tags": []
     },
     "output_type": "execute_result"
    }
   ],
   "source": [
    "# (3) Session start\n",
    "\n",
    "# conditions for session start: get rows starts/with values greater than 15 sec (>=16) or null (start of new user), get as a start value\n",
    "x = df[df['Diff']  >= 16]\n",
    "y = df[df['Diff'].isnull()]\n",
    "\n",
    "#get dataframe with rows for each session with 'start_session' value\n",
    "new_start = pandas.concat([x, y])\n",
    "new_start"
   ]
  },
  {
   "cell_type": "code",
   "execution_count": null,
   "metadata": {
    "id": "dofLKXK2KHY7"
   },
   "outputs": [],
   "source": [
    "# check result [dataframe with start_session]\n",
    "new_start.to_csv('start.csv')"
   ]
  },
  {
   "cell_type": "code",
   "execution_count": null,
   "metadata": {
    "id": "XxfXlZAmKHY9"
   },
   "outputs": [],
   "source": [
    "# (4) End session\n",
    "import datetime\n",
    "\n",
    "#prepare: convert null values in column to 0 to compute sum\n",
    "new_start['Post_Time'] = new_start['Post_Time'].fillna(0)\n",
    "new_start\n",
    "\n",
    "# sum 'times value'/duration with 'start date' for each row to get 'end session'\n",
    "new_start['end_session'] = new_start.apply(lambda row: row._time + datetime.timedelta(seconds = row.Post_Time), axis=1)\n"
   ]
  },
  {
   "cell_type": "code",
   "execution_count": null,
   "metadata": {
    "colab": {
     "base_uri": "https://localhost:8080/",
     "height": 597
    },
    "id": "wHE0IrtDKHZC",
    "outputId": "b80b711d-8743-4d63-c9e4-8fa10c788c52"
   },
   "outputs": [
    {
     "data": {
      "text/html": [
       "<div>\n",
       "<style scoped>\n",
       "    .dataframe tbody tr th:only-of-type {\n",
       "        vertical-align: middle;\n",
       "    }\n",
       "\n",
       "    .dataframe tbody tr th {\n",
       "        vertical-align: top;\n",
       "    }\n",
       "\n",
       "    .dataframe thead th {\n",
       "        text-align: right;\n",
       "    }\n",
       "</style>\n",
       "<table border=\"1\" class=\"dataframe\">\n",
       "  <thead>\n",
       "    <tr style=\"text-align: right;\">\n",
       "      <th></th>\n",
       "      <th>_start</th>\n",
       "      <th>_stop</th>\n",
       "      <th>_time</th>\n",
       "      <th>_value</th>\n",
       "      <th>_field</th>\n",
       "      <th>channel</th>\n",
       "      <th>Diff</th>\n",
       "      <th>times_value</th>\n",
       "      <th>Post_Time</th>\n",
       "      <th>end_session</th>\n",
       "    </tr>\n",
       "  </thead>\n",
       "  <tbody>\n",
       "    <tr>\n",
       "      <th>458060</th>\n",
       "      <td>2021-01-08 17:00:00+00:00</td>\n",
       "      <td>2021-01-09 00:00:00+00:00</td>\n",
       "      <td>2021-01-08 17:57:56.485000+00:00</td>\n",
       "      <td>5e3d2735ffc977001ea26e45</td>\n",
       "      <td>uid</td>\n",
       "      <td>57ea31912bb6581000092e89</td>\n",
       "      <td>30.0</td>\n",
       "      <td>30.0</td>\n",
       "      <td>45.0</td>\n",
       "      <td>2021-01-08 17:58:41.485000+00:00</td>\n",
       "    </tr>\n",
       "    <tr>\n",
       "      <th>264971</th>\n",
       "      <td>2021-01-08 17:00:00+00:00</td>\n",
       "      <td>2021-01-09 00:00:00+00:00</td>\n",
       "      <td>2021-01-08 17:01:19.705000+00:00</td>\n",
       "      <td>5e3d2797ffc977001ea26efd</td>\n",
       "      <td>uid</td>\n",
       "      <td>57ea31912bb6581000092e89</td>\n",
       "      <td>33.0</td>\n",
       "      <td>33.0</td>\n",
       "      <td>240.0</td>\n",
       "      <td>2021-01-08 17:05:19.705000+00:00</td>\n",
       "    </tr>\n",
       "    <tr>\n",
       "      <th>279874</th>\n",
       "      <td>2021-01-08 17:00:00+00:00</td>\n",
       "      <td>2021-01-09 00:00:00+00:00</td>\n",
       "      <td>2021-01-08 17:05:50.859000+00:00</td>\n",
       "      <td>5e3d2797ffc977001ea26efd</td>\n",
       "      <td>uid</td>\n",
       "      <td>57ea31912bb6581000092e89</td>\n",
       "      <td>30.0</td>\n",
       "      <td>30.0</td>\n",
       "      <td>15.0</td>\n",
       "      <td>2021-01-08 17:06:05.859000+00:00</td>\n",
       "    </tr>\n",
       "    <tr>\n",
       "      <th>281861</th>\n",
       "      <td>2021-01-08 17:00:00+00:00</td>\n",
       "      <td>2021-01-09 00:00:00+00:00</td>\n",
       "      <td>2021-01-08 17:06:36.044000+00:00</td>\n",
       "      <td>5e3d2797ffc977001ea26efd</td>\n",
       "      <td>uid</td>\n",
       "      <td>57ea31912bb6581000092e89</td>\n",
       "      <td>30.0</td>\n",
       "      <td>30.0</td>\n",
       "      <td>15.0</td>\n",
       "      <td>2021-01-08 17:06:51.044000+00:00</td>\n",
       "    </tr>\n",
       "    <tr>\n",
       "      <th>284591</th>\n",
       "      <td>2021-01-08 17:00:00+00:00</td>\n",
       "      <td>2021-01-09 00:00:00+00:00</td>\n",
       "      <td>2021-01-08 17:07:36.300000+00:00</td>\n",
       "      <td>5e3d2797ffc977001ea26efd</td>\n",
       "      <td>uid</td>\n",
       "      <td>57ea31912bb6581000092e89</td>\n",
       "      <td>45.0</td>\n",
       "      <td>45.0</td>\n",
       "      <td>75.0</td>\n",
       "      <td>2021-01-08 17:08:51.300000+00:00</td>\n",
       "    </tr>\n",
       "    <tr>\n",
       "      <th>...</th>\n",
       "      <td>...</td>\n",
       "      <td>...</td>\n",
       "      <td>...</td>\n",
       "      <td>...</td>\n",
       "      <td>...</td>\n",
       "      <td>...</td>\n",
       "      <td>...</td>\n",
       "      <td>...</td>\n",
       "      <td>...</td>\n",
       "      <td>...</td>\n",
       "    </tr>\n",
       "    <tr>\n",
       "      <th>534991</th>\n",
       "      <td>2021-01-08 17:00:00+00:00</td>\n",
       "      <td>2021-01-09 00:00:00+00:00</td>\n",
       "      <td>2021-01-08 18:22:22.401000+00:00</td>\n",
       "      <td>5ff8a2de803fdd0017ec3cac</td>\n",
       "      <td>uid</td>\n",
       "      <td>57ea31912bb6581000092e89</td>\n",
       "      <td>NaN</td>\n",
       "      <td>NaN</td>\n",
       "      <td>0.0</td>\n",
       "      <td>2021-01-08 18:22:22.401000+00:00</td>\n",
       "    </tr>\n",
       "    <tr>\n",
       "      <th>536333</th>\n",
       "      <td>2021-01-08 17:00:00+00:00</td>\n",
       "      <td>2021-01-09 00:00:00+00:00</td>\n",
       "      <td>2021-01-08 18:22:50.291000+00:00</td>\n",
       "      <td>5ff8a2fa803fdd0017ec3f32</td>\n",
       "      <td>uid</td>\n",
       "      <td>57ea31912bb6581000092e89</td>\n",
       "      <td>NaN</td>\n",
       "      <td>NaN</td>\n",
       "      <td>0.0</td>\n",
       "      <td>2021-01-08 18:22:50.291000+00:00</td>\n",
       "    </tr>\n",
       "    <tr>\n",
       "      <th>536389</th>\n",
       "      <td>2021-01-08 17:00:00+00:00</td>\n",
       "      <td>2021-01-09 00:00:00+00:00</td>\n",
       "      <td>2021-01-08 18:22:51.432000+00:00</td>\n",
       "      <td>5ff8a2fb06a55500174e6358</td>\n",
       "      <td>uid</td>\n",
       "      <td>57ea31912bb6581000092e89</td>\n",
       "      <td>NaN</td>\n",
       "      <td>NaN</td>\n",
       "      <td>0.0</td>\n",
       "      <td>2021-01-08 18:22:51.432000+00:00</td>\n",
       "    </tr>\n",
       "    <tr>\n",
       "      <th>131626</th>\n",
       "      <td>2021-01-08 17:00:00+00:00</td>\n",
       "      <td>2021-01-09 00:00:00+00:00</td>\n",
       "      <td>2021-01-08 20:18:08.205000+00:00</td>\n",
       "      <td>5ff8be00803fdd0017ef21ae</td>\n",
       "      <td>uid</td>\n",
       "      <td>59f9c0dfbc95750d006b98f5</td>\n",
       "      <td>NaN</td>\n",
       "      <td>NaN</td>\n",
       "      <td>0.0</td>\n",
       "      <td>2021-01-08 20:18:08.205000+00:00</td>\n",
       "    </tr>\n",
       "    <tr>\n",
       "      <th>203824</th>\n",
       "      <td>2021-01-08 17:00:00+00:00</td>\n",
       "      <td>2021-01-09 00:00:00+00:00</td>\n",
       "      <td>2021-01-08 22:02:53.048000+00:00</td>\n",
       "      <td>5ff8d68d803fdd0017f1c916</td>\n",
       "      <td>uid</td>\n",
       "      <td>59f9c0dfbc95750d006b98f5</td>\n",
       "      <td>NaN</td>\n",
       "      <td>NaN</td>\n",
       "      <td>0.0</td>\n",
       "      <td>2021-01-08 22:02:53.048000+00:00</td>\n",
       "    </tr>\n",
       "  </tbody>\n",
       "</table>\n",
       "<p>42701 rows × 10 columns</p>\n",
       "</div>"
      ],
      "text/plain": [
       "                          _start  ...                      end_session\n",
       "458060 2021-01-08 17:00:00+00:00  ... 2021-01-08 17:58:41.485000+00:00\n",
       "264971 2021-01-08 17:00:00+00:00  ... 2021-01-08 17:05:19.705000+00:00\n",
       "279874 2021-01-08 17:00:00+00:00  ... 2021-01-08 17:06:05.859000+00:00\n",
       "281861 2021-01-08 17:00:00+00:00  ... 2021-01-08 17:06:51.044000+00:00\n",
       "284591 2021-01-08 17:00:00+00:00  ... 2021-01-08 17:08:51.300000+00:00\n",
       "...                          ...  ...                              ...\n",
       "534991 2021-01-08 17:00:00+00:00  ... 2021-01-08 18:22:22.401000+00:00\n",
       "536333 2021-01-08 17:00:00+00:00  ... 2021-01-08 18:22:50.291000+00:00\n",
       "536389 2021-01-08 17:00:00+00:00  ... 2021-01-08 18:22:51.432000+00:00\n",
       "131626 2021-01-08 17:00:00+00:00  ... 2021-01-08 20:18:08.205000+00:00\n",
       "203824 2021-01-08 17:00:00+00:00  ... 2021-01-08 22:02:53.048000+00:00\n",
       "\n",
       "[42701 rows x 10 columns]"
      ]
     },
     "execution_count": 10,
     "metadata": {
      "tags": []
     },
     "output_type": "execute_result"
    }
   ],
   "source": [
    "# check result [dataframe with end_session]\n",
    "new_start"
   ]
  },
  {
   "cell_type": "code",
   "execution_count": null,
   "metadata": {
    "colab": {
     "base_uri": "https://localhost:8080/",
     "height": 424
    },
    "id": "kPu5UGnlKHZD",
    "outputId": "cd30741e-2be4-48c3-c318-9e1a498c213c"
   },
   "outputs": [
    {
     "data": {
      "text/html": [
       "<div>\n",
       "<style scoped>\n",
       "    .dataframe tbody tr th:only-of-type {\n",
       "        vertical-align: middle;\n",
       "    }\n",
       "\n",
       "    .dataframe tbody tr th {\n",
       "        vertical-align: top;\n",
       "    }\n",
       "\n",
       "    .dataframe thead th {\n",
       "        text-align: right;\n",
       "    }\n",
       "</style>\n",
       "<table border=\"1\" class=\"dataframe\">\n",
       "  <thead>\n",
       "    <tr style=\"text-align: right;\">\n",
       "      <th></th>\n",
       "      <th>DeviceUser_id</th>\n",
       "      <th>Channel_id</th>\n",
       "      <th>Session_start</th>\n",
       "      <th>Session_end</th>\n",
       "      <th>Duration</th>\n",
       "    </tr>\n",
       "  </thead>\n",
       "  <tbody>\n",
       "    <tr>\n",
       "      <th>458060</th>\n",
       "      <td>5e3d2735ffc977001ea26e45</td>\n",
       "      <td>57ea31912bb6581000092e89</td>\n",
       "      <td>2021-01-08 17:57:56.485000+00:00</td>\n",
       "      <td>2021-01-08 17:58:41.485000+00:00</td>\n",
       "      <td>45.0</td>\n",
       "    </tr>\n",
       "    <tr>\n",
       "      <th>264971</th>\n",
       "      <td>5e3d2797ffc977001ea26efd</td>\n",
       "      <td>57ea31912bb6581000092e89</td>\n",
       "      <td>2021-01-08 17:01:19.705000+00:00</td>\n",
       "      <td>2021-01-08 17:05:19.705000+00:00</td>\n",
       "      <td>240.0</td>\n",
       "    </tr>\n",
       "    <tr>\n",
       "      <th>279874</th>\n",
       "      <td>5e3d2797ffc977001ea26efd</td>\n",
       "      <td>57ea31912bb6581000092e89</td>\n",
       "      <td>2021-01-08 17:05:50.859000+00:00</td>\n",
       "      <td>2021-01-08 17:06:05.859000+00:00</td>\n",
       "      <td>15.0</td>\n",
       "    </tr>\n",
       "    <tr>\n",
       "      <th>281861</th>\n",
       "      <td>5e3d2797ffc977001ea26efd</td>\n",
       "      <td>57ea31912bb6581000092e89</td>\n",
       "      <td>2021-01-08 17:06:36.044000+00:00</td>\n",
       "      <td>2021-01-08 17:06:51.044000+00:00</td>\n",
       "      <td>15.0</td>\n",
       "    </tr>\n",
       "    <tr>\n",
       "      <th>284591</th>\n",
       "      <td>5e3d2797ffc977001ea26efd</td>\n",
       "      <td>57ea31912bb6581000092e89</td>\n",
       "      <td>2021-01-08 17:07:36.300000+00:00</td>\n",
       "      <td>2021-01-08 17:08:51.300000+00:00</td>\n",
       "      <td>75.0</td>\n",
       "    </tr>\n",
       "    <tr>\n",
       "      <th>...</th>\n",
       "      <td>...</td>\n",
       "      <td>...</td>\n",
       "      <td>...</td>\n",
       "      <td>...</td>\n",
       "      <td>...</td>\n",
       "    </tr>\n",
       "    <tr>\n",
       "      <th>534991</th>\n",
       "      <td>5ff8a2de803fdd0017ec3cac</td>\n",
       "      <td>57ea31912bb6581000092e89</td>\n",
       "      <td>2021-01-08 18:22:22.401000+00:00</td>\n",
       "      <td>2021-01-08 18:22:22.401000+00:00</td>\n",
       "      <td>0.0</td>\n",
       "    </tr>\n",
       "    <tr>\n",
       "      <th>536333</th>\n",
       "      <td>5ff8a2fa803fdd0017ec3f32</td>\n",
       "      <td>57ea31912bb6581000092e89</td>\n",
       "      <td>2021-01-08 18:22:50.291000+00:00</td>\n",
       "      <td>2021-01-08 18:22:50.291000+00:00</td>\n",
       "      <td>0.0</td>\n",
       "    </tr>\n",
       "    <tr>\n",
       "      <th>536389</th>\n",
       "      <td>5ff8a2fb06a55500174e6358</td>\n",
       "      <td>57ea31912bb6581000092e89</td>\n",
       "      <td>2021-01-08 18:22:51.432000+00:00</td>\n",
       "      <td>2021-01-08 18:22:51.432000+00:00</td>\n",
       "      <td>0.0</td>\n",
       "    </tr>\n",
       "    <tr>\n",
       "      <th>131626</th>\n",
       "      <td>5ff8be00803fdd0017ef21ae</td>\n",
       "      <td>59f9c0dfbc95750d006b98f5</td>\n",
       "      <td>2021-01-08 20:18:08.205000+00:00</td>\n",
       "      <td>2021-01-08 20:18:08.205000+00:00</td>\n",
       "      <td>0.0</td>\n",
       "    </tr>\n",
       "    <tr>\n",
       "      <th>203824</th>\n",
       "      <td>5ff8d68d803fdd0017f1c916</td>\n",
       "      <td>59f9c0dfbc95750d006b98f5</td>\n",
       "      <td>2021-01-08 22:02:53.048000+00:00</td>\n",
       "      <td>2021-01-08 22:02:53.048000+00:00</td>\n",
       "      <td>0.0</td>\n",
       "    </tr>\n",
       "  </tbody>\n",
       "</table>\n",
       "<p>42701 rows × 5 columns</p>\n",
       "</div>"
      ],
      "text/plain": [
       "                   DeviceUser_id  ... Duration\n",
       "458060  5e3d2735ffc977001ea26e45  ...     45.0\n",
       "264971  5e3d2797ffc977001ea26efd  ...    240.0\n",
       "279874  5e3d2797ffc977001ea26efd  ...     15.0\n",
       "281861  5e3d2797ffc977001ea26efd  ...     15.0\n",
       "284591  5e3d2797ffc977001ea26efd  ...     75.0\n",
       "...                          ...  ...      ...\n",
       "534991  5ff8a2de803fdd0017ec3cac  ...      0.0\n",
       "536333  5ff8a2fa803fdd0017ec3f32  ...      0.0\n",
       "536389  5ff8a2fb06a55500174e6358  ...      0.0\n",
       "131626  5ff8be00803fdd0017ef21ae  ...      0.0\n",
       "203824  5ff8d68d803fdd0017f1c916  ...      0.0\n",
       "\n",
       "[42701 rows x 5 columns]"
      ]
     },
     "execution_count": 11,
     "metadata": {
      "tags": []
     },
     "output_type": "execute_result"
    }
   ],
   "source": [
    "# (5) Final formatting\n",
    "\n",
    "# drop unnecessary columns\n",
    "new_start.drop(columns=['_start', '_stop', '_field', 'Diff', 'times_value'], inplace=True)\n",
    "\n",
    "# rename dataframe\n",
    "new_start.columns = ['Session_start', 'DeviceUser_id', 'Channel_id', 'Duration', 'Session_end']\n",
    "\n",
    "\n",
    "# re-order\n",
    "new_start = new_start[['DeviceUser_id', 'Channel_id', 'Session_start', 'Session_end', 'Duration']]\n",
    "\n",
    "new_start"
   ]
  },
  {
   "cell_type": "code",
   "execution_count": null,
   "metadata": {
    "colab": {
     "base_uri": "https://localhost:8080/"
    },
    "id": "-iVDvRcrKHZG",
    "outputId": "e31ee1b2-7ec3-49b2-8074-c5186905b4f6"
   },
   "outputs": [
    {
     "name": "stdout",
     "output_type": "stream",
     "text": [
      "<class 'pandas.core.frame.DataFrame'>\n",
      "Int64Index: 42701 entries, 458060 to 203824\n",
      "Data columns (total 5 columns):\n",
      " #   Column         Non-Null Count  Dtype                    \n",
      "---  ------         --------------  -----                    \n",
      " 0   DeviceUser_id  42701 non-null  object                   \n",
      " 1   Channel_id     42701 non-null  object                   \n",
      " 2   Session_start  42701 non-null  datetime64[ns, tzlocal()]\n",
      " 3   Session_end    42701 non-null  datetime64[ns, tzlocal()]\n",
      " 4   Duration       42701 non-null  float64                  \n",
      "dtypes: datetime64[ns, tzlocal()](2), float64(1), object(2)\n",
      "memory usage: 2.0+ MB\n"
     ]
    }
   ],
   "source": [
    "new_start.info()"
   ]
  },
  {
   "cell_type": "code",
   "execution_count": null,
   "metadata": {
    "id": "aUvlQ7xkT7Co"
   },
   "outputs": [],
   "source": [
    "new_start.to_csv('fact_user_session.csv')"
   ]
  },
  {
   "cell_type": "code",
   "execution_count": null,
   "metadata": {
    "colab": {
     "base_uri": "https://localhost:8080/"
    },
    "id": "uV1EEq6nT_dl",
    "outputId": "6a00b7f9-cdef-4f4d-a8eb-1d86843e8eb9"
   },
   "outputs": [
    {
     "name": "stderr",
     "output_type": "stream",
     "text": [
      "/usr/local/lib/python3.6/dist-packages/snowflake/connector/options.py:78: UserWarning: You have an incompatible version of 'pyarrow' installed (0.14.1), please install a version that adheres to: 'pyarrow<0.18.0,>=0.17.0; extra == \"pandas\"'\n",
      "  warn_incompatible_dep('pyarrow', _installed_pyarrow_version.version, _expected_pyarrow_version)\n"
     ]
    }
   ],
   "source": [
    "#!pip install snowflake-connector-python\n",
    "import pandas as pd\n",
    "import snowflake.connector"
   ]
  },
  {
   "cell_type": "code",
   "execution_count": null,
   "metadata": {
    "id": "IcbIVvpKUBoZ"
   },
   "outputs": [],
   "source": [
    "conn = snowflake.connector.connect(\n",
    "                user=\"os.environ.get('SNOWFLAKE_USER')\",\n",
    "                password=\"os.environ.get('SNOWFLAKE_PASS')\",\n",
    "                account=\"os.environ.get('SNOWFLAKE_ACC')\",\n",
    "                database=\"os.environ.get('SNOWFLAKE_DB')\",\n",
    "                schema=\"os.environ.get('SNOWFLAKE_SCHEMA')\")"
   ]
  },
  {
   "cell_type": "code",
   "execution_count": null,
   "metadata": {
    "id": "doppHZi0UH3w"
   },
   "outputs": [],
   "source": [
    "cur = conn.cursor()"
   ]
  },
  {
   "cell_type": "code",
   "execution_count": null,
   "metadata": {
    "colab": {
     "base_uri": "https://localhost:8080/"
    },
    "id": "GrC2eZMCUJ3c",
    "outputId": "c0782a31-3295-44d2-e3eb-4719a83969fb"
   },
   "outputs": [
    {
     "data": {
      "text/plain": [
       "<snowflake.connector.cursor.SnowflakeCursor at 0x7f745953da20>"
      ]
     },
     "execution_count": 17,
     "metadata": {
      "tags": []
     },
     "output_type": "execute_result"
    }
   ],
   "source": [
    "cur.execute('USE WAREHOUSE AFTERSPOT_WH')"
   ]
  },
  {
   "cell_type": "code",
   "execution_count": null,
   "metadata": {
    "colab": {
     "base_uri": "https://localhost:8080/"
    },
    "id": "UhpjEzIMUM6h",
    "outputId": "66262783-0750-4047-fee2-c655a70e3b89"
   },
   "outputs": [
    {
     "data": {
      "text/plain": [
       "<snowflake.connector.cursor.SnowflakeCursor at 0x7f745953da20>"
      ]
     },
     "execution_count": 18,
     "metadata": {
      "tags": []
     },
     "output_type": "execute_result"
    }
   ],
   "source": [
    "cur.execute(\"put file://{} @{} auto_compress=true\".format('fact_user_session.csv', 'TEST'))"
   ]
  },
  {
   "cell_type": "code",
   "execution_count": null,
   "metadata": {
    "colab": {
     "base_uri": "https://localhost:8080/"
    },
    "id": "nA2-GuyRURrc",
    "outputId": "8a44089d-334c-4f00-9290-a4c027ed5dff"
   },
   "outputs": [
    {
     "data": {
      "text/plain": [
       "<snowflake.connector.cursor.SnowflakeCursor at 0x7f745953da20>"
      ]
     },
     "execution_count": 19,
     "metadata": {
      "tags": []
     },
     "output_type": "execute_result"
    }
   ],
   "source": [
    "cur.execute(\"COPY INTO FACT_USER_SESSION FROM @test/fact_user_session.csv.gz FILE_FORMAT=(TYPE=csv field_delimiter=',' skip_header=1)\")"
   ]
  },
  {
   "cell_type": "code",
   "execution_count": null,
   "metadata": {
    "colab": {
     "base_uri": "https://localhost:8080/"
    },
    "id": "oJC8INNgj0U1",
    "outputId": "34be8183-9339-4d95-e63b-8f7b8fe19744"
   },
   "outputs": [
    {
     "data": {
      "text/plain": [
       "<snowflake.connector.cursor.SnowflakeCursor at 0x7f745953da20>"
      ]
     },
     "execution_count": 20,
     "metadata": {
      "tags": []
     },
     "output_type": "execute_result"
    }
   ],
   "source": [
    "cur.execute(\"rm @test/fact_user_session.csv.gz;\")"
   ]
  }
 ],
 "metadata": {
  "colab": {
   "name": "sessions_.ipynb",
   "provenance": []
  },
  "kernelspec": {
   "display_name": "Python 3",
   "language": "python",
   "name": "python3"
  },
  "language_info": {
   "codemirror_mode": {
    "name": "ipython",
    "version": 3
   },
   "file_extension": ".py",
   "mimetype": "text/x-python",
   "name": "python",
   "nbconvert_exporter": "python",
   "pygments_lexer": "ipython3",
   "version": "3.7.4"
  }
 },
 "nbformat": 4,
 "nbformat_minor": 1
}
