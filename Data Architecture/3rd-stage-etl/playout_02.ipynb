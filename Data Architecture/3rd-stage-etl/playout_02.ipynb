{
 "cells": [
  {
   "cell_type": "code",
   "execution_count": 1,
   "metadata": {
    "colab": {
     "base_uri": "https://localhost:8080/"
    },
    "id": "FKPzkmMPhRU9",
    "outputId": "846f678d-fde2-4857-c14e-9658d64e95d8"
   },
   "outputs": [
    {
     "name": "stdout",
     "output_type": "stream",
     "text": [
      "Collecting dnspython\n",
      "\u001b[?25l  Downloading https://files.pythonhosted.org/packages/f5/2d/ae9e172b4e5e72fa4b3cfc2517f38b602cc9ba31355f9669c502b4e9c458/dnspython-2.1.0-py3-none-any.whl (241kB)\n",
      "\r",
      "\u001b[K     |█▍                              | 10kB 13.6MB/s eta 0:00:01\r",
      "\u001b[K     |██▊                             | 20kB 17.8MB/s eta 0:00:01\r",
      "\u001b[K     |████                            | 30kB 11.5MB/s eta 0:00:01\r",
      "\u001b[K     |█████▍                          | 40kB 9.9MB/s eta 0:00:01\r",
      "\u001b[K     |██████▊                         | 51kB 4.5MB/s eta 0:00:01\r",
      "\u001b[K     |████████▏                       | 61kB 4.9MB/s eta 0:00:01\r",
      "\u001b[K     |█████████▌                      | 71kB 5.2MB/s eta 0:00:01\r",
      "\u001b[K     |██████████▉                     | 81kB 5.4MB/s eta 0:00:01\r",
      "\u001b[K     |████████████▏                   | 92kB 5.6MB/s eta 0:00:01\r",
      "\u001b[K     |█████████████▌                  | 102kB 6.1MB/s eta 0:00:01\r",
      "\u001b[K     |███████████████                 | 112kB 6.1MB/s eta 0:00:01\r",
      "\u001b[K     |████████████████▎               | 122kB 6.1MB/s eta 0:00:01\r",
      "\u001b[K     |█████████████████▋              | 133kB 6.1MB/s eta 0:00:01\r",
      "\u001b[K     |███████████████████             | 143kB 6.1MB/s eta 0:00:01\r",
      "\u001b[K     |████████████████████▎           | 153kB 6.1MB/s eta 0:00:01\r",
      "\u001b[K     |█████████████████████▋          | 163kB 6.1MB/s eta 0:00:01\r",
      "\u001b[K     |███████████████████████         | 174kB 6.1MB/s eta 0:00:01\r",
      "\u001b[K     |████████████████████████▍       | 184kB 6.1MB/s eta 0:00:01\r",
      "\u001b[K     |█████████████████████████▊      | 194kB 6.1MB/s eta 0:00:01\r",
      "\u001b[K     |███████████████████████████     | 204kB 6.1MB/s eta 0:00:01\r",
      "\u001b[K     |████████████████████████████▍   | 215kB 6.1MB/s eta 0:00:01\r",
      "\u001b[K     |█████████████████████████████▉  | 225kB 6.1MB/s eta 0:00:01\r",
      "\u001b[K     |███████████████████████████████▏| 235kB 6.1MB/s eta 0:00:01\r",
      "\u001b[K     |████████████████████████████████| 245kB 6.1MB/s \n",
      "\u001b[?25hInstalling collected packages: dnspython\n",
      "Successfully installed dnspython-2.1.0\n",
      "List of collections \n",
      "--------------------\n",
      "channels\n",
      "versions\n",
      "playlists\n",
      "scripts\n"
     ]
    }
   ],
   "source": [
    "#3st Stage - Playout connector\n",
    "# playout_02\n",
    "# table name: Content\n",
    "\n",
    "!pip install dnspython\n",
    "import pandas\n",
    "from pandas import DataFrame\n",
    "import os\n",
    "import pymongo\n",
    "from pymongo import MongoClient\n",
    "\n",
    "#Broadcaster data\n",
    "client = MongoClient(\"os.environ.get('MONGO_BROADCASTDATA_URI')\")\n",
    "db = client[\"hybrid-dast\"]\n",
    "\n",
    "    \n",
    "print(\"List of collections \\n--------------------\")\n",
    "\n",
    "#list collection names\n",
    "for x in db.list_collection_names():\n",
    "    print(x)\n",
    "\n",
    "    \n",
    "playlists = db.playlists.find( {} ) #get all documents from playlists collection\n",
    "scrp = db.versions.find( {} )\n",
    "\n",
    "list_cur = list(playlists) #cursor to list\n",
    "df_playlists = DataFrame(list_cur) #cursor to dataframe"
   ]
  },
  {
   "cell_type": "code",
   "execution_count": 2,
   "metadata": {
    "colab": {
     "base_uri": "https://localhost:8080/"
    },
    "id": "thV453uehRVZ",
    "outputId": "e910d866-b8c5-4dfc-dfa3-8354c48e1820"
   },
   "outputs": [
    {
     "data": {
      "text/plain": [
       "Index(['_id', 'duration', 'end', 'start', 'title', 'bcId', 'bcCategory',\n",
       "       '_channel', '__v'],\n",
       "      dtype='object')"
      ]
     },
     "execution_count": 2,
     "metadata": {
      "tags": []
     },
     "output_type": "execute_result"
    }
   ],
   "source": [
    "df_playlists.columns"
   ]
  },
  {
   "cell_type": "code",
   "execution_count": 3,
   "metadata": {
    "colab": {
     "base_uri": "https://localhost:8080/",
     "height": 424
    },
    "id": "N-rX2J-ehRVe",
    "outputId": "173aa7a8-ed31-4a60-9cd7-b18df070e46b"
   },
   "outputs": [
    {
     "data": {
      "text/html": [
       "<div>\n",
       "<style scoped>\n",
       "    .dataframe tbody tr th:only-of-type {\n",
       "        vertical-align: middle;\n",
       "    }\n",
       "\n",
       "    .dataframe tbody tr th {\n",
       "        vertical-align: top;\n",
       "    }\n",
       "\n",
       "    .dataframe thead th {\n",
       "        text-align: right;\n",
       "    }\n",
       "</style>\n",
       "<table border=\"1\" class=\"dataframe\">\n",
       "  <thead>\n",
       "    <tr style=\"text-align: right;\">\n",
       "      <th></th>\n",
       "      <th>_id</th>\n",
       "      <th>duration</th>\n",
       "      <th>end</th>\n",
       "      <th>start</th>\n",
       "      <th>title</th>\n",
       "      <th>bcId</th>\n",
       "      <th>bcCategory</th>\n",
       "      <th>_channel</th>\n",
       "      <th>__v</th>\n",
       "    </tr>\n",
       "  </thead>\n",
       "  <tbody>\n",
       "    <tr>\n",
       "      <th>0</th>\n",
       "      <td>5ff727f43fe0750017fed48d</td>\n",
       "      <td>15</td>\n",
       "      <td>2021-01-07 15:25:50</td>\n",
       "      <td>2021-01-07 15:25:35</td>\n",
       "      <td>_DeLonghi_Foam_Density_k?vovary</td>\n",
       "      <td>rE40196</td>\n",
       "      <td>AD</td>\n",
       "      <td>57ea31912bb6581000092e89</td>\n",
       "      <td>0</td>\n",
       "    </tr>\n",
       "    <tr>\n",
       "      <th>1</th>\n",
       "      <td>5ff728023fe0750017fed48e</td>\n",
       "      <td>20</td>\n",
       "      <td>2021-01-07 15:26:10</td>\n",
       "      <td>2021-01-07 15:25:50</td>\n",
       "      <td>Favi_ceny_podzim_2020_srovn?n?_n?bytku</td>\n",
       "      <td>rE40559</td>\n",
       "      <td>AD</td>\n",
       "      <td>57ea31912bb6581000092e89</td>\n",
       "      <td>0</td>\n",
       "    </tr>\n",
       "    <tr>\n",
       "      <th>2</th>\n",
       "      <td>5ff7281b3fe0750017fed48f</td>\n",
       "      <td>15</td>\n",
       "      <td>2021-01-07 15:26:25</td>\n",
       "      <td>2021-01-07 15:26:10</td>\n",
       "      <td>Soda_Stream_je?t?rka</td>\n",
       "      <td>rE41771</td>\n",
       "      <td>AD</td>\n",
       "      <td>57ea31912bb6581000092e89</td>\n",
       "      <td>0</td>\n",
       "    </tr>\n",
       "    <tr>\n",
       "      <th>3</th>\n",
       "      <td>5ff728283fe0750017fed490</td>\n",
       "      <td>20</td>\n",
       "      <td>2021-01-07 15:26:45</td>\n",
       "      <td>2021-01-07 15:26:25</td>\n",
       "      <td>McDelivery_-_j?dlo_ke_dve??m,_+_Wolt,_DJ</td>\n",
       "      <td>rE43593</td>\n",
       "      <td>AD</td>\n",
       "      <td>57ea31912bb6581000092e89</td>\n",
       "      <td>0</td>\n",
       "    </tr>\n",
       "    <tr>\n",
       "      <th>4</th>\n",
       "      <td>5ff7283c3fe0750017fed491</td>\n",
       "      <td>30</td>\n",
       "      <td>2021-01-07 15:27:16</td>\n",
       "      <td>2021-01-07 15:26:46</td>\n",
       "      <td>Dettol_-_mali?kosti</td>\n",
       "      <td>rE43686</td>\n",
       "      <td>AD</td>\n",
       "      <td>57ea31912bb6581000092e89</td>\n",
       "      <td>0</td>\n",
       "    </tr>\n",
       "    <tr>\n",
       "      <th>...</th>\n",
       "      <td>...</td>\n",
       "      <td>...</td>\n",
       "      <td>...</td>\n",
       "      <td>...</td>\n",
       "      <td>...</td>\n",
       "      <td>...</td>\n",
       "      <td>...</td>\n",
       "      <td>...</td>\n",
       "      <td>...</td>\n",
       "    </tr>\n",
       "    <tr>\n",
       "      <th>16682</th>\n",
       "      <td>600041cc6e1b26001787d916</td>\n",
       "      <td>215</td>\n",
       "      <td>2021-01-14 13:09:50</td>\n",
       "      <td>2021-01-14 13:06:15</td>\n",
       "      <td>PETER ANDRE - Mysterious Girl</td>\n",
       "      <td>K05566</td>\n",
       "      <td>VIDEO</td>\n",
       "      <td>57ea31912bb6581000092e89</td>\n",
       "      <td>0</td>\n",
       "    </tr>\n",
       "    <tr>\n",
       "      <th>16683</th>\n",
       "      <td>600042a36e1b26001787d917</td>\n",
       "      <td>197</td>\n",
       "      <td>2021-01-14 13:10:31</td>\n",
       "      <td>2021-01-14 13:07:14</td>\n",
       "      <td>SAM SMITH &amp; DEMI LOVATO - I'm Ready</td>\n",
       "      <td>K36147</td>\n",
       "      <td>VIDEO</td>\n",
       "      <td>575e76387a96d10f002792b9</td>\n",
       "      <td>0</td>\n",
       "    </tr>\n",
       "    <tr>\n",
       "      <th>16684</th>\n",
       "      <td>600042a46e1b26001787d918</td>\n",
       "      <td>189</td>\n",
       "      <td>2021-01-14 13:12:59</td>\n",
       "      <td>2021-01-14 13:09:50</td>\n",
       "      <td>MOBY - Porcelain</td>\n",
       "      <td>K01245</td>\n",
       "      <td>VIDEO</td>\n",
       "      <td>57ea31912bb6581000092e89</td>\n",
       "      <td>0</td>\n",
       "    </tr>\n",
       "    <tr>\n",
       "      <th>16685</th>\n",
       "      <td>6000435f6e1b26001787d919</td>\n",
       "      <td>15</td>\n",
       "      <td>2021-01-14 13:13:13</td>\n",
       "      <td>2021-01-14 13:12:58</td>\n",
       "      <td>O2_Spolu_-_Spojen?_slu?eb</td>\n",
       "      <td>rE43411</td>\n",
       "      <td>AD</td>\n",
       "      <td>575e76387a96d10f002792b9</td>\n",
       "      <td>0</td>\n",
       "    </tr>\n",
       "    <tr>\n",
       "      <th>16686</th>\n",
       "      <td>600043606e1b26001787d91a</td>\n",
       "      <td>231</td>\n",
       "      <td>2021-01-14 13:16:50</td>\n",
       "      <td>2021-01-14 13:12:59</td>\n",
       "      <td>HOOBASTANK - The Reason (Live)</td>\n",
       "      <td>K37484</td>\n",
       "      <td>VIDEO</td>\n",
       "      <td>57ea31912bb6581000092e89</td>\n",
       "      <td>0</td>\n",
       "    </tr>\n",
       "  </tbody>\n",
       "</table>\n",
       "<p>16687 rows × 9 columns</p>\n",
       "</div>"
      ],
      "text/plain": [
       "                            _id  duration  ...                  _channel __v\n",
       "0      5ff727f43fe0750017fed48d        15  ...  57ea31912bb6581000092e89   0\n",
       "1      5ff728023fe0750017fed48e        20  ...  57ea31912bb6581000092e89   0\n",
       "2      5ff7281b3fe0750017fed48f        15  ...  57ea31912bb6581000092e89   0\n",
       "3      5ff728283fe0750017fed490        20  ...  57ea31912bb6581000092e89   0\n",
       "4      5ff7283c3fe0750017fed491        30  ...  57ea31912bb6581000092e89   0\n",
       "...                         ...       ...  ...                       ...  ..\n",
       "16682  600041cc6e1b26001787d916       215  ...  57ea31912bb6581000092e89   0\n",
       "16683  600042a36e1b26001787d917       197  ...  575e76387a96d10f002792b9   0\n",
       "16684  600042a46e1b26001787d918       189  ...  57ea31912bb6581000092e89   0\n",
       "16685  6000435f6e1b26001787d919        15  ...  575e76387a96d10f002792b9   0\n",
       "16686  600043606e1b26001787d91a       231  ...  57ea31912bb6581000092e89   0\n",
       "\n",
       "[16687 rows x 9 columns]"
      ]
     },
     "execution_count": 3,
     "metadata": {
      "tags": []
     },
     "output_type": "execute_result"
    }
   ],
   "source": [
    "df_playlists"
   ]
  },
  {
   "cell_type": "code",
   "execution_count": 4,
   "metadata": {
    "id": "XDVTvhA_hRVj"
   },
   "outputs": [],
   "source": [
    "# removing columns\n",
    "df_playlists.drop(columns=['__v'], inplace=True) \n",
    "\n",
    "# renaming columns\n",
    "df_playlists.columns = ['Content_id', 'Duration', 'Content_end', 'Content_start', 'Content_title', 'BcId', 'BcCategory', 'Channel_id']"
   ]
  },
  {
   "cell_type": "code",
   "execution_count": 5,
   "metadata": {
    "colab": {
     "base_uri": "https://localhost:8080/",
     "height": 424
    },
    "id": "pO2xbpe7hRVn",
    "outputId": "4c89663f-e0dd-4d23-b19c-577cd89a702e"
   },
   "outputs": [
    {
     "data": {
      "text/html": [
       "<div>\n",
       "<style scoped>\n",
       "    .dataframe tbody tr th:only-of-type {\n",
       "        vertical-align: middle;\n",
       "    }\n",
       "\n",
       "    .dataframe tbody tr th {\n",
       "        vertical-align: top;\n",
       "    }\n",
       "\n",
       "    .dataframe thead th {\n",
       "        text-align: right;\n",
       "    }\n",
       "</style>\n",
       "<table border=\"1\" class=\"dataframe\">\n",
       "  <thead>\n",
       "    <tr style=\"text-align: right;\">\n",
       "      <th></th>\n",
       "      <th>Content_id</th>\n",
       "      <th>Duration</th>\n",
       "      <th>Content_end</th>\n",
       "      <th>Content_start</th>\n",
       "      <th>Content_title</th>\n",
       "      <th>BcId</th>\n",
       "      <th>BcCategory</th>\n",
       "      <th>Channel_id</th>\n",
       "    </tr>\n",
       "  </thead>\n",
       "  <tbody>\n",
       "    <tr>\n",
       "      <th>0</th>\n",
       "      <td>5ff727f43fe0750017fed48d</td>\n",
       "      <td>15</td>\n",
       "      <td>2021-01-07 15:25:50</td>\n",
       "      <td>2021-01-07 15:25:35</td>\n",
       "      <td>_DeLonghi_Foam_Density_k?vovary</td>\n",
       "      <td>rE40196</td>\n",
       "      <td>AD</td>\n",
       "      <td>57ea31912bb6581000092e89</td>\n",
       "    </tr>\n",
       "    <tr>\n",
       "      <th>1</th>\n",
       "      <td>5ff728023fe0750017fed48e</td>\n",
       "      <td>20</td>\n",
       "      <td>2021-01-07 15:26:10</td>\n",
       "      <td>2021-01-07 15:25:50</td>\n",
       "      <td>Favi_ceny_podzim_2020_srovn?n?_n?bytku</td>\n",
       "      <td>rE40559</td>\n",
       "      <td>AD</td>\n",
       "      <td>57ea31912bb6581000092e89</td>\n",
       "    </tr>\n",
       "    <tr>\n",
       "      <th>2</th>\n",
       "      <td>5ff7281b3fe0750017fed48f</td>\n",
       "      <td>15</td>\n",
       "      <td>2021-01-07 15:26:25</td>\n",
       "      <td>2021-01-07 15:26:10</td>\n",
       "      <td>Soda_Stream_je?t?rka</td>\n",
       "      <td>rE41771</td>\n",
       "      <td>AD</td>\n",
       "      <td>57ea31912bb6581000092e89</td>\n",
       "    </tr>\n",
       "    <tr>\n",
       "      <th>3</th>\n",
       "      <td>5ff728283fe0750017fed490</td>\n",
       "      <td>20</td>\n",
       "      <td>2021-01-07 15:26:45</td>\n",
       "      <td>2021-01-07 15:26:25</td>\n",
       "      <td>McDelivery_-_j?dlo_ke_dve??m,_+_Wolt,_DJ</td>\n",
       "      <td>rE43593</td>\n",
       "      <td>AD</td>\n",
       "      <td>57ea31912bb6581000092e89</td>\n",
       "    </tr>\n",
       "    <tr>\n",
       "      <th>4</th>\n",
       "      <td>5ff7283c3fe0750017fed491</td>\n",
       "      <td>30</td>\n",
       "      <td>2021-01-07 15:27:16</td>\n",
       "      <td>2021-01-07 15:26:46</td>\n",
       "      <td>Dettol_-_mali?kosti</td>\n",
       "      <td>rE43686</td>\n",
       "      <td>AD</td>\n",
       "      <td>57ea31912bb6581000092e89</td>\n",
       "    </tr>\n",
       "    <tr>\n",
       "      <th>...</th>\n",
       "      <td>...</td>\n",
       "      <td>...</td>\n",
       "      <td>...</td>\n",
       "      <td>...</td>\n",
       "      <td>...</td>\n",
       "      <td>...</td>\n",
       "      <td>...</td>\n",
       "      <td>...</td>\n",
       "    </tr>\n",
       "    <tr>\n",
       "      <th>16682</th>\n",
       "      <td>600041cc6e1b26001787d916</td>\n",
       "      <td>215</td>\n",
       "      <td>2021-01-14 13:09:50</td>\n",
       "      <td>2021-01-14 13:06:15</td>\n",
       "      <td>PETER ANDRE - Mysterious Girl</td>\n",
       "      <td>K05566</td>\n",
       "      <td>VIDEO</td>\n",
       "      <td>57ea31912bb6581000092e89</td>\n",
       "    </tr>\n",
       "    <tr>\n",
       "      <th>16683</th>\n",
       "      <td>600042a36e1b26001787d917</td>\n",
       "      <td>197</td>\n",
       "      <td>2021-01-14 13:10:31</td>\n",
       "      <td>2021-01-14 13:07:14</td>\n",
       "      <td>SAM SMITH &amp; DEMI LOVATO - I'm Ready</td>\n",
       "      <td>K36147</td>\n",
       "      <td>VIDEO</td>\n",
       "      <td>575e76387a96d10f002792b9</td>\n",
       "    </tr>\n",
       "    <tr>\n",
       "      <th>16684</th>\n",
       "      <td>600042a46e1b26001787d918</td>\n",
       "      <td>189</td>\n",
       "      <td>2021-01-14 13:12:59</td>\n",
       "      <td>2021-01-14 13:09:50</td>\n",
       "      <td>MOBY - Porcelain</td>\n",
       "      <td>K01245</td>\n",
       "      <td>VIDEO</td>\n",
       "      <td>57ea31912bb6581000092e89</td>\n",
       "    </tr>\n",
       "    <tr>\n",
       "      <th>16685</th>\n",
       "      <td>6000435f6e1b26001787d919</td>\n",
       "      <td>15</td>\n",
       "      <td>2021-01-14 13:13:13</td>\n",
       "      <td>2021-01-14 13:12:58</td>\n",
       "      <td>O2_Spolu_-_Spojen?_slu?eb</td>\n",
       "      <td>rE43411</td>\n",
       "      <td>AD</td>\n",
       "      <td>575e76387a96d10f002792b9</td>\n",
       "    </tr>\n",
       "    <tr>\n",
       "      <th>16686</th>\n",
       "      <td>600043606e1b26001787d91a</td>\n",
       "      <td>231</td>\n",
       "      <td>2021-01-14 13:16:50</td>\n",
       "      <td>2021-01-14 13:12:59</td>\n",
       "      <td>HOOBASTANK - The Reason (Live)</td>\n",
       "      <td>K37484</td>\n",
       "      <td>VIDEO</td>\n",
       "      <td>57ea31912bb6581000092e89</td>\n",
       "    </tr>\n",
       "  </tbody>\n",
       "</table>\n",
       "<p>16687 rows × 8 columns</p>\n",
       "</div>"
      ],
      "text/plain": [
       "                     Content_id  Duration  ... BcCategory                Channel_id\n",
       "0      5ff727f43fe0750017fed48d        15  ...         AD  57ea31912bb6581000092e89\n",
       "1      5ff728023fe0750017fed48e        20  ...         AD  57ea31912bb6581000092e89\n",
       "2      5ff7281b3fe0750017fed48f        15  ...         AD  57ea31912bb6581000092e89\n",
       "3      5ff728283fe0750017fed490        20  ...         AD  57ea31912bb6581000092e89\n",
       "4      5ff7283c3fe0750017fed491        30  ...         AD  57ea31912bb6581000092e89\n",
       "...                         ...       ...  ...        ...                       ...\n",
       "16682  600041cc6e1b26001787d916       215  ...      VIDEO  57ea31912bb6581000092e89\n",
       "16683  600042a36e1b26001787d917       197  ...      VIDEO  575e76387a96d10f002792b9\n",
       "16684  600042a46e1b26001787d918       189  ...      VIDEO  57ea31912bb6581000092e89\n",
       "16685  6000435f6e1b26001787d919        15  ...         AD  575e76387a96d10f002792b9\n",
       "16686  600043606e1b26001787d91a       231  ...      VIDEO  57ea31912bb6581000092e89\n",
       "\n",
       "[16687 rows x 8 columns]"
      ]
     },
     "execution_count": 5,
     "metadata": {
      "tags": []
     },
     "output_type": "execute_result"
    }
   ],
   "source": [
    "df_playlists"
   ]
  },
  {
   "cell_type": "code",
   "execution_count": 6,
   "metadata": {
    "id": "ElbsY3VK5vDN"
   },
   "outputs": [],
   "source": [
    "df_playlists = df_playlists[['Content_id', 'Channel_id','Duration','Content_end','Content_start','Content_title','BcCategory','BcId']]"
   ]
  },
  {
   "cell_type": "code",
   "execution_count": 7,
   "metadata": {
    "colab": {
     "base_uri": "https://localhost:8080/",
     "height": 237
    },
    "id": "IscVBralhvQX",
    "outputId": "543f5ffd-a54a-48c6-e3b2-1b5c47ba6b27"
   },
   "outputs": [
    {
     "data": {
      "text/html": [
       "<div>\n",
       "<style scoped>\n",
       "    .dataframe tbody tr th:only-of-type {\n",
       "        vertical-align: middle;\n",
       "    }\n",
       "\n",
       "    .dataframe tbody tr th {\n",
       "        vertical-align: top;\n",
       "    }\n",
       "\n",
       "    .dataframe thead th {\n",
       "        text-align: right;\n",
       "    }\n",
       "</style>\n",
       "<table border=\"1\" class=\"dataframe\">\n",
       "  <thead>\n",
       "    <tr style=\"text-align: right;\">\n",
       "      <th></th>\n",
       "      <th>Channel_id</th>\n",
       "      <th>Duration</th>\n",
       "      <th>Content_end</th>\n",
       "      <th>Content_start</th>\n",
       "      <th>Content_title</th>\n",
       "      <th>BcCategory</th>\n",
       "      <th>BcId</th>\n",
       "    </tr>\n",
       "    <tr>\n",
       "      <th>Content_id</th>\n",
       "      <th></th>\n",
       "      <th></th>\n",
       "      <th></th>\n",
       "      <th></th>\n",
       "      <th></th>\n",
       "      <th></th>\n",
       "      <th></th>\n",
       "    </tr>\n",
       "  </thead>\n",
       "  <tbody>\n",
       "    <tr>\n",
       "      <th>5ff727f43fe0750017fed48d</th>\n",
       "      <td>57ea31912bb6581000092e89</td>\n",
       "      <td>15</td>\n",
       "      <td>2021-01-07 15:25:50</td>\n",
       "      <td>2021-01-07 15:25:35</td>\n",
       "      <td>_DeLonghi_Foam_Density_k?vovary</td>\n",
       "      <td>AD</td>\n",
       "      <td>rE40196</td>\n",
       "    </tr>\n",
       "    <tr>\n",
       "      <th>5ff728023fe0750017fed48e</th>\n",
       "      <td>57ea31912bb6581000092e89</td>\n",
       "      <td>20</td>\n",
       "      <td>2021-01-07 15:26:10</td>\n",
       "      <td>2021-01-07 15:25:50</td>\n",
       "      <td>Favi_ceny_podzim_2020_srovn?n?_n?bytku</td>\n",
       "      <td>AD</td>\n",
       "      <td>rE40559</td>\n",
       "    </tr>\n",
       "    <tr>\n",
       "      <th>5ff7281b3fe0750017fed48f</th>\n",
       "      <td>57ea31912bb6581000092e89</td>\n",
       "      <td>15</td>\n",
       "      <td>2021-01-07 15:26:25</td>\n",
       "      <td>2021-01-07 15:26:10</td>\n",
       "      <td>Soda_Stream_je?t?rka</td>\n",
       "      <td>AD</td>\n",
       "      <td>rE41771</td>\n",
       "    </tr>\n",
       "    <tr>\n",
       "      <th>5ff728283fe0750017fed490</th>\n",
       "      <td>57ea31912bb6581000092e89</td>\n",
       "      <td>20</td>\n",
       "      <td>2021-01-07 15:26:45</td>\n",
       "      <td>2021-01-07 15:26:25</td>\n",
       "      <td>McDelivery_-_j?dlo_ke_dve??m,_+_Wolt,_DJ</td>\n",
       "      <td>AD</td>\n",
       "      <td>rE43593</td>\n",
       "    </tr>\n",
       "    <tr>\n",
       "      <th>5ff7283c3fe0750017fed491</th>\n",
       "      <td>57ea31912bb6581000092e89</td>\n",
       "      <td>30</td>\n",
       "      <td>2021-01-07 15:27:16</td>\n",
       "      <td>2021-01-07 15:26:46</td>\n",
       "      <td>Dettol_-_mali?kosti</td>\n",
       "      <td>AD</td>\n",
       "      <td>rE43686</td>\n",
       "    </tr>\n",
       "  </tbody>\n",
       "</table>\n",
       "</div>"
      ],
      "text/plain": [
       "                                        Channel_id  ...     BcId\n",
       "Content_id                                          ...         \n",
       "5ff727f43fe0750017fed48d  57ea31912bb6581000092e89  ...  rE40196\n",
       "5ff728023fe0750017fed48e  57ea31912bb6581000092e89  ...  rE40559\n",
       "5ff7281b3fe0750017fed48f  57ea31912bb6581000092e89  ...  rE41771\n",
       "5ff728283fe0750017fed490  57ea31912bb6581000092e89  ...  rE43593\n",
       "5ff7283c3fe0750017fed491  57ea31912bb6581000092e89  ...  rE43686\n",
       "\n",
       "[5 rows x 7 columns]"
      ]
     },
     "execution_count": 7,
     "metadata": {
      "tags": []
     },
     "output_type": "execute_result"
    }
   ],
   "source": [
    "df = df_playlists.set_index('Content_id')\n",
    "df.head()"
   ]
  },
  {
   "cell_type": "code",
   "execution_count": 8,
   "metadata": {
    "colab": {
     "base_uri": "https://localhost:8080/",
     "height": 455
    },
    "id": "giER20hq8g2v",
    "outputId": "95056772-e7d0-45c6-b4b8-0f3f02a4b250"
   },
   "outputs": [
    {
     "data": {
      "text/html": [
       "<div>\n",
       "<style scoped>\n",
       "    .dataframe tbody tr th:only-of-type {\n",
       "        vertical-align: middle;\n",
       "    }\n",
       "\n",
       "    .dataframe tbody tr th {\n",
       "        vertical-align: top;\n",
       "    }\n",
       "\n",
       "    .dataframe thead th {\n",
       "        text-align: right;\n",
       "    }\n",
       "</style>\n",
       "<table border=\"1\" class=\"dataframe\">\n",
       "  <thead>\n",
       "    <tr style=\"text-align: right;\">\n",
       "      <th></th>\n",
       "      <th>Channel_id</th>\n",
       "      <th>Duration</th>\n",
       "      <th>Content_end</th>\n",
       "      <th>Content_start</th>\n",
       "      <th>Content_title</th>\n",
       "      <th>BcCategory</th>\n",
       "      <th>BcId</th>\n",
       "      <th>AdId</th>\n",
       "    </tr>\n",
       "    <tr>\n",
       "      <th>Content_id</th>\n",
       "      <th></th>\n",
       "      <th></th>\n",
       "      <th></th>\n",
       "      <th></th>\n",
       "      <th></th>\n",
       "      <th></th>\n",
       "      <th></th>\n",
       "      <th></th>\n",
       "    </tr>\n",
       "  </thead>\n",
       "  <tbody>\n",
       "    <tr>\n",
       "      <th>5ff727f43fe0750017fed48d</th>\n",
       "      <td>57ea31912bb6581000092e89</td>\n",
       "      <td>15</td>\n",
       "      <td>2021-01-07 15:25:50</td>\n",
       "      <td>2021-01-07 15:25:35</td>\n",
       "      <td>_DeLonghi_Foam_Density_k?vovary</td>\n",
       "      <td>AD</td>\n",
       "      <td>rE40196</td>\n",
       "      <td></td>\n",
       "    </tr>\n",
       "    <tr>\n",
       "      <th>5ff728023fe0750017fed48e</th>\n",
       "      <td>57ea31912bb6581000092e89</td>\n",
       "      <td>20</td>\n",
       "      <td>2021-01-07 15:26:10</td>\n",
       "      <td>2021-01-07 15:25:50</td>\n",
       "      <td>Favi_ceny_podzim_2020_srovn?n?_n?bytku</td>\n",
       "      <td>AD</td>\n",
       "      <td>rE40559</td>\n",
       "      <td></td>\n",
       "    </tr>\n",
       "    <tr>\n",
       "      <th>5ff7281b3fe0750017fed48f</th>\n",
       "      <td>57ea31912bb6581000092e89</td>\n",
       "      <td>15</td>\n",
       "      <td>2021-01-07 15:26:25</td>\n",
       "      <td>2021-01-07 15:26:10</td>\n",
       "      <td>Soda_Stream_je?t?rka</td>\n",
       "      <td>AD</td>\n",
       "      <td>rE41771</td>\n",
       "      <td></td>\n",
       "    </tr>\n",
       "    <tr>\n",
       "      <th>5ff728283fe0750017fed490</th>\n",
       "      <td>57ea31912bb6581000092e89</td>\n",
       "      <td>20</td>\n",
       "      <td>2021-01-07 15:26:45</td>\n",
       "      <td>2021-01-07 15:26:25</td>\n",
       "      <td>McDelivery_-_j?dlo_ke_dve??m,_+_Wolt,_DJ</td>\n",
       "      <td>AD</td>\n",
       "      <td>rE43593</td>\n",
       "      <td></td>\n",
       "    </tr>\n",
       "    <tr>\n",
       "      <th>5ff7283c3fe0750017fed491</th>\n",
       "      <td>57ea31912bb6581000092e89</td>\n",
       "      <td>30</td>\n",
       "      <td>2021-01-07 15:27:16</td>\n",
       "      <td>2021-01-07 15:26:46</td>\n",
       "      <td>Dettol_-_mali?kosti</td>\n",
       "      <td>AD</td>\n",
       "      <td>rE43686</td>\n",
       "      <td></td>\n",
       "    </tr>\n",
       "    <tr>\n",
       "      <th>...</th>\n",
       "      <td>...</td>\n",
       "      <td>...</td>\n",
       "      <td>...</td>\n",
       "      <td>...</td>\n",
       "      <td>...</td>\n",
       "      <td>...</td>\n",
       "      <td>...</td>\n",
       "      <td>...</td>\n",
       "    </tr>\n",
       "    <tr>\n",
       "      <th>600041cc6e1b26001787d916</th>\n",
       "      <td>57ea31912bb6581000092e89</td>\n",
       "      <td>215</td>\n",
       "      <td>2021-01-14 13:09:50</td>\n",
       "      <td>2021-01-14 13:06:15</td>\n",
       "      <td>PETER ANDRE - Mysterious Girl</td>\n",
       "      <td>VIDEO</td>\n",
       "      <td>K05566</td>\n",
       "      <td></td>\n",
       "    </tr>\n",
       "    <tr>\n",
       "      <th>600042a36e1b26001787d917</th>\n",
       "      <td>575e76387a96d10f002792b9</td>\n",
       "      <td>197</td>\n",
       "      <td>2021-01-14 13:10:31</td>\n",
       "      <td>2021-01-14 13:07:14</td>\n",
       "      <td>SAM SMITH &amp; DEMI LOVATO - I'm Ready</td>\n",
       "      <td>VIDEO</td>\n",
       "      <td>K36147</td>\n",
       "      <td></td>\n",
       "    </tr>\n",
       "    <tr>\n",
       "      <th>600042a46e1b26001787d918</th>\n",
       "      <td>57ea31912bb6581000092e89</td>\n",
       "      <td>189</td>\n",
       "      <td>2021-01-14 13:12:59</td>\n",
       "      <td>2021-01-14 13:09:50</td>\n",
       "      <td>MOBY - Porcelain</td>\n",
       "      <td>VIDEO</td>\n",
       "      <td>K01245</td>\n",
       "      <td></td>\n",
       "    </tr>\n",
       "    <tr>\n",
       "      <th>6000435f6e1b26001787d919</th>\n",
       "      <td>575e76387a96d10f002792b9</td>\n",
       "      <td>15</td>\n",
       "      <td>2021-01-14 13:13:13</td>\n",
       "      <td>2021-01-14 13:12:58</td>\n",
       "      <td>O2_Spolu_-_Spojen?_slu?eb</td>\n",
       "      <td>AD</td>\n",
       "      <td>rE43411</td>\n",
       "      <td></td>\n",
       "    </tr>\n",
       "    <tr>\n",
       "      <th>600043606e1b26001787d91a</th>\n",
       "      <td>57ea31912bb6581000092e89</td>\n",
       "      <td>231</td>\n",
       "      <td>2021-01-14 13:16:50</td>\n",
       "      <td>2021-01-14 13:12:59</td>\n",
       "      <td>HOOBASTANK - The Reason (Live)</td>\n",
       "      <td>VIDEO</td>\n",
       "      <td>K37484</td>\n",
       "      <td></td>\n",
       "    </tr>\n",
       "  </tbody>\n",
       "</table>\n",
       "<p>16687 rows × 8 columns</p>\n",
       "</div>"
      ],
      "text/plain": [
       "                                        Channel_id  Duration  ...     BcId AdId\n",
       "Content_id                                                    ...              \n",
       "5ff727f43fe0750017fed48d  57ea31912bb6581000092e89        15  ...  rE40196     \n",
       "5ff728023fe0750017fed48e  57ea31912bb6581000092e89        20  ...  rE40559     \n",
       "5ff7281b3fe0750017fed48f  57ea31912bb6581000092e89        15  ...  rE41771     \n",
       "5ff728283fe0750017fed490  57ea31912bb6581000092e89        20  ...  rE43593     \n",
       "5ff7283c3fe0750017fed491  57ea31912bb6581000092e89        30  ...  rE43686     \n",
       "...                                            ...       ...  ...      ...  ...\n",
       "600041cc6e1b26001787d916  57ea31912bb6581000092e89       215  ...   K05566     \n",
       "600042a36e1b26001787d917  575e76387a96d10f002792b9       197  ...   K36147     \n",
       "600042a46e1b26001787d918  57ea31912bb6581000092e89       189  ...   K01245     \n",
       "6000435f6e1b26001787d919  575e76387a96d10f002792b9        15  ...  rE43411     \n",
       "600043606e1b26001787d91a  57ea31912bb6581000092e89       231  ...   K37484     \n",
       "\n",
       "[16687 rows x 8 columns]"
      ]
     },
     "execution_count": 8,
     "metadata": {
      "tags": []
     },
     "output_type": "execute_result"
    }
   ],
   "source": [
    "df['AdId'] = ''\n",
    "df"
   ]
  },
  {
   "cell_type": "code",
   "execution_count": 9,
   "metadata": {
    "colab": {
     "base_uri": "https://localhost:8080/"
    },
    "id": "PuA7kC0w5vDW",
    "outputId": "d4bb7c77-80e0-45b7-d809-3e44e6e274fd"
   },
   "outputs": [
    {
     "data": {
      "text/plain": [
       "Index(['Channel_id', 'Duration', 'Content_end', 'Content_start',\n",
       "       'Content_title', 'BcCategory', 'BcId', 'AdId'],\n",
       "      dtype='object')"
      ]
     },
     "execution_count": 9,
     "metadata": {
      "tags": []
     },
     "output_type": "execute_result"
    }
   ],
   "source": [
    "df.columns"
   ]
  },
  {
   "cell_type": "code",
   "execution_count": 10,
   "metadata": {
    "id": "byJN-uDrh7IY"
   },
   "outputs": [],
   "source": [
    "df.to_csv('content5.csv', sep='@')"
   ]
  },
  {
   "cell_type": "code",
   "execution_count": 11,
   "metadata": {
    "colab": {
     "base_uri": "https://localhost:8080/"
    },
    "id": "twXsGW9jhRVq",
    "outputId": "61e968fc-92cc-4c5f-c636-a34e0bfa1fac"
   },
   "outputs": [
    {
     "name": "stdout",
     "output_type": "stream",
     "text": [
      "Collecting snowflake-connector-python\n",
      "\u001b[?25l  Downloading https://files.pythonhosted.org/packages/bc/d1/e1708b8beea9604a7c6b5b96f48a6d863e0126d5439c638b6ee7e33641fd/snowflake_connector_python-2.3.8-cp36-cp36m-manylinux2010_x86_64.whl (12.2MB)\n",
      "\u001b[K     |████████████████████████████████| 12.2MB 5.5MB/s \n",
      "\u001b[?25hCollecting pyOpenSSL<20.0.0,>=16.2.0\n",
      "\u001b[?25l  Downloading https://files.pythonhosted.org/packages/9e/de/f8342b68fa9e981d348039954657bdf681b2ab93de27443be51865ffa310/pyOpenSSL-19.1.0-py2.py3-none-any.whl (53kB)\n",
      "\u001b[K     |████████████████████████████████| 61kB 6.2MB/s \n",
      "\u001b[?25hCollecting pyjwt<2.0.0\n",
      "  Downloading https://files.pythonhosted.org/packages/87/8b/6a9f14b5f781697e51259d81657e6048fd31a113229cf346880bb7545565/PyJWT-1.7.1-py2.py3-none-any.whl\n",
      "Collecting azure-common<2.0.0\n",
      "  Downloading https://files.pythonhosted.org/packages/19/2b/46ada1753c4a640bc3ad04a1e20b1a5ea52a8f18079e1b8238e536aa0c98/azure_common-1.1.26-py2.py3-none-any.whl\n",
      "Collecting azure-storage-blob<13.0.0,>=12.0.0\n",
      "\u001b[?25l  Downloading https://files.pythonhosted.org/packages/99/ff/f6d64ea22099c9a3a8117d4a271d12628f852f55c97986d89c1522875c88/azure_storage_blob-12.7.0-py2.py3-none-any.whl (339kB)\n",
      "\u001b[K     |████████████████████████████████| 348kB 39.8MB/s \n",
      "\u001b[?25hRequirement already satisfied: cffi<2.0.0,>=1.9 in /usr/local/lib/python3.6/dist-packages (from snowflake-connector-python) (1.14.4)\n",
      "Requirement already satisfied: pytz<2021.0 in /usr/local/lib/python3.6/dist-packages (from snowflake-connector-python) (2018.9)\n",
      "Collecting cryptography<4.0.0,>=2.5.0\n",
      "\u001b[?25l  Downloading https://files.pythonhosted.org/packages/c9/de/7054df0620b5411ba45480f0261e1fb66a53f3db31b28e3aa52c026e72d9/cryptography-3.3.1-cp36-abi3-manylinux2010_x86_64.whl (2.6MB)\n",
      "\u001b[K     |████████████████████████████████| 2.6MB 44.9MB/s \n",
      "\u001b[?25hCollecting oscrypto<2.0.0\n",
      "\u001b[?25l  Downloading https://files.pythonhosted.org/packages/83/81/f3a737003ae1687f2bb615210a3fc5bdd4bcd34b0f723f2d97b5aa62ca86/oscrypto-1.2.1-py2.py3-none-any.whl (192kB)\n",
      "\u001b[K     |████████████████████████████████| 194kB 32.5MB/s \n",
      "\u001b[?25hRequirement already satisfied: certifi>=2017.4.17 in /usr/local/lib/python3.6/dist-packages (from snowflake-connector-python) (2020.12.5)\n",
      "Collecting boto3<2.0.0,>=1.4.4\n",
      "\u001b[?25l  Downloading https://files.pythonhosted.org/packages/7a/da/8d9a790f134b36f4e3c53f0fca330a6917a3091c61cb74d4ab1e15ee8940/boto3-1.16.54-py2.py3-none-any.whl (130kB)\n",
      "\u001b[K     |████████████████████████████████| 133kB 49.3MB/s \n",
      "\u001b[?25hCollecting asn1crypto<2.0.0,>0.24.0\n",
      "\u001b[?25l  Downloading https://files.pythonhosted.org/packages/b5/a8/56be92dcd4a5bf1998705a9b4028249fe7c9a035b955fe93b6a3e5b829f8/asn1crypto-1.4.0-py2.py3-none-any.whl (104kB)\n",
      "\u001b[K     |████████████████████████████████| 112kB 40.1MB/s \n",
      "\u001b[?25hRequirement already satisfied: chardet<4,>=3.0.2 in /usr/local/lib/python3.6/dist-packages (from snowflake-connector-python) (3.0.4)\n",
      "Requirement already satisfied: requests<3.0.0 in /usr/local/lib/python3.6/dist-packages (from snowflake-connector-python) (2.23.0)\n",
      "Collecting pycryptodomex!=3.5.0,<4.0.0,>=3.2\n",
      "\u001b[?25l  Downloading https://files.pythonhosted.org/packages/ff/29/1541b26a2b679bafb124138c5f009ed7821d9d329536b79a313a9a1aa684/pycryptodomex-3.9.9-cp36-cp36m-manylinux1_x86_64.whl (13.7MB)\n",
      "\u001b[K     |████████████████████████████████| 13.7MB 37.7MB/s \n",
      "\u001b[?25hRequirement already satisfied: setuptools>34.0.0 in /usr/local/lib/python3.6/dist-packages (from snowflake-connector-python) (51.1.1)\n",
      "Requirement already satisfied: idna<3,>=2.5 in /usr/local/lib/python3.6/dist-packages (from snowflake-connector-python) (2.10)\n",
      "Requirement already satisfied: six>=1.5.2 in /usr/local/lib/python3.6/dist-packages (from pyOpenSSL<20.0.0,>=16.2.0->snowflake-connector-python) (1.15.0)\n",
      "Collecting msrest>=0.6.10\n",
      "\u001b[?25l  Downloading https://files.pythonhosted.org/packages/fa/f5/9e315fe8cb985b0ce052b34bcb767883dc739f46fadb62f05a7e6d6eedbe/msrest-0.6.19-py2.py3-none-any.whl (84kB)\n",
      "\u001b[K     |████████████████████████████████| 92kB 8.1MB/s \n",
      "\u001b[?25hCollecting azure-core<2.0.0,>=1.10.0\n",
      "\u001b[?25l  Downloading https://files.pythonhosted.org/packages/12/9e/6bb67fe85f6a89d71f50c86a0da778a5064f749a485ed9ba498067034227/azure_core-1.10.0-py2.py3-none-any.whl (125kB)\n",
      "\u001b[K     |████████████████████████████████| 133kB 49.5MB/s \n",
      "\u001b[?25hRequirement already satisfied: pycparser in /usr/local/lib/python3.6/dist-packages (from cffi<2.0.0,>=1.9->snowflake-connector-python) (2.20)\n",
      "Collecting botocore<1.20.0,>=1.19.54\n",
      "\u001b[?25l  Downloading https://files.pythonhosted.org/packages/83/b5/c9c91206814b35b18d8e187cea17a084a1ab24a8596764d2549de900ac83/botocore-1.19.54-py2.py3-none-any.whl (7.2MB)\n",
      "\u001b[K     |████████████████████████████████| 7.2MB 32.6MB/s \n",
      "\u001b[?25hCollecting s3transfer<0.4.0,>=0.3.0\n",
      "\u001b[?25l  Downloading https://files.pythonhosted.org/packages/ea/43/4b4a1b26eb03a429a4c37ca7fdf369d938bd60018fc194e94b8379b0c77c/s3transfer-0.3.4-py2.py3-none-any.whl (69kB)\n",
      "\u001b[K     |████████████████████████████████| 71kB 7.8MB/s \n",
      "\u001b[?25hCollecting jmespath<1.0.0,>=0.7.1\n",
      "  Downloading https://files.pythonhosted.org/packages/07/cb/5f001272b6faeb23c1c9e0acc04d48eaaf5c862c17709d20e3469c6e0139/jmespath-0.10.0-py2.py3-none-any.whl\n",
      "Requirement already satisfied: urllib3!=1.25.0,!=1.25.1,<1.26,>=1.21.1 in /usr/local/lib/python3.6/dist-packages (from requests<3.0.0->snowflake-connector-python) (1.24.3)\n",
      "Collecting isodate>=0.6.0\n",
      "\u001b[?25l  Downloading https://files.pythonhosted.org/packages/9b/9f/b36f7774ff5ea8e428fdcfc4bb332c39ee5b9362ddd3d40d9516a55221b2/isodate-0.6.0-py2.py3-none-any.whl (45kB)\n",
      "\u001b[K     |████████████████████████████████| 51kB 6.0MB/s \n",
      "\u001b[?25hRequirement already satisfied: requests-oauthlib>=0.5.0 in /usr/local/lib/python3.6/dist-packages (from msrest>=0.6.10->azure-storage-blob<13.0.0,>=12.0.0->snowflake-connector-python) (1.3.0)\n",
      "Requirement already satisfied: python-dateutil<3.0.0,>=2.1 in /usr/local/lib/python3.6/dist-packages (from botocore<1.20.0,>=1.19.54->boto3<2.0.0,>=1.4.4->snowflake-connector-python) (2.8.1)\n",
      "Requirement already satisfied: oauthlib>=3.0.0 in /usr/local/lib/python3.6/dist-packages (from requests-oauthlib>=0.5.0->msrest>=0.6.10->azure-storage-blob<13.0.0,>=12.0.0->snowflake-connector-python) (3.1.0)\n",
      "\u001b[31mERROR: botocore 1.19.54 has requirement urllib3<1.27,>=1.25.4; python_version != \"3.4\", but you'll have urllib3 1.24.3 which is incompatible.\u001b[0m\n",
      "Installing collected packages: cryptography, pyOpenSSL, pyjwt, azure-common, isodate, msrest, azure-core, azure-storage-blob, asn1crypto, oscrypto, jmespath, botocore, s3transfer, boto3, pycryptodomex, snowflake-connector-python\n",
      "Successfully installed asn1crypto-1.4.0 azure-common-1.1.26 azure-core-1.10.0 azure-storage-blob-12.7.0 boto3-1.16.54 botocore-1.19.54 cryptography-3.3.1 isodate-0.6.0 jmespath-0.10.0 msrest-0.6.19 oscrypto-1.2.1 pyOpenSSL-19.1.0 pycryptodomex-3.9.9 pyjwt-1.7.1 s3transfer-0.3.4 snowflake-connector-python-2.3.8\n"
     ]
    }
   ],
   "source": [
    "!pip install snowflake-connector-python\n",
    "import pandas as pd\n",
    "import snowflake.connector"
   ]
  },
  {
   "cell_type": "code",
   "execution_count": 12,
   "metadata": {
    "id": "5nhpobmthRVt"
   },
   "outputs": [],
   "source": [
    "# write to snowflake\n",
    "conn = snowflake.connector.connect(\n",
    "                user=\"os.environ.get('SNOWFLAKE_USER')\",\n",
    "                password=\"os.environ.get('SNOWFLAKE_PASS')\",\n",
    "                account=\"os.environ.get('SNOWFLAKE_ACC')\",\n",
    "                database=\"os.environ.get('SNOWFLAKE_DB')\",\n",
    "                schema=\"os.environ.get('SNOWFLAKE_SCHEMA')\")"
   ]
  },
  {
   "cell_type": "code",
   "execution_count": 13,
   "metadata": {
    "id": "ZJZU6nIyhRVv"
   },
   "outputs": [],
   "source": [
    "cur = conn.cursor()"
   ]
  },
  {
   "cell_type": "code",
   "execution_count": 14,
   "metadata": {
    "colab": {
     "base_uri": "https://localhost:8080/"
    },
    "id": "H27oc-90hRVx",
    "outputId": "2f142c78-2c21-47c4-9fd8-63bc55af488c"
   },
   "outputs": [
    {
     "data": {
      "text/plain": [
       "<snowflake.connector.cursor.SnowflakeCursor at 0x7f877d7a0f60>"
      ]
     },
     "execution_count": 14,
     "metadata": {
      "tags": []
     },
     "output_type": "execute_result"
    }
   ],
   "source": [
    "cur.execute('USE WAREHOUSE AFTERSPOT_WH')"
   ]
  },
  {
   "cell_type": "code",
   "execution_count": 19,
   "metadata": {
    "colab": {
     "base_uri": "https://localhost:8080/"
    },
    "id": "RDUED0zAiJdL",
    "outputId": "952b6c43-0cac-4b98-81b4-a945e79915fb"
   },
   "outputs": [
    {
     "data": {
      "text/plain": [
       "<snowflake.connector.cursor.SnowflakeCursor at 0x7f877d7a0f60>"
      ]
     },
     "execution_count": 19,
     "metadata": {
      "tags": []
     },
     "output_type": "execute_result"
    }
   ],
   "source": [
    "cur.execute(\"put file://{} @{} auto_compress=true\".format('content5.csv', 'TEST'))"
   ]
  },
  {
   "cell_type": "code",
   "execution_count": 16,
   "metadata": {
    "colab": {
     "base_uri": "https://localhost:8080/"
    },
    "id": "7qXOIkJWiOUq",
    "outputId": "d951a535-c0b2-49ec-aeb7-35be356e6836"
   },
   "outputs": [
    {
     "data": {
      "text/plain": [
       "<snowflake.connector.cursor.SnowflakeCursor at 0x7f877d7a0f60>"
      ]
     },
     "execution_count": 16,
     "metadata": {
      "tags": []
     },
     "output_type": "execute_result"
    }
   ],
   "source": [
    "cur.execute(\"COPY INTO DIM_CONTENT FROM @test/content5.csv.gz FILE_FORMAT=(TYPE=csv field_delimiter='@' skip_header=1)\")"
   ]
  }
 ],
 "metadata": {
  "colab": {
   "name": "playout_02_.ipynb",
   "provenance": []
  },
  "kernelspec": {
   "display_name": "Python 3",
   "language": "python",
   "name": "python3"
  },
  "language_info": {
   "codemirror_mode": {
    "name": "ipython",
    "version": 3
   },
   "file_extension": ".py",
   "mimetype": "text/x-python",
   "name": "python",
   "nbconvert_exporter": "python",
   "pygments_lexer": "ipython3",
   "version": "3.7.4"
  }
 },
 "nbformat": 4,
 "nbformat_minor": 1
}
