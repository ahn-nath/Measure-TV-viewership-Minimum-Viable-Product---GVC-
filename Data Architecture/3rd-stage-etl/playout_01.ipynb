{
 "cells": [
  {
   "cell_type": "code",
   "execution_count": null,
   "metadata": {
    "id": "YamzhNbmbEY4"
   },
   "outputs": [],
   "source": [
    "\"\"\"\"\n",
    "NOTES:\n",
    "- Use env variables for the end"
   ]
  },
  {
   "cell_type": "code",
   "execution_count": null,
   "metadata": {
    "colab": {
     "base_uri": "https://localhost:8080/"
    },
    "id": "z-vLsD5GbEZO",
    "outputId": "219a9e46-58df-4f6e-e4ad-a42158701771"
   },
   "outputs": [
    {
     "name": "stdout",
     "output_type": "stream",
     "text": [
      "Requirement already satisfied: dnspython in /usr/local/lib/python3.6/dist-packages (2.1.0)\n",
      "List of collections \n",
      "--------------------\n",
      "channels\n",
      "versions\n",
      "playlists\n",
      "scripts\n"
     ]
    }
   ],
   "source": [
    "#3st Stage - Playout connector\n",
    "# playout_01\n",
    "# table name: Channel \n",
    "\n",
    "!pip install dnspython\n",
    "import pandas\n",
    "from pandas import DataFrame\n",
    "import os\n",
    "import pymongo\n",
    "from pymongo import MongoClient\n",
    "\n",
    "#Broadcaster data\n",
    "client = MongoClient(\"os.environ.get('MONGO_BROADCASTDATA_URI')\")\n",
    "db = client[\"hybrid-dast\"]\n",
    "\n",
    "    \n",
    "print(\"List of collections \\n--------------------\")\n",
    "\n",
    "#list collection names\n",
    "for x in db.list_collection_names():\n",
    "    print(x)\n",
    "\n",
    "    \n",
    "channels = db.channels.find( {} ) #get all documents from channels collection\n",
    "list_cur = list(channels) #cursor to list\n",
    "df_channel = DataFrame(list_cur) #cursor to dataframe\n",
    "    "
   ]
  },
  {
   "cell_type": "code",
   "execution_count": null,
   "metadata": {
    "colab": {
     "base_uri": "https://localhost:8080/",
     "height": 833
    },
    "id": "iezRfZcPbEZX",
    "outputId": "fc159afd-2bf7-49a2-9102-fc058a517621"
   },
   "outputs": [
    {
     "data": {
      "text/html": [
       "<div>\n",
       "<style scoped>\n",
       "    .dataframe tbody tr th:only-of-type {\n",
       "        vertical-align: middle;\n",
       "    }\n",
       "\n",
       "    .dataframe tbody tr th {\n",
       "        vertical-align: top;\n",
       "    }\n",
       "\n",
       "    .dataframe thead th {\n",
       "        text-align: right;\n",
       "    }\n",
       "</style>\n",
       "<table border=\"1\" class=\"dataframe\">\n",
       "  <thead>\n",
       "    <tr style=\"text-align: right;\">\n",
       "      <th></th>\n",
       "      <th>_id</th>\n",
       "      <th>name</th>\n",
       "      <th>__v</th>\n",
       "      <th>active</th>\n",
       "    </tr>\n",
       "  </thead>\n",
       "  <tbody>\n",
       "    <tr>\n",
       "      <th>0</th>\n",
       "      <td>59f9c0dfbc95750d006b98f5</td>\n",
       "      <td>Dajto</td>\n",
       "      <td>0</td>\n",
       "      <td>False</td>\n",
       "    </tr>\n",
       "    <tr>\n",
       "      <th>1</th>\n",
       "      <td>59f9c0c9bc95750d006b98f3</td>\n",
       "      <td>Doma</td>\n",
       "      <td>0</td>\n",
       "      <td>False</td>\n",
       "    </tr>\n",
       "    <tr>\n",
       "      <th>2</th>\n",
       "      <td>599ac0c6297e870c00dd0cb5</td>\n",
       "      <td>Markiza</td>\n",
       "      <td>0</td>\n",
       "      <td>False</td>\n",
       "    </tr>\n",
       "    <tr>\n",
       "      <th>3</th>\n",
       "      <td>5aba123624af3b0f00984ab9</td>\n",
       "      <td>PRO TV [RO]</td>\n",
       "      <td>0</td>\n",
       "      <td>False</td>\n",
       "    </tr>\n",
       "    <tr>\n",
       "      <th>4</th>\n",
       "      <td>57336364f9dbf403008dcd3a</td>\n",
       "      <td>Prima</td>\n",
       "      <td>0</td>\n",
       "      <td>False</td>\n",
       "    </tr>\n",
       "    <tr>\n",
       "      <th>5</th>\n",
       "      <td>57336364f9dbf403008dcd3b</td>\n",
       "      <td>Prima Cool</td>\n",
       "      <td>0</td>\n",
       "      <td>False</td>\n",
       "    </tr>\n",
       "    <tr>\n",
       "      <th>6</th>\n",
       "      <td>5acf3b83ad86850f003eefe8</td>\n",
       "      <td>Prima Krimi</td>\n",
       "      <td>0</td>\n",
       "      <td>False</td>\n",
       "    </tr>\n",
       "    <tr>\n",
       "      <th>7</th>\n",
       "      <td>57336364f9dbf403008dcd3c</td>\n",
       "      <td>Prima Love</td>\n",
       "      <td>0</td>\n",
       "      <td>False</td>\n",
       "    </tr>\n",
       "    <tr>\n",
       "      <th>8</th>\n",
       "      <td>57336364f9dbf403008dcd3e</td>\n",
       "      <td>Prima Max</td>\n",
       "      <td>0</td>\n",
       "      <td>False</td>\n",
       "    </tr>\n",
       "    <tr>\n",
       "      <th>9</th>\n",
       "      <td>57336364f9dbf403008dcd3d</td>\n",
       "      <td>Prima Zoom</td>\n",
       "      <td>0</td>\n",
       "      <td>False</td>\n",
       "    </tr>\n",
       "    <tr>\n",
       "      <th>10</th>\n",
       "      <td>5f5642436c3aa9001e15c2d8</td>\n",
       "      <td>Prima+1</td>\n",
       "      <td>0</td>\n",
       "      <td>False</td>\n",
       "    </tr>\n",
       "    <tr>\n",
       "      <th>11</th>\n",
       "      <td>5a6f0c3196fcfe0f0078d58e</td>\n",
       "      <td>RETRO</td>\n",
       "      <td>0</td>\n",
       "      <td>False</td>\n",
       "    </tr>\n",
       "    <tr>\n",
       "      <th>12</th>\n",
       "      <td>5ce3f61b6acd76001ef577a0</td>\n",
       "      <td>Sledovani.tv</td>\n",
       "      <td>0</td>\n",
       "      <td>False</td>\n",
       "    </tr>\n",
       "    <tr>\n",
       "      <th>13</th>\n",
       "      <td>599ec48d91f5950c00a0d40c</td>\n",
       "      <td>Up Network</td>\n",
       "      <td>0</td>\n",
       "      <td>False</td>\n",
       "    </tr>\n",
       "    <tr>\n",
       "      <th>14</th>\n",
       "      <td>575e76387a96d10f002792b9</td>\n",
       "      <td>Óčko</td>\n",
       "      <td>0</td>\n",
       "      <td>True</td>\n",
       "    </tr>\n",
       "    <tr>\n",
       "      <th>15</th>\n",
       "      <td>57ea31912bb6581000092e89</td>\n",
       "      <td>Óčko Star</td>\n",
       "      <td>0</td>\n",
       "      <td>True</td>\n",
       "    </tr>\n",
       "    <tr>\n",
       "      <th>16</th>\n",
       "      <td>5853e11e84d1510b006b96c8</td>\n",
       "      <td>Šlágr</td>\n",
       "      <td>0</td>\n",
       "      <td>False</td>\n",
       "    </tr>\n",
       "    <tr>\n",
       "      <th>17</th>\n",
       "      <td>5ce289b3fb6fc01bf238b148</td>\n",
       "      <td>Šlágr 2</td>\n",
       "      <td>0</td>\n",
       "      <td>False</td>\n",
       "    </tr>\n",
       "    <tr>\n",
       "      <th>18</th>\n",
       "      <td>5fbe672db5b9900017c168b8</td>\n",
       "      <td>Nova</td>\n",
       "      <td>0</td>\n",
       "      <td>False</td>\n",
       "    </tr>\n",
       "    <tr>\n",
       "      <th>19</th>\n",
       "      <td>5fbe672db5b9900017c168b9</td>\n",
       "      <td>Nova Cinema</td>\n",
       "      <td>0</td>\n",
       "      <td>False</td>\n",
       "    </tr>\n",
       "    <tr>\n",
       "      <th>20</th>\n",
       "      <td>5fbe672db5b9900017c168ba</td>\n",
       "      <td>Nova Action</td>\n",
       "      <td>0</td>\n",
       "      <td>False</td>\n",
       "    </tr>\n",
       "    <tr>\n",
       "      <th>21</th>\n",
       "      <td>5fbe672db5b9900017c168bb</td>\n",
       "      <td>Nova 2</td>\n",
       "      <td>0</td>\n",
       "      <td>False</td>\n",
       "    </tr>\n",
       "    <tr>\n",
       "      <th>22</th>\n",
       "      <td>5fbe672db5b9900017c168bc</td>\n",
       "      <td>Nova Gold</td>\n",
       "      <td>0</td>\n",
       "      <td>False</td>\n",
       "    </tr>\n",
       "    <tr>\n",
       "      <th>23</th>\n",
       "      <td>5fbe672db5b9900017c168bd</td>\n",
       "      <td>Nova Sport 1</td>\n",
       "      <td>0</td>\n",
       "      <td>False</td>\n",
       "    </tr>\n",
       "    <tr>\n",
       "      <th>24</th>\n",
       "      <td>5fbe672db5b9900017c168be</td>\n",
       "      <td>Nova Sport 2</td>\n",
       "      <td>0</td>\n",
       "      <td>False</td>\n",
       "    </tr>\n",
       "  </tbody>\n",
       "</table>\n",
       "</div>"
      ],
      "text/plain": [
       "                         _id          name  __v  active\n",
       "0   59f9c0dfbc95750d006b98f5         Dajto    0   False\n",
       "1   59f9c0c9bc95750d006b98f3          Doma    0   False\n",
       "2   599ac0c6297e870c00dd0cb5       Markiza    0   False\n",
       "3   5aba123624af3b0f00984ab9   PRO TV [RO]    0   False\n",
       "4   57336364f9dbf403008dcd3a         Prima    0   False\n",
       "5   57336364f9dbf403008dcd3b    Prima Cool    0   False\n",
       "6   5acf3b83ad86850f003eefe8   Prima Krimi    0   False\n",
       "7   57336364f9dbf403008dcd3c    Prima Love    0   False\n",
       "8   57336364f9dbf403008dcd3e     Prima Max    0   False\n",
       "9   57336364f9dbf403008dcd3d    Prima Zoom    0   False\n",
       "10  5f5642436c3aa9001e15c2d8       Prima+1    0   False\n",
       "11  5a6f0c3196fcfe0f0078d58e         RETRO    0   False\n",
       "12  5ce3f61b6acd76001ef577a0  Sledovani.tv    0   False\n",
       "13  599ec48d91f5950c00a0d40c    Up Network    0   False\n",
       "14  575e76387a96d10f002792b9          Óčko    0    True\n",
       "15  57ea31912bb6581000092e89     Óčko Star    0    True\n",
       "16  5853e11e84d1510b006b96c8         Šlágr    0   False\n",
       "17  5ce289b3fb6fc01bf238b148       Šlágr 2    0   False\n",
       "18  5fbe672db5b9900017c168b8          Nova    0   False\n",
       "19  5fbe672db5b9900017c168b9   Nova Cinema    0   False\n",
       "20  5fbe672db5b9900017c168ba   Nova Action    0   False\n",
       "21  5fbe672db5b9900017c168bb        Nova 2    0   False\n",
       "22  5fbe672db5b9900017c168bc     Nova Gold    0   False\n",
       "23  5fbe672db5b9900017c168bd  Nova Sport 1    0   False\n",
       "24  5fbe672db5b9900017c168be  Nova Sport 2    0   False"
      ]
     },
     "execution_count": 6,
     "metadata": {
      "tags": []
     },
     "output_type": "execute_result"
    }
   ],
   "source": [
    "# testing\n",
    "df_channel"
   ]
  },
  {
   "cell_type": "code",
   "execution_count": null,
   "metadata": {
    "id": "H4Dfk_8obEZb"
   },
   "outputs": [],
   "source": [
    "# removing columns\n",
    "df_channel.drop(columns=['__v'], inplace=True) \n",
    "\n",
    "# renaming columns\n",
    "df_channel.columns = ['Channel_id', 'Channel_name', 'Active']"
   ]
  },
  {
   "cell_type": "code",
   "execution_count": null,
   "metadata": {
    "colab": {
     "base_uri": "https://localhost:8080/",
     "height": 237
    },
    "id": "TopLiu_cb2Ct",
    "outputId": "20b517e6-668a-41bf-959c-d2a9466ad2f3"
   },
   "outputs": [
    {
     "data": {
      "text/html": [
       "<div>\n",
       "<style scoped>\n",
       "    .dataframe tbody tr th:only-of-type {\n",
       "        vertical-align: middle;\n",
       "    }\n",
       "\n",
       "    .dataframe tbody tr th {\n",
       "        vertical-align: top;\n",
       "    }\n",
       "\n",
       "    .dataframe thead th {\n",
       "        text-align: right;\n",
       "    }\n",
       "</style>\n",
       "<table border=\"1\" class=\"dataframe\">\n",
       "  <thead>\n",
       "    <tr style=\"text-align: right;\">\n",
       "      <th></th>\n",
       "      <th>Channel_name</th>\n",
       "      <th>Active</th>\n",
       "    </tr>\n",
       "    <tr>\n",
       "      <th>Channel_id</th>\n",
       "      <th></th>\n",
       "      <th></th>\n",
       "    </tr>\n",
       "  </thead>\n",
       "  <tbody>\n",
       "    <tr>\n",
       "      <th>59f9c0dfbc95750d006b98f5</th>\n",
       "      <td>Dajto</td>\n",
       "      <td>False</td>\n",
       "    </tr>\n",
       "    <tr>\n",
       "      <th>59f9c0c9bc95750d006b98f3</th>\n",
       "      <td>Doma</td>\n",
       "      <td>False</td>\n",
       "    </tr>\n",
       "    <tr>\n",
       "      <th>599ac0c6297e870c00dd0cb5</th>\n",
       "      <td>Markiza</td>\n",
       "      <td>False</td>\n",
       "    </tr>\n",
       "    <tr>\n",
       "      <th>5aba123624af3b0f00984ab9</th>\n",
       "      <td>PRO TV [RO]</td>\n",
       "      <td>False</td>\n",
       "    </tr>\n",
       "    <tr>\n",
       "      <th>57336364f9dbf403008dcd3a</th>\n",
       "      <td>Prima</td>\n",
       "      <td>False</td>\n",
       "    </tr>\n",
       "  </tbody>\n",
       "</table>\n",
       "</div>"
      ],
      "text/plain": [
       "                         Channel_name  Active\n",
       "Channel_id                                   \n",
       "59f9c0dfbc95750d006b98f5        Dajto   False\n",
       "59f9c0c9bc95750d006b98f3         Doma   False\n",
       "599ac0c6297e870c00dd0cb5      Markiza   False\n",
       "5aba123624af3b0f00984ab9  PRO TV [RO]   False\n",
       "57336364f9dbf403008dcd3a        Prima   False"
      ]
     },
     "execution_count": 10,
     "metadata": {
      "tags": []
     },
     "output_type": "execute_result"
    }
   ],
   "source": [
    "df = df_channel.set_index('Channel_id')\n",
    "df.head()"
   ]
  },
  {
   "cell_type": "code",
   "execution_count": null,
   "metadata": {
    "colab": {
     "base_uri": "https://localhost:8080/",
     "height": 237
    },
    "id": "V0QPFBUubEZd",
    "outputId": "4d7f6d32-c6ae-4179-bff0-2280fa2d27aa"
   },
   "outputs": [
    {
     "data": {
      "text/html": [
       "<div>\n",
       "<style scoped>\n",
       "    .dataframe tbody tr th:only-of-type {\n",
       "        vertical-align: middle;\n",
       "    }\n",
       "\n",
       "    .dataframe tbody tr th {\n",
       "        vertical-align: top;\n",
       "    }\n",
       "\n",
       "    .dataframe thead th {\n",
       "        text-align: right;\n",
       "    }\n",
       "</style>\n",
       "<table border=\"1\" class=\"dataframe\">\n",
       "  <thead>\n",
       "    <tr style=\"text-align: right;\">\n",
       "      <th></th>\n",
       "      <th>Channel_name</th>\n",
       "      <th>Active</th>\n",
       "    </tr>\n",
       "    <tr>\n",
       "      <th>Channel_id</th>\n",
       "      <th></th>\n",
       "      <th></th>\n",
       "    </tr>\n",
       "  </thead>\n",
       "  <tbody>\n",
       "    <tr>\n",
       "      <th>59f9c0dfbc95750d006b98f5</th>\n",
       "      <td>Dajto</td>\n",
       "      <td>False</td>\n",
       "    </tr>\n",
       "    <tr>\n",
       "      <th>59f9c0c9bc95750d006b98f3</th>\n",
       "      <td>Doma</td>\n",
       "      <td>False</td>\n",
       "    </tr>\n",
       "    <tr>\n",
       "      <th>599ac0c6297e870c00dd0cb5</th>\n",
       "      <td>Markiza</td>\n",
       "      <td>False</td>\n",
       "    </tr>\n",
       "    <tr>\n",
       "      <th>5aba123624af3b0f00984ab9</th>\n",
       "      <td>PRO TV [RO]</td>\n",
       "      <td>False</td>\n",
       "    </tr>\n",
       "    <tr>\n",
       "      <th>57336364f9dbf403008dcd3a</th>\n",
       "      <td>Prima</td>\n",
       "      <td>False</td>\n",
       "    </tr>\n",
       "  </tbody>\n",
       "</table>\n",
       "</div>"
      ],
      "text/plain": [
       "                         Channel_name  Active\n",
       "Channel_id                                   \n",
       "59f9c0dfbc95750d006b98f5        Dajto   False\n",
       "59f9c0c9bc95750d006b98f3         Doma   False\n",
       "599ac0c6297e870c00dd0cb5      Markiza   False\n",
       "5aba123624af3b0f00984ab9  PRO TV [RO]   False\n",
       "57336364f9dbf403008dcd3a        Prima   False"
      ]
     },
     "execution_count": 14,
     "metadata": {
      "tags": []
     },
     "output_type": "execute_result"
    }
   ],
   "source": [
    "# final result\n",
    "df.head()"
   ]
  },
  {
   "cell_type": "code",
   "execution_count": null,
   "metadata": {
    "colab": {
     "base_uri": "https://localhost:8080/"
    },
    "id": "r34EI_qsezN5",
    "outputId": "e67f4add-ea08-489a-ae6b-5b5a5727eccd"
   },
   "outputs": [
    {
     "name": "stdout",
     "output_type": "stream",
     "text": [
      "<class 'pandas.core.frame.DataFrame'>\n",
      "Index: 25 entries, 59f9c0dfbc95750d006b98f5 to 5fbe672db5b9900017c168be\n",
      "Data columns (total 2 columns):\n",
      " #   Column        Non-Null Count  Dtype \n",
      "---  ------        --------------  ----- \n",
      " 0   Channel_name  25 non-null     object\n",
      " 1   Active        25 non-null     bool  \n",
      "dtypes: bool(1), object(1)\n",
      "memory usage: 1.0+ KB\n"
     ]
    }
   ],
   "source": [
    "df."
   ]
  },
  {
   "cell_type": "code",
   "execution_count": null,
   "metadata": {
    "id": "i6xd3Kjecj16"
   },
   "outputs": [],
   "source": [
    "df.to_csv('channel.csv')"
   ]
  },
  {
   "cell_type": "code",
   "execution_count": null,
   "metadata": {
    "colab": {
     "base_uri": "https://localhost:8080/"
    },
    "id": "q1QrVwuDbEZf",
    "outputId": "4c19996e-37b2-4841-d01b-c684c5ded2ee"
   },
   "outputs": [
    {
     "name": "stdout",
     "output_type": "stream",
     "text": [
      "Collecting snowflake-connector-python\n",
      "\u001b[?25l  Downloading https://files.pythonhosted.org/packages/bc/d1/e1708b8beea9604a7c6b5b96f48a6d863e0126d5439c638b6ee7e33641fd/snowflake_connector_python-2.3.8-cp36-cp36m-manylinux2010_x86_64.whl (12.2MB)\n",
      "\u001b[K     |████████████████████████████████| 12.2MB 8.1MB/s \n",
      "\u001b[?25hRequirement already satisfied: requests<3.0.0 in /usr/local/lib/python3.6/dist-packages (from snowflake-connector-python) (2.23.0)\n",
      "Requirement already satisfied: certifi>=2017.4.17 in /usr/local/lib/python3.6/dist-packages (from snowflake-connector-python) (2020.12.5)\n",
      "Requirement already satisfied: cffi<2.0.0,>=1.9 in /usr/local/lib/python3.6/dist-packages (from snowflake-connector-python) (1.14.4)\n",
      "Collecting pycryptodomex!=3.5.0,<4.0.0,>=3.2\n",
      "\u001b[?25l  Downloading https://files.pythonhosted.org/packages/ff/29/1541b26a2b679bafb124138c5f009ed7821d9d329536b79a313a9a1aa684/pycryptodomex-3.9.9-cp36-cp36m-manylinux1_x86_64.whl (13.7MB)\n",
      "\u001b[K     |████████████████████████████████| 13.7MB 279kB/s \n",
      "\u001b[?25hRequirement already satisfied: pytz<2021.0 in /usr/local/lib/python3.6/dist-packages (from snowflake-connector-python) (2018.9)\n",
      "Collecting cryptography<4.0.0,>=2.5.0\n",
      "\u001b[?25l  Downloading https://files.pythonhosted.org/packages/c9/de/7054df0620b5411ba45480f0261e1fb66a53f3db31b28e3aa52c026e72d9/cryptography-3.3.1-cp36-abi3-manylinux2010_x86_64.whl (2.6MB)\n",
      "\u001b[K     |████████████████████████████████| 2.6MB 55.8MB/s \n",
      "\u001b[?25hCollecting asn1crypto<2.0.0,>0.24.0\n",
      "\u001b[?25l  Downloading https://files.pythonhosted.org/packages/b5/a8/56be92dcd4a5bf1998705a9b4028249fe7c9a035b955fe93b6a3e5b829f8/asn1crypto-1.4.0-py2.py3-none-any.whl (104kB)\n",
      "\u001b[K     |████████████████████████████████| 112kB 48.1MB/s \n",
      "\u001b[?25hCollecting azure-common<2.0.0\n",
      "  Downloading https://files.pythonhosted.org/packages/19/2b/46ada1753c4a640bc3ad04a1e20b1a5ea52a8f18079e1b8238e536aa0c98/azure_common-1.1.26-py2.py3-none-any.whl\n",
      "Collecting oscrypto<2.0.0\n",
      "\u001b[?25l  Downloading https://files.pythonhosted.org/packages/83/81/f3a737003ae1687f2bb615210a3fc5bdd4bcd34b0f723f2d97b5aa62ca86/oscrypto-1.2.1-py2.py3-none-any.whl (192kB)\n",
      "\u001b[K     |████████████████████████████████| 194kB 63.5MB/s \n",
      "\u001b[?25hRequirement already satisfied: setuptools>34.0.0 in /usr/local/lib/python3.6/dist-packages (from snowflake-connector-python) (51.1.1)\n",
      "Requirement already satisfied: chardet<4,>=3.0.2 in /usr/local/lib/python3.6/dist-packages (from snowflake-connector-python) (3.0.4)\n",
      "Requirement already satisfied: idna<3,>=2.5 in /usr/local/lib/python3.6/dist-packages (from snowflake-connector-python) (2.10)\n",
      "Collecting pyOpenSSL<20.0.0,>=16.2.0\n",
      "\u001b[?25l  Downloading https://files.pythonhosted.org/packages/9e/de/f8342b68fa9e981d348039954657bdf681b2ab93de27443be51865ffa310/pyOpenSSL-19.1.0-py2.py3-none-any.whl (53kB)\n",
      "\u001b[K     |████████████████████████████████| 61kB 9.2MB/s \n",
      "\u001b[?25hCollecting boto3<2.0.0,>=1.4.4\n",
      "\u001b[?25l  Downloading https://files.pythonhosted.org/packages/b3/7f/c7bafbc7db335f6c5194d9b948b0c6fcfe013d14026992150ee749fc5877/boto3-1.16.53-py2.py3-none-any.whl (130kB)\n",
      "\u001b[K     |████████████████████████████████| 133kB 37.0MB/s \n",
      "\u001b[?25hCollecting pyjwt<2.0.0\n",
      "  Downloading https://files.pythonhosted.org/packages/87/8b/6a9f14b5f781697e51259d81657e6048fd31a113229cf346880bb7545565/PyJWT-1.7.1-py2.py3-none-any.whl\n",
      "Collecting azure-storage-blob<13.0.0,>=12.0.0\n",
      "\u001b[?25l  Downloading https://files.pythonhosted.org/packages/e7/5d/0bb4ed37da2523c393789b1d8ecbf56b1d35fa344af30fe423da2c06cbe9/azure_storage_blob-12.6.0-py2.py3-none-any.whl (328kB)\n",
      "\u001b[K     |████████████████████████████████| 337kB 49.2MB/s \n",
      "\u001b[?25hRequirement already satisfied: urllib3!=1.25.0,!=1.25.1,<1.26,>=1.21.1 in /usr/local/lib/python3.6/dist-packages (from requests<3.0.0->snowflake-connector-python) (1.24.3)\n",
      "Requirement already satisfied: pycparser in /usr/local/lib/python3.6/dist-packages (from cffi<2.0.0,>=1.9->snowflake-connector-python) (2.20)\n",
      "Requirement already satisfied: six>=1.4.1 in /usr/local/lib/python3.6/dist-packages (from cryptography<4.0.0,>=2.5.0->snowflake-connector-python) (1.15.0)\n",
      "Collecting jmespath<1.0.0,>=0.7.1\n",
      "  Downloading https://files.pythonhosted.org/packages/07/cb/5f001272b6faeb23c1c9e0acc04d48eaaf5c862c17709d20e3469c6e0139/jmespath-0.10.0-py2.py3-none-any.whl\n",
      "Collecting s3transfer<0.4.0,>=0.3.0\n",
      "\u001b[?25l  Downloading https://files.pythonhosted.org/packages/ea/43/4b4a1b26eb03a429a4c37ca7fdf369d938bd60018fc194e94b8379b0c77c/s3transfer-0.3.4-py2.py3-none-any.whl (69kB)\n",
      "\u001b[K     |████████████████████████████████| 71kB 10.3MB/s \n",
      "\u001b[?25hCollecting botocore<1.20.0,>=1.19.53\n",
      "\u001b[?25l  Downloading https://files.pythonhosted.org/packages/a2/89/f2511851beb7d687ac45638a0e62b5cdeb0abca572ac7d3d250d6f4c888f/botocore-1.19.53-py2.py3-none-any.whl (7.2MB)\n",
      "\u001b[K     |████████████████████████████████| 7.2MB 50.6MB/s \n",
      "\u001b[?25hCollecting azure-core<2.0.0,>=1.9.0\n",
      "\u001b[?25l  Downloading https://files.pythonhosted.org/packages/12/9e/6bb67fe85f6a89d71f50c86a0da778a5064f749a485ed9ba498067034227/azure_core-1.10.0-py2.py3-none-any.whl (125kB)\n",
      "\u001b[K     |████████████████████████████████| 133kB 56.2MB/s \n",
      "\u001b[?25hCollecting msrest>=0.6.10\n",
      "\u001b[?25l  Downloading https://files.pythonhosted.org/packages/fa/f5/9e315fe8cb985b0ce052b34bcb767883dc739f46fadb62f05a7e6d6eedbe/msrest-0.6.19-py2.py3-none-any.whl (84kB)\n",
      "\u001b[K     |████████████████████████████████| 92kB 11.7MB/s \n",
      "\u001b[?25hRequirement already satisfied: python-dateutil<3.0.0,>=2.1 in /usr/local/lib/python3.6/dist-packages (from botocore<1.20.0,>=1.19.53->boto3<2.0.0,>=1.4.4->snowflake-connector-python) (2.8.1)\n",
      "Requirement already satisfied: requests-oauthlib>=0.5.0 in /usr/local/lib/python3.6/dist-packages (from msrest>=0.6.10->azure-storage-blob<13.0.0,>=12.0.0->snowflake-connector-python) (1.3.0)\n",
      "Collecting isodate>=0.6.0\n",
      "\u001b[?25l  Downloading https://files.pythonhosted.org/packages/9b/9f/b36f7774ff5ea8e428fdcfc4bb332c39ee5b9362ddd3d40d9516a55221b2/isodate-0.6.0-py2.py3-none-any.whl (45kB)\n",
      "\u001b[K     |████████████████████████████████| 51kB 7.8MB/s \n",
      "\u001b[?25hRequirement already satisfied: oauthlib>=3.0.0 in /usr/local/lib/python3.6/dist-packages (from requests-oauthlib>=0.5.0->msrest>=0.6.10->azure-storage-blob<13.0.0,>=12.0.0->snowflake-connector-python) (3.1.0)\n",
      "\u001b[31mERROR: botocore 1.19.53 has requirement urllib3<1.27,>=1.25.4; python_version != \"3.4\", but you'll have urllib3 1.24.3 which is incompatible.\u001b[0m\n",
      "Installing collected packages: pycryptodomex, cryptography, asn1crypto, azure-common, oscrypto, pyOpenSSL, jmespath, botocore, s3transfer, boto3, pyjwt, azure-core, isodate, msrest, azure-storage-blob, snowflake-connector-python\n",
      "Successfully installed asn1crypto-1.4.0 azure-common-1.1.26 azure-core-1.10.0 azure-storage-blob-12.6.0 boto3-1.16.53 botocore-1.19.53 cryptography-3.3.1 isodate-0.6.0 jmespath-0.10.0 msrest-0.6.19 oscrypto-1.2.1 pyOpenSSL-19.1.0 pycryptodomex-3.9.9 pyjwt-1.7.1 s3transfer-0.3.4 snowflake-connector-python-2.3.8\n"
     ]
    }
   ],
   "source": [
    "!pip install snowflake-connector-python\n",
    "import pandas as pd\n",
    "import snowflake.connector"
   ]
  },
  {
   "cell_type": "code",
   "execution_count": null,
   "metadata": {
    "id": "C6LA_eu_bEZi"
   },
   "outputs": [],
   "source": [
    "# write to snowflake\n",
    "conn = snowflake.connector.connect(\n",
    "                user=\"os.environ.get('SNOWFLAKE_USER')\",\n",
    "                password=\"os.environ.get('SNOWFLAKE_PASS')\",\n",
    "                account=\"os.environ.get('SNOWFLAKE_ACC')\",\n",
    "                database=\"os.environ.get('SNOWFLAKE_DB')\",\n",
    "                schema=\"os.environ.get('SNOWFLAKE_SCHEMA')\")"
   ]
  },
  {
   "cell_type": "code",
   "execution_count": null,
   "metadata": {
    "id": "yqrUoBq-bEZj"
   },
   "outputs": [],
   "source": [
    "cur = conn.cursor()"
   ]
  },
  {
   "cell_type": "code",
   "execution_count": null,
   "metadata": {
    "colab": {
     "base_uri": "https://localhost:8080/"
    },
    "id": "QcVOvCD3cdP_",
    "outputId": "891369a2-82de-4d07-f512-a85b583c43a0"
   },
   "outputs": [
    {
     "data": {
      "text/plain": [
       "<snowflake.connector.cursor.SnowflakeCursor at 0x7f8f1979fa20>"
      ]
     },
     "execution_count": 18,
     "metadata": {
      "tags": []
     },
     "output_type": "execute_result"
    }
   ],
   "source": [
    "cur.execute('USE WAREHOUSE AFTERSPOT_WH')"
   ]
  },
  {
   "cell_type": "code",
   "execution_count": null,
   "metadata": {
    "colab": {
     "base_uri": "https://localhost:8080/"
    },
    "id": "OCi0PhbFc2JC",
    "outputId": "bc9b58a3-c554-4272-dcd4-e80c15c8dac7"
   },
   "outputs": [
    {
     "data": {
      "text/plain": [
       "<snowflake.connector.cursor.SnowflakeCursor at 0x7f8f1979fa20>"
      ]
     },
     "execution_count": 20,
     "metadata": {
      "tags": []
     },
     "output_type": "execute_result"
    }
   ],
   "source": [
    "cur.execute(\"put file://{} @{} auto_compress=true\".format('channel.csv', 'TEST'))"
   ]
  },
  {
   "cell_type": "code",
   "execution_count": null,
   "metadata": {
    "colab": {
     "base_uri": "https://localhost:8080/"
    },
    "id": "p-i3D41ac7cK",
    "outputId": "60a94fd8-33ae-4572-a673-0d2bf0212b3c"
   },
   "outputs": [
    {
     "data": {
      "text/plain": [
       "<snowflake.connector.cursor.SnowflakeCursor at 0x7f8f1979fa20>"
      ]
     },
     "execution_count": 27,
     "metadata": {
      "tags": []
     },
     "output_type": "execute_result"
    }
   ],
   "source": [
    "cur.execute(\"COPY INTO DIM_CHANNEL FROM @test/channel.csv.gz FILE_FORMAT=(TYPE=csv field_delimiter=',' skip_header=1)\")"
   ]
  }
 ],
 "metadata": {
  "colab": {
   "name": "playout_01.ipynb",
   "provenance": []
  },
  "kernelspec": {
   "display_name": "Python 3",
   "language": "python",
   "name": "python3"
  },
  "language_info": {
   "codemirror_mode": {
    "name": "ipython",
    "version": 3
   },
   "file_extension": ".py",
   "mimetype": "text/x-python",
   "name": "python",
   "nbconvert_exporter": "python",
   "pygments_lexer": "ipython3",
   "version": "3.7.4"
  }
 },
 "nbformat": 4,
 "nbformat_minor": 1
}
